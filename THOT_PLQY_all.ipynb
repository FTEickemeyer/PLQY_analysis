{
 "cells": [
  {
   "cell_type": "markdown",
   "metadata": {},
   "source": [
    "# **PLQY_all**\n",
    "\n",
    "_by Felix Eickemeyer_\n",
    "\n",
    "Evaluation of all absolute PLQY data."
   ]
  },
  {
   "cell_type": "code",
   "execution_count": null,
   "metadata": {},
   "outputs": [],
   "source": [
    "import os\n",
    "import shutil\n",
    "\n",
    "import pandas as pd\n",
    "from thot import ThotProject\n",
    "\n",
    "from FTE_analysis_libraries import General as gen\n",
    "from FTE_analysis_libraries import PLQY as lqy\n",
    "from FTE_analysis_libraries import Spectrum as spc"
   ]
  },
  {
   "cell_type": "markdown",
   "metadata": {},
   "source": [
    "#### Initializes Thot project"
   ]
  },
  {
   "cell_type": "code",
   "execution_count": null,
   "metadata": {},
   "outputs": [],
   "source": [
    "db = ThotProject(dev_root = 'PLQY_results')"
   ]
  },
  {
   "cell_type": "code",
   "execution_count": null,
   "metadata": {},
   "outputs": [],
   "source": [
    "samples = db.find_assets( { 'type': 'absolute PL spectrum' } )\n",
    "samples.sort( key = lambda asset: asset.name.lower() )  # by default, sort samples by name\n",
    "for idx, sample in enumerate( samples ):\n",
    "    A = sample.metadata[ 'A' ]\n",
    "    PLQY = sample.metadata[ 'PLQY' ]\n",
    "    if True and db.dev_mode():\n",
    "        print(f'{idx}: {sample.name.split( \"_absolute\" )[ 0 ] }, A = {A:.1e}, PLQY = {PLQY:.1e}' )    "
   ]
  },
  {
   "cell_type": "markdown",
   "metadata": {},
   "source": [
    "#### Select samples and change order"
   ]
  },
  {
   "cell_type": "code",
   "execution_count": null,
   "metadata": {},
   "outputs": [],
   "source": [
    "do_this_step = True\n",
    "if do_this_step and db.dev_mode():\n",
    "    order = [ 0, 1, 2, 3, 4, 5 ]\n",
    "    \n",
    "    samples = [\n",
    "        samples[ order[ idx ] ] \n",
    "        for idx in range( len( order ) )\n",
    "    ]\n",
    "    \n",
    "    for idx, sample in enumerate( samples ):\n",
    "        print( f'{idx}: {sample.name}' )\n",
    "        \n",
    "    do_this_step = False"
   ]
  },
  {
   "cell_type": "code",
   "execution_count": null,
   "metadata": {},
   "outputs": [],
   "source": [
    "def load_spectrum( asset ):\n",
    "    return spc.PEL_spectrum.load(\n",
    "        os.path.dirname( asset.file ),\n",
    "        FN = os.path.basename( asset.file ),\n",
    "        take_quants_and_units_from_file = True\n",
    "    )\n",
    "\n",
    "sa = [ load_spectrum( sample ) for sample in samples ]"
   ]
  },
  {
   "cell_type": "code",
   "execution_count": null,
   "metadata": {},
   "outputs": [],
   "source": [
    "allPL = spc.PEL_spectra( sa )\n",
    "allPL.names_to_label()\n",
    "\n",
    "new_labels = []\n",
    "strlen = int( max( [\n",
    "    len( samples[ idx ].name.split( '_absolute' )[ 0 ] ) \n",
    "    for idx in range( len( samples ) )\n",
    "] ) )\n",
    "\n",
    "for idx in range( len( samples ) ):\n",
    "    allPL.sa[idx].plotstyle = dict(\n",
    "        color = gen.colors[ idx ],\n",
    "        linewidth = 5,\n",
    "        linestyle = '-'\n",
    "    )\n",
    "    \n",
    "    sm = samples[ idx ].metadata\n",
    "    A = sm[ 'A' ]\n",
    "    PLQY = sm[ 'PLQY' ]\n",
    "    s_name = samples[ idx ].name.split( '_absolute' )[ 0 ]\n",
    "    new_labels.append(s_name)\n",
    "    PF = allPL.sa[ idx ].photonflux( start = 700, stop = 900 )\n",
    "    \n",
    "    if db.dev_mode():\n",
    "        print( f'{s_name.ljust(strlen+1)}: A = {A:.1e}, PLQY = {PLQY:.1e}, PF = {PF:.1e} 1/(s m2)' )\n",
    "\n",
    "change_plotstyle = False\n",
    "if change_plotstyle:\n",
    "    allPL.sa[0].plotstyle = dict(color = gen.colors[0], linewidth = 5, linestyle = '-')\n",
    "    allPL.sa[1].plotstyle = dict(color = gen.colors[0], linewidth = 5, linestyle = '-')\n",
    "    allPL.sa[2].plotstyle = dict(color = gen.colors[1], linewidth = 5, linestyle = '-')\n",
    "    allPL.sa[3].plotstyle = dict(color = gen.colors[1], linewidth = 5, linestyle = '-')\n",
    "    allPL.sa[4].plotstyle = dict(color = gen.colors[2], linewidth = 5, linestyle = '-')\n",
    "    allPL.sa[5].plotstyle = dict(color = gen.colors[2], linewidth = 5, linestyle = '-')\n",
    "    allPL.sa[6].plotstyle = dict(color = gen.colors[3], linewidth = 5, linestyle = '-')\n",
    "    allPL.sa[7].plotstyle = dict(color = gen.colors[3], linewidth = 5, linestyle = '-')\n",
    "    allPL.sa[8].plotstyle = dict(color = gen.colors[4], linewidth = 5, linestyle = '-')\n",
    "    allPL.sa[9].plotstyle = dict(color = gen.colors[4], linewidth = 5, linestyle = '-')\n",
    "    allPL.sa[10].plotstyle = dict(color = gen.colors[5], linewidth = 5, linestyle = '-')\n",
    "    #allPL.sa[11].plotstyle = dict(color = gen.colors[2], linewidth = 5, linestyle = '-')\n",
    "    #allPL.sa[12].plotstyle = dict(color = gen.colors[2], linewidth = 5, linestyle = '-')\n",
    "    #allPL.sa[13].plotstyle = dict(color = gen.colors[2], linewidth = 5, linestyle = '-')\n",
    "    #allPL.sa[14].plotstyle = dict(color = gen.colors[2], linewidth = 5, linestyle = '-')\n",
    "    change_plotstyle = False\n",
    "    \n",
    "change_plotstyle = False\n",
    "if change_plotstyle:\n",
    "    for idx, sp in enumerate(allPL.sa):\n",
    "        if idx < 5:\n",
    "            sp.plotstyle = dict(color = gen.colors[0], linewidth = 5, linestyle = '-')\n",
    "#        elif idx < 12:\n",
    "#            sp.plotstyle = dict(color = gen.colors[1], linewidth = 5, linestyle = '-')\n",
    "#        elif idx < 17:\n",
    "#            sp.plotstyle = dict(color = gen.colors[2], linewidth = 5, linestyle = '-')            \n",
    "        else:\n",
    "            sp.plotstyle = dict(color = gen.colors[1], linewidth = 5, linestyle = '-')            \n",
    "    change_plotstyle = False\n",
    "\n",
    "\n",
    "# plot all spectra, lin scale\n",
    "# allPL.label(['s1', 's2', 's3', 's4', 's6'])\n",
    "allPL.label( new_labels )\n",
    "all_graph = allPL.plot(\n",
    "    bottom = 0,\n",
    "    plotstyle = 'individual',\n",
    "    figsize = ( 8, 6 ),\n",
    "    return_fig = True,\n",
    "    show_plot = False\n",
    ")\n",
    "\n",
    "FN_lin = 'all_absolute_PL_spectra_linear.png'\n",
    "lqy.add_graph( db, FN_lin, all_graph, asset_props = { 'tags': [ 'share' ] } )\n",
    "\n",
    "# plot all spectra, log scale\n",
    "all_graph_log = allPL.plot(\n",
    "    yscale = 'log',\n",
    "    divisor = 1e3,\n",
    "    plotstyle = 'individual',\n",
    "    figsize = ( 8, 6 ),\n",
    "    return_fig = True,\n",
    "    show_plot = False\n",
    ")\n",
    "\n",
    "FN_log = 'all_absolute_PL_spectra_semilog.png'\n",
    "lqy.add_graph( db, FN_log, all_graph_log, asset_props = { 'tags': [ 'share' ] } )"
   ]
  },
  {
   "cell_type": "code",
   "execution_count": null,
   "metadata": {},
   "outputs": [],
   "source": [
    "names = []\n",
    "A_arr = []\n",
    "PLQY_arr = []\n",
    "peak_arr = []\n",
    "Eg_arr = []\n",
    "Vsq_arr = []\n",
    "dV_arr = []\n",
    "QFLS_arr = []\n",
    "adj_fac_arr = []\n",
    "fs_absint_fac_arr = []\n",
    "for sample in samples:\n",
    "    sm = sample.metadata\n",
    "    names.append( sample.name.split( '_absolute' )[ 0 ] )\n",
    "    A_arr.append( sm[ 'A' ] )\n",
    "    PLQY_arr.append( sm[ 'PLQY' ] )\n",
    "    peak_arr.append( sm[ 'Peak' ] )\n",
    "    Eg_arr.append( sm[ 'Eg' ] )\n",
    "    Vsq_arr.append( sm[ 'Vsq' ] )\n",
    "    dV_arr.append( sm[ 'dV' ] )\n",
    "    QFLS_arr.append( sm[ 'QFLS' ] )\n",
    "    adj_fac_arr.append( sm[ 'adj_fac' ] )\n",
    "    fs_absint_fac_arr.append( sm[ 'fs_absint_factor' ] )"
   ]
  },
  {
   "cell_type": "markdown",
   "metadata": {},
   "source": [
    "### Save PLQY data"
   ]
  },
  {
   "cell_type": "code",
   "execution_count": null,
   "metadata": {},
   "outputs": [],
   "source": [
    "do_this_step = True\n",
    "if do_this_step:\n",
    "    df = pd.DataFrame( {\n",
    "        'Sample': names,\n",
    "        'A': A_arr,\n",
    "        'PLQY': PLQY_arr,\n",
    "        'PL_peak (nm)': peak_arr,\n",
    "        'Eg (eV)': Eg_arr,\n",
    "        'Vsq (V)': Vsq_arr,\n",
    "        'delta V (V)': dV_arr,\n",
    "        'QFLS/q (V)': QFLS_arr,\n",
    "        'fs-inb adjustment factor': adj_fac_arr,\n",
    "        'fs-absolute intensity factor': fs_absint_fac_arr\n",
    "    } )\n",
    "\n",
    "    directory = os.path.dirname( samples[ 0 ].file )\n",
    "    FN = 'PLQY.csv'\n",
    "    # if save_ok(join(directory, FN)):\n",
    "    #    df.to_csv(join(directory, FN), header = True, index = False)\n",
    "        \n",
    "    asset_prop = { 'name': f'csv_{FN}', 'type': 'csv', 'file': FN, 'tags': [ 'share' ] }\n",
    "    asset_filepath = db.add_asset( asset_prop )\n",
    "    df.to_csv( asset_filepath, header = True, index = False )\n",
    "    do_this_step = False"
   ]
  },
  {
   "cell_type": "markdown",
   "metadata": {},
   "source": [
    "#### Save extracted data to share"
   ]
  },
  {
   "cell_type": "code",
   "execution_count": null,
   "metadata": {},
   "outputs": [],
   "source": [
    "if True and db.dev_mode():\n",
    "    %run 'THOT_extract_share_data.py'"
   ]
  }
 ],
 "metadata": {
  "kernelspec": {
   "display_name": "Python 3 (ipykernel)",
   "language": "python",
   "name": "python3"
  },
  "language_info": {
   "codemirror_mode": {
    "name": "ipython",
    "version": 3
   },
   "file_extension": ".py",
   "mimetype": "text/x-python",
   "name": "python",
   "nbconvert_exporter": "python",
   "pygments_lexer": "ipython3",
   "version": "3.8.8"
  }
 },
 "nbformat": 4,
 "nbformat_minor": 4
}
