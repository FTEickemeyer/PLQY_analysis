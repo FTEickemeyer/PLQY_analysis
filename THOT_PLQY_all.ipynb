{
 "cells": [
  {
   "cell_type": "markdown",
   "metadata": {},
   "source": [
    "# **PLQY_all**\n",
    "\n",
    "_by Felix Eickemeyer_\n",
    "\n",
    "Evaluation of all absolute PLQY data."
   ]
  },
  {
   "cell_type": "code",
   "execution_count": null,
   "metadata": {},
   "outputs": [],
   "source": [
    "import os\n",
    "from os import getcwd, listdir\n",
    "import pandas as pd\n",
    "import thot\n",
    "from thot import ThotProject\n",
    "from importlib import reload\n",
    "\n",
    "from FTE_analysis_libraries import General as gen\n",
    "from FTE_analysis_libraries import PLQY as lqy\n",
    "from FTE_analysis_libraries import Spectrum as spc"
   ]
  },
  {
   "cell_type": "code",
   "execution_count": null,
   "metadata": {},
   "outputs": [],
   "source": [
    "# Initializes Thot project\n",
    "db = ThotProject( dev_root = r'PLQY_results' )"
   ]
  },
  {
   "cell_type": "code",
   "execution_count": null,
   "metadata": {},
   "outputs": [],
   "source": [
    "samples = db.find_assets({'type': 'absolute PL spectrum'})\n",
    "for idx, sample in enumerate(samples):\n",
    "    A = sample.metadata[\"A\"]\n",
    "    PLQY = sample.metadata[\"PLQY\"]    \n",
    "    print(f'{idx:2}: {sample.name.split(\"_absolute\")[0]}, A = {A:.1e}, PLQY = {PLQY:.1e}')    "
   ]
  },
  {
   "cell_type": "code",
   "execution_count": null,
   "metadata": {},
   "outputs": [],
   "source": [
    "#Select samples and change order\n",
    "do_this_step = True\n",
    "if do_this_step:\n",
    "    samples = db.find_assets({'type' : 'absolute PL spectrum'})\n",
    "    #order = [20, 21, 17, 18] #references\n",
    "    #order = [20, 21, 6, 7, 0, 1, 4, 5, 2, 3, 19] #no OAI\n",
    "    order = [17, 18, 14, 15, 10, 11, 12, 13, 8, 9, 16] #with OAI\n",
    "\n",
    "    #order = [3, 4, 1, 2, 0, 14, 15, 16, 17] #without OAI, without spiro\n",
    "    #order = [5, 6, 7, 8] #without OAI, with spiro\n",
    "    #order = [9, 20, 21, 18, 19, 10, 11, 12, 13, 22, 23] #with OAI\n",
    "    \n",
    "    samples_new = [samples[order[idx]] for idx in range(len(order))]\n",
    "    for idx, sample in enumerate(samples_new):\n",
    "        print(f'{idx:2}: {sample.name}')\n",
    "    do_this_step = False\n",
    "else:\n",
    "    samples_new = samples"
   ]
  },
  {
   "cell_type": "code",
   "execution_count": null,
   "metadata": {},
   "outputs": [],
   "source": [
    "samples = samples_new\n",
    "def load_spectrum(asset):\n",
    "    #return spc.PEL_spectrum.load(os.path.dirname(asset.file), FN = os.path.basename(asset.file), take_quants_and_units_from_file = True)\n",
    "    return spc.PEL_spectrum.load(os.path.dirname(asset.file), FN = os.path.basename(asset.file), take_quants_and_units_from_file = True)\n",
    "sa = []\n",
    "for idx, sample in enumerate(samples):\n",
    "    sa.append(load_spectrum(sample))\n",
    "    print(f'{idx:2}: {sample.name}')"
   ]
  },
  {
   "cell_type": "code",
   "execution_count": null,
   "metadata": {},
   "outputs": [],
   "source": [
    "allPL = spc.PEL_spectra(sa)\n",
    "allPL.names_to_label()\n",
    "\n",
    "new_labels = []\n",
    "strlen = int(max([len(samples[idx].name.split('_absolute')[0]) for idx in range(len(samples))]))\n",
    "for idx in range(len(samples)):\n",
    "    allPL.sa[idx].plotstyle = dict(color = gen.colors[idx], linewidth = 5, linestyle = '-')\n",
    "    sm = samples[idx].metadata\n",
    "    A = sm['A']\n",
    "    PLQY = sm['PLQY']\n",
    "    s_name = samples[idx].name.split('_absolute')[0]\n",
    "    new_labels.append(s_name)\n",
    "    PF = allPL.sa[idx].photonflux(start = 700, stop = 900)\n",
    "    print(f'{s_name.ljust(strlen+1)}: A = {A:.1e}, PLQY = {PLQY:.1e}, PF = {PF:.1e} 1/(s m2)')\n",
    "\n",
    "change_plotstyle = True\n",
    "if change_plotstyle:\n",
    "    allPL.sa[0].plotstyle = dict(color = gen.colors[0], linewidth = 5, linestyle = '-')\n",
    "    allPL.sa[1].plotstyle = dict(color = gen.colors[0], linewidth = 5, linestyle = '-')\n",
    "    allPL.sa[2].plotstyle = dict(color = gen.colors[1], linewidth = 5, linestyle = '-')\n",
    "    allPL.sa[3].plotstyle = dict(color = gen.colors[1], linewidth = 5, linestyle = '-')\n",
    "    allPL.sa[4].plotstyle = dict(color = gen.colors[2], linewidth = 5, linestyle = '-')\n",
    "    allPL.sa[5].plotstyle = dict(color = gen.colors[2], linewidth = 5, linestyle = '-')\n",
    "    allPL.sa[6].plotstyle = dict(color = gen.colors[3], linewidth = 5, linestyle = '-')\n",
    "    allPL.sa[7].plotstyle = dict(color = gen.colors[3], linewidth = 5, linestyle = '-')\n",
    "    allPL.sa[8].plotstyle = dict(color = gen.colors[4], linewidth = 5, linestyle = '-')\n",
    "    allPL.sa[9].plotstyle = dict(color = gen.colors[4], linewidth = 5, linestyle = '-')\n",
    "    allPL.sa[10].plotstyle = dict(color = gen.colors[5], linewidth = 5, linestyle = '-')\n",
    "    #allPL.sa[11].plotstyle = dict(color = gen.colors[2], linewidth = 5, linestyle = '-')\n",
    "    #allPL.sa[12].plotstyle = dict(color = gen.colors[2], linewidth = 5, linestyle = '-')\n",
    "    #allPL.sa[13].plotstyle = dict(color = gen.colors[2], linewidth = 5, linestyle = '-')\n",
    "    #allPL.sa[14].plotstyle = dict(color = gen.colors[2], linewidth = 5, linestyle = '-')\n",
    "\n",
    "#allPL.label(['s1', 's2', 's3', 's4', 's6'])\n",
    "allPL.label(new_labels)\n",
    "all_graph = allPL.plot(bottom = 0, plotstyle = 'individual', figsize = (8, 6), return_fig = True, show_plot = False)\n",
    "allPL.plot(yscale = 'log', divisor = 1e3, plotstyle = 'individual', figsize = (8, 6))\n",
    "#lqy.add_graph(db, 'all_htl-per-345_without_and_with_C60.png', all_graph)\n",
    "lqy.add_graph(db, 'all_absolute_PL_spectra_.png', all_graph)\n",
    "del all_graph\n"
   ]
  },
  {
   "cell_type": "code",
   "execution_count": null,
   "metadata": {},
   "outputs": [],
   "source": [
    "names = []\n",
    "A_arr = []\n",
    "PLQY_arr = []\n",
    "peak_arr = []\n",
    "Eg_arr = []\n",
    "Vsq_arr = []\n",
    "dV_arr = []\n",
    "QFLS_arr = []\n",
    "adj_fac_arr = []\n",
    "fs_absint_fac_arr = []\n",
    "for sample in samples:\n",
    "    #print(sample.name.split('_absolute')[0])\n",
    "    sm = sample.metadata\n",
    "    #print(sm)\n",
    "    names.append(sample.name.split('_absolute')[0])\n",
    "    A_arr.append(sm['A'])\n",
    "    PLQY_arr.append(sm['PLQY'])\n",
    "    peak_arr.append(sm['Peak'])\n",
    "    Eg_arr.append(sm['Eg'])\n",
    "    Vsq_arr.append(sm['Vsq'])\n",
    "    dV_arr.append(sm['dV'])\n",
    "    QFLS_arr.append(sm['QFLS'])\n",
    "    adj_fac_arr.append(sm['adj_fac'])\n",
    "    fs_absint_fac_arr.append(sm['fs_absint_factor'])    "
   ]
  },
  {
   "cell_type": "code",
   "execution_count": null,
   "metadata": {},
   "outputs": [],
   "source": [
    "# Save PLQY data\n",
    "do_this_step = True\n",
    "\n",
    "if do_this_step:\n",
    "\n",
    "    df = pd.DataFrame({'Sample' : names, 'A' : A_arr, 'PLQY' : PLQY_arr, 'PL_peak (nm)' : peak_arr, 'Eg (eV)' : Eg_arr, 'Vsq (V)' : Vsq_arr, 'delta V (V)': dV_arr, 'QFLS/q (V)' : QFLS_arr, 'fs-inb adjustment factor' : adj_fac_arr, 'fs-absolute intensity factor' : fs_absint_fac_arr})\n",
    "\n",
    "    directory = os.path.dirname(samples[0].file) \n",
    "    FN = 'PLQY.csv'\n",
    "    #if save_ok(join(directory, FN)):\n",
    "    #    df.to_csv(join(directory, FN), header = True, index = False)\n",
    "        \n",
    "    asset_prop = dict(name = 'csv_'+FN, type = 'csv', file = FN)\n",
    "    asset_filepath = db.add_asset(asset_prop)\n",
    "    df.to_csv(asset_filepath, header = True, index = False)\n",
    "    do_this_step = False"
   ]
  },
  {
   "cell_type": "code",
   "execution_count": null,
   "metadata": {},
   "outputs": [],
   "source": [
    "#Save all data in exchange folder\n",
    "exch_dir = os.path.join(db.root, 'exchange')\n",
    "\n",
    "try:\n",
    "    os.makedirs(exch_dir, exist_ok = True)\n",
    "except OSError as error:\n",
    "    print(\"Directory '%s' can not be created\" % exch_dir)\n",
    "    \n",
    "import shutil\n",
    "\n",
    "# PLQY.csv\n",
    "src = asset_filepath\n",
    "FN = os.path.basename(asset_filepath)\n",
    "dst =  os.path.join(exch_dir, FN)\n",
    "shutil.copyfile(src, dst)\n",
    "\n",
    "# absolute PL spectra\n",
    "for idx, sample in enumerate(samples):\n",
    "    src = sample.file\n",
    "    FN = os.path.basename(sample.file)\n",
    "    dst =  os.path.join(exch_dir, FN)\n",
    "    shutil.copyfile(src, dst)"
   ]
  },
  {
   "cell_type": "code",
   "execution_count": null,
   "metadata": {},
   "outputs": [],
   "source": []
  }
 ],
 "metadata": {
  "kernelspec": {
   "display_name": "Python 3 (ipykernel)",
   "language": "python",
   "name": "python3"
  },
  "language_info": {
   "codemirror_mode": {
    "name": "ipython",
    "version": 3
   },
   "file_extension": ".py",
   "mimetype": "text/x-python",
   "name": "python",
   "nbconvert_exporter": "python",
   "pygments_lexer": "ipython3",
   "version": "3.8.12"
  }
 },
 "nbformat": 4,
 "nbformat_minor": 4
}
