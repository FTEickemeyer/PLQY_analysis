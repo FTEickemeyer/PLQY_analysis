{
 "cells": [
  {
   "cell_type": "code",
   "execution_count": 1,
   "id": "61278a13-bf84-484d-8e0f-4031bd3d99ce",
   "metadata": {},
   "outputs": [],
   "source": [
    "import os\n",
    "import shutil\n",
    "\n",
    "from FTE_analysis_libraries import General as gen\n",
    "\n",
    "working_dir = os.getcwd()\n",
    "source_dir = os.path.join(working_dir, 'PLQY_results - template')\n",
    "destination_dir = os.path.join(working_dir, 'PLQY_results')"
   ]
  },
  {
   "cell_type": "code",
   "execution_count": 2,
   "id": "ad9b5f60-404b-4be6-95f1-6cb82e66e944",
   "metadata": {},
   "outputs": [],
   "source": [
    "# delete all files in source_dir\n",
    "\n",
    "for root, dirs, files in os.walk(destination_dir):\n",
    "    for file in files:\n",
    "        filepath = os.path.join(root, file)\n",
    "        try:\n",
    "            os.remove(gen.win_long_fp(filepath))\n",
    "            #print(f'removed: {file}')\n",
    "        except OSError as error:\n",
    "            #print(error)\n",
    "            pass"
   ]
  },
  {
   "cell_type": "code",
   "execution_count": 3,
   "id": "08fd730a-f786-4f74-9359-6bbbadd84545",
   "metadata": {},
   "outputs": [],
   "source": [
    "# now delete all directories\n",
    "\n",
    "for i in range(3): # We have 3 directory layers\n",
    "    for root, dirs, files in os.walk(destination_dir):\n",
    "        for directory in dirs:\n",
    "            directory = os.path.join(root, directory)\n",
    "            try:\n",
    "                os.rmdir(gen.win_long_fp(directory))\n",
    "                #print(\"Directory '% s' has been removed successfully\" % directory)\n",
    "            except OSError as error:\n",
    "                #print(error)\n",
    "                #print(\"Directory '% s' can not be removed\" % directory)\n",
    "                pass"
   ]
  },
  {
   "cell_type": "code",
   "execution_count": 4,
   "id": "2b7eb824-3ed7-4961-b65e-1333e4d653d6",
   "metadata": {},
   "outputs": [],
   "source": [
    "# copy directories\n",
    "\n",
    "for root, dirs, files in os.walk(source_dir):\n",
    "    rel_root = gen.win_long_fp(os.path.relpath(root, source_dir))\n",
    "    for directory in dirs:\n",
    "        dir_new = gen.win_long_fp(os.path.join(destination_dir, rel_root, directory))\n",
    "        if not os.path.exists(dir_new):\n",
    "            os.mkdir(dir_new)"
   ]
  },
  {
   "cell_type": "code",
   "execution_count": 5,
   "id": "05277977-79ab-40d2-b8b9-4fb508fa2160",
   "metadata": {},
   "outputs": [],
   "source": [
    "# copy files\n",
    "\n",
    "for root, dirs, files in os.walk(source_dir):\n",
    "    rel_root = gen.win_long_fp(os.path.relpath(root, source_dir))\n",
    "    for file in files:\n",
    "        fp_dst = gen.win_long_fp(os.path.join(destination_dir, rel_root, file))\n",
    "        if not os.path.exists(fp_dst):\n",
    "            fp_src = gen.win_long_fp(os.path.join(root, file))\n",
    "            shutil.copyfile(fp_src, fp_dst)"
   ]
  },
  {
   "cell_type": "code",
   "execution_count": null,
   "id": "48edb1ab-8f6c-4a29-a981-19c6bb43582c",
   "metadata": {},
   "outputs": [],
   "source": []
  }
 ],
 "metadata": {
  "kernelspec": {
   "display_name": "Python 3 (ipykernel)",
   "language": "python",
   "name": "python3"
  },
  "language_info": {
   "codemirror_mode": {
    "name": "ipython",
    "version": 3
   },
   "file_extension": ".py",
   "mimetype": "text/x-python",
   "name": "python",
   "nbconvert_exporter": "python",
   "pygments_lexer": "ipython3",
   "version": "3.9.13"
  }
 },
 "nbformat": 4,
 "nbformat_minor": 5
}
