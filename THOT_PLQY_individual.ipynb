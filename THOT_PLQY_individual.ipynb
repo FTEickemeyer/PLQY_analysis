{
 "cells": [
  {
   "cell_type": "markdown",
   "metadata": {},
   "source": [
    "# **PLQY_individual**\n",
    "\n",
    "_by Felix Eickemeyer_\n",
    "\n",
    "Calibration and correction has to be done before. "
   ]
  },
  {
   "cell_type": "code",
   "execution_count": 1,
   "metadata": {},
   "outputs": [],
   "source": [
    "import os\n",
    "from os import getcwd, listdir\n",
    "import thot\n",
    "from thot import ThotProject\n",
    "import importlib\n",
    "from importlib import reload\n",
    "\n",
    "from FTE_analysis_libraries import PLQY as lqy\n",
    "from FTE_analysis_libraries import Spectrum as spc\n",
    "from FTE_analysis_libraries.General import f1240, Vsq, V_loss, QFLS"
   ]
  },
  {
   "cell_type": "code",
   "execution_count": 2,
   "metadata": {},
   "outputs": [],
   "source": [
    "#Perovskite\n",
    "#which_sample = 'Haizhou-FAPbI3'\n",
    "which_sample = 'FAPbI3'\n",
    "\n",
    "#DSC\n",
    "#which_sample = 'Yameng DSC'\n",
    "#which_sample = 'dye on TiO2'\n",
    "#which_sample = 'dye on Al2O3'\n",
    "#which_sample = 'Coumarin 153'\n",
    "#which_sample = 'MS5'\n",
    "#which_sample = 'XY1b'\n",
    "\n",
    "param = lqy.exp_param(which_sample = which_sample, excitation_laser = None, PL_left = None, PL_right = None, PL_peak = None, corr_offs_left = 40, corr_offs_right = 50, PL_peak_auto = False, eval_Pb = False)\n",
    "#Schawaller, Salathe\n",
    "#param = lqy.exp_param(which_sample = None, excitation_laser = 657, PL_left = 705, PL_right = 1000, PL_peak = 720, corr_offs_left = 0, corr_offs_right = 10, PL_peak_auto = False, eval_Pb = False)"
   ]
  },
  {
   "cell_type": "code",
   "execution_count": 3,
   "metadata": {},
   "outputs": [],
   "source": [
    "# Initializes Thot project\n",
    "db = ThotProject( dev_root = r'PLQY_results' )"
   ]
  },
  {
   "cell_type": "code",
   "execution_count": 2,
   "metadata": {},
   "outputs": [],
   "source": [
    "<<<<<<< REMOTE CELL DELETED >>>>>>>\n",
    "# Initializes Thot project\n",
    "db = ThotProject( dev_root = '../double_perovskite_temperature_dependence/trial-06' )\n",
    "root = db.find_container( { '_id': db.root } )"
   ]
  },
  {
   "cell_type": "code",
   "execution_count": 4,
   "metadata": {},
   "outputs": [
    {
     "name": "stderr",
     "output_type": "stream",
     "text": [
      "<<<<<<< local\n"
     ]
    },
    {
     "name": "stdout",
     "output_type": "stream",
     "text": [
      "['9-back', '3-back', '2-back', '5-back', '7-back', '11-back']\n"
     ]
    },
    {
     "name": "stderr",
     "output_type": "stream",
     "text": [
      "=======\n"
     ]
    },
    {
     "data": {
      "text/plain": [
       "['per_Nopas_2_pos1',\n",
       " 'per_ResinI+PhoI_1_pos1',\n",
       " 'per_Nopas_1_pos2',\n",
       " 'per_Nopas_1_pos1',\n",
       " 'per_ResinI+PhoI_2_pos2',\n",
       " 'per_ResinI_1_pos2',\n",
       " 'per_ResinI_2_pos2',\n",
       " 'per_ResinI+PhoI_1_pos2',\n",
       " 'per_ResinI+PhoI_2_pos1',\n",
       " 'per_ResinI_2_pos1',\n",
       " 'per_Nopas_2_pos2',\n",
       " 'per_ResinI_1_pos1']"
      ]
     },
     "execution_count": 4,
     "metadata": {},
     "output_type": "execute_result"
    },
    {
     "name": "stderr",
     "output_type": "stream",
     "text": [
      ">>>>>>> remote\n"
     ]
    }
   ],
   "source": [
    "samples = db.find_assets({'type' : 'calibrated PL spectrum'})\n",
    "names = list({sample.metadata['name'] for sample in samples})\n",
    "<<<<<<< local\n",
    "if 'no sample' in names:\n",
    "    raise RuntimeError( 'No sample data not found.' )\n",
    "\n",
    "if 'exclude' in root.metadata:\n",
    "    for exc in root.metadata[ 'exclude' ]:\n",
    "        names.remove(exc)\n",
    "\n",
    "if db.dev_mode():\n",
    "    print( names )\n",
    "=======\n",
    "names.remove('no sample')\n",
    "names\n",
    ">>>>>>> remote"
   ]
  },
  {
   "cell_type": "code",
   "execution_count": 12,
   "metadata": {},
   "outputs": [
    {
     "name": "stderr",
     "output_type": "stream",
     "text": [
      "<<<<<<< local\n"
     ]
    },
    {
     "name": "stdout",
     "output_type": "stream",
     "text": [
      "Error: {'metadata.name': 'no sample', 'metadata.em_filter': '420BPF'} in assets not found!\n",
      "Error: {'metadata.name': 'no sample', 'metadata.em_filter': '450LPF'} in assets not found!\n"
     ]
    },
    {
     "name": "stderr",
     "output_type": "stream",
     "text": [
      "=======\n",
      ">>>>>>> remote\n",
      "<<<<<<< local <removed>\n",
      "=======\n"
     ]
    },
    {
     "name": "stdout",
     "output_type": "stream",
     "text": [
      "no sample--ip_laser--laser_657nm_3.5mW_OD1--Andor_0.02967s_50acc_300lmm_center850nm_650BPF.csv\n",
      "no sample--ip_laser--laser_657nm_3.5mW_OD1--Andor_0.02967s_50acc_300lmm_center850nm_700LPF.csv\n"
     ]
    },
    {
     "name": "stderr",
     "output_type": "stream",
     "text": [
      ">>>>>>> remote <modified: >\n"
     ]
    }
   ],
   "source": [
    "La = lqy.find({'metadata.name' : 'no sample', 'metadata.em_filter' : param.laser_marker}, samples, show_details = True)\n",
    "Pa = lqy.find({'metadata.name' : 'no sample', 'metadata.em_filter' : param.PL_marker}, samples, show_details = True)"
   ]
  },
  {
   "cell_type": "code",
   "execution_count": 6,
   "metadata": {},
   "outputs": [
    {
     "name": "stdout",
     "output_type": "stream",
     "text": [
      "____________________________\n",
      "per_Nopas_2_pos1\n",
      "per_Nopas_2_pos1--ip_outofbeam--laser_657nm_3.5mW_OD1--Andor_0.02967s_50acc_300lmm_center850nm_650BPF.csv\n",
      "per_Nopas_2_pos1--ip_inbeam--laser_657nm_3.5mW_OD1--Andor_0.02967s_50acc_300lmm_center850nm_650BPF.csv\n",
      "per_Nopas_2_pos1--ip_outofbeam--laser_657nm_3.5mW_OD1--Andor_0.02967s_50acc_300lmm_center850nm_700LPF.csv\n",
      "per_Nopas_2_pos1--ip_inbeam--laser_657nm_3.5mW_OD1--Andor_0.02967s_50acc_300lmm_center850nm_700LPF.csv\n",
      "per_Nopas_2_pos1--fs--laser_657nm_3.5mW_OD1--Andor_0.02967s_50acc_300lmm_center850nm_700LPF.csv\n",
      "La = 2.61e+16 1/(s m2)\n",
      "Lb = 2.16e+16 1/(s m2)\n",
      "Lc = 4.95e+15 1/(s m2)\n",
      "Pa = 0.00e+00 1/(s m2)\n",
      "Pb = 0.00e+00 1/(s m2)\n",
      "Pc = 4.27e+14 1/(s m2)\n",
      "A = 1 - Lc/Lb = 77.1 %\n",
      "PLQY = (Pc - (1 - A) * Pb) / (La * A) = 2.12e-02\n",
      "____________________________\n",
      "per_ResinI+PhoI_1_pos1\n",
      "per_ResinI+PhoI_1_pos1--ip_outofbeam--laser_657nm_3.5mW_OD1--Andor_0.02967s_50acc_300lmm_center850nm_650BPF.csv\n",
      "per_ResinI+PhoI_1_pos1--ip_inbeam--laser_657nm_3.5mW_OD1--Andor_0.02967s_50acc_300lmm_center850nm_650BPF.csv\n",
      "per_ResinI+PhoI_1_pos1--ip_outofbeam--laser_657nm_3.5mW_OD1--Andor_0.02967s_50acc_300lmm_center850nm_700LPF.csv\n",
      "per_ResinI+PhoI_1_pos1--ip_inbeam--laser_657nm_3.5mW_OD1--Andor_0.02967s_50acc_300lmm_center850nm_700LPF.csv\n",
      "per_ResinI+PhoI_1_pos1--fs--laser_657nm_3.5mW_OD1--Andor_0.02967s_50acc_300lmm_center850nm_700LPF.csv\n",
      "La = 2.61e+16 1/(s m2)\n",
      "Lb = 2.22e+16 1/(s m2)\n",
      "Lc = 5.41e+15 1/(s m2)\n",
      "Pa = 0.00e+00 1/(s m2)\n",
      "Pb = 0.00e+00 1/(s m2)\n",
      "Pc = 2.50e+14 1/(s m2)\n",
      "A = 1 - Lc/Lb = 75.7 %\n",
      "PLQY = (Pc - (1 - A) * Pb) / (La * A) = 1.27e-02\n",
      "____________________________\n",
      "per_Nopas_1_pos2\n",
      "per_Nopas_1_pos2--ip_outofbeam--laser_657nm_3.5mW_OD1--Andor_0.02967s_50acc_300lmm_center850nm_650BPF.csv\n",
      "per_Nopas_1_pos2--ip_inbeam--laser_657nm_3.5mW_OD1--Andor_0.02967s_50acc_300lmm_center850nm_650BPF.csv\n",
      "per_Nopas_1_pos2--ip_outofbeam--laser_657nm_3.5mW_OD1--Andor_0.02967s_50acc_300lmm_center850nm_700LPF.csv\n",
      "per_Nopas_1_pos2--ip_inbeam--laser_657nm_3.5mW_OD1--Andor_0.02967s_50acc_300lmm_center850nm_700LPF.csv\n",
      "per_Nopas_1_pos2--fs--laser_657nm_3.5mW_OD1--Andor_0.02967s_50acc_300lmm_center850nm_700LPF.csv\n",
      "La = 2.61e+16 1/(s m2)\n",
      "Lb = 2.15e+16 1/(s m2)\n",
      "Lc = 4.90e+15 1/(s m2)\n",
      "Pa = 0.00e+00 1/(s m2)\n",
      "Pb = 0.00e+00 1/(s m2)\n",
      "Pc = 4.44e+14 1/(s m2)\n",
      "A = 1 - Lc/Lb = 77.2 %\n",
      "PLQY = (Pc - (1 - A) * Pb) / (La * A) = 2.20e-02\n",
      "____________________________\n",
      "per_Nopas_1_pos1\n",
      "per_Nopas_1_pos1--ip_outofbeam--laser_657nm_3.5mW_OD1--Andor_0.02967s_50acc_300lmm_center850nm_650BPF.csv\n",
      "per_Nopas_1_pos1--ip_inbeam--laser_657nm_3.5mW_OD1--Andor_0.02967s_50acc_300lmm_center850nm_650BPF.csv\n",
      "per_Nopas_1_pos1--ip_outofbeam--laser_657nm_3.5mW_OD1--Andor_0.02967s_50acc_300lmm_center850nm_700LPF.csv\n",
      "per_Nopas_1_pos1--ip_inbeam--laser_657nm_3.5mW_OD1--Andor_0.02967s_50acc_300lmm_center850nm_700LPF.csv\n",
      "per_Nopas_1_pos1--fs--laser_657nm_3.5mW_OD1--Andor_0.02967s_50acc_300lmm_center850nm_700LPF.csv\n",
      "La = 2.61e+16 1/(s m2)\n",
      "Lb = 2.15e+16 1/(s m2)\n",
      "Lc = 4.66e+15 1/(s m2)\n",
      "Pa = 0.00e+00 1/(s m2)\n",
      "Pb = 0.00e+00 1/(s m2)\n",
      "Pc = 4.51e+14 1/(s m2)\n",
      "A = 1 - Lc/Lb = 78.3 %\n",
      "PLQY = (Pc - (1 - A) * Pb) / (La * A) = 2.21e-02\n",
      "____________________________\n",
      "per_ResinI+PhoI_2_pos2\n",
      "per_ResinI+PhoI_2_pos2--ip_outofbeam--laser_657nm_3.5mW_OD1--Andor_0.02967s_50acc_300lmm_center850nm_650BPF.csv\n",
      "per_ResinI+PhoI_2_pos2--ip_inbeam--laser_657nm_3.5mW_OD1--Andor_0.02967s_50acc_300lmm_center850nm_650BPF.csv\n",
      "per_ResinI+PhoI_2_pos2--ip_outofbeam--laser_657nm_3.5mW_OD1--Andor_0.02967s_50acc_300lmm_center850nm_700LPF.csv\n",
      "per_ResinI+PhoI_2_pos2--ip_inbeam--laser_657nm_3.5mW_OD1--Andor_0.02967s_50acc_300lmm_center850nm_700LPF.csv\n",
      "per_ResinI+PhoI_2_pos2--fs--laser_657nm_3.5mW_OD1--Andor_0.02967s_50acc_300lmm_center850nm_700LPF.csv\n",
      "La = 2.61e+16 1/(s m2)\n",
      "Lb = 2.19e+16 1/(s m2)\n",
      "Lc = 5.01e+15 1/(s m2)\n",
      "Pa = 0.00e+00 1/(s m2)\n",
      "Pb = 0.00e+00 1/(s m2)\n",
      "Pc = 1.58e+14 1/(s m2)\n",
      "A = 1 - Lc/Lb = 77.1 %\n",
      "PLQY = (Pc - (1 - A) * Pb) / (La * A) = 7.85e-03\n",
      "____________________________\n",
      "per_ResinI_1_pos2\n",
      "per_ResinI_1_pos2--ip_outofbeam--laser_657nm_3.5mW_OD1--Andor_0.02967s_50acc_300lmm_center850nm_650BPF.csv\n",
      "per_ResinI_1_pos2--ip_inbeam--laser_657nm_3.5mW_OD1--Andor_0.02967s_50acc_300lmm_center850nm_650BPF.csv\n",
      "per_ResinI_1_pos2--ip_outofbeam--laser_657nm_3.5mW_OD1--Andor_0.02967s_50acc_300lmm_center850nm_700LPF.csv\n",
      "per_ResinI_1_pos2--ip_inbeam--laser_657nm_3.5mW_OD1--Andor_0.02967s_50acc_300lmm_center850nm_700LPF.csv\n",
      "per_ResinI_1_pos2--fs--laser_657nm_3.5mW_OD1--Andor_0.02967s_50acc_300lmm_center850nm_700LPF.csv\n",
      "La = 2.61e+16 1/(s m2)\n",
      "Lb = 2.28e+16 1/(s m2)\n",
      "Lc = 5.35e+15 1/(s m2)\n",
      "Pa = 0.00e+00 1/(s m2)\n",
      "Pb = 0.00e+00 1/(s m2)\n",
      "Pc = 1.55e+14 1/(s m2)\n",
      "A = 1 - Lc/Lb = 76.5 %\n",
      "PLQY = (Pc - (1 - A) * Pb) / (La * A) = 7.74e-03\n",
      "____________________________\n",
      "per_ResinI_2_pos2\n",
      "per_ResinI_2_pos2--ip_outofbeam--laser_657nm_3.5mW_OD1--Andor_0.02967s_50acc_300lmm_center850nm_650BPF.csv\n",
      "per_ResinI_2_pos2--ip_inbeam--laser_657nm_3.5mW_OD1--Andor_0.02967s_50acc_300lmm_center850nm_650BPF.csv\n",
      "per_ResinI_2_pos2--ip_outofbeam--laser_657nm_3.5mW_OD1--Andor_0.02967s_50acc_300lmm_center850nm_700LPF.csv\n",
      "per_ResinI_2_pos2--ip_inbeam--laser_657nm_3.5mW_OD1--Andor_0.02967s_50acc_300lmm_center850nm_700LPF.csv\n",
      "per_ResinI_2_pos2--fs--laser_657nm_3.5mW_OD1--Andor_0.02967s_50acc_300lmm_center850nm_700LPF.csv\n",
      "La = 2.61e+16 1/(s m2)\n",
      "Lb = 2.21e+16 1/(s m2)\n",
      "Lc = 5.04e+15 1/(s m2)\n",
      "Pa = 0.00e+00 1/(s m2)\n",
      "Pb = 0.00e+00 1/(s m2)\n",
      "Pc = 7.15e+13 1/(s m2)\n",
      "A = 1 - Lc/Lb = 77.2 %\n",
      "PLQY = (Pc - (1 - A) * Pb) / (La * A) = 3.55e-03\n",
      "____________________________\n",
      "per_ResinI+PhoI_1_pos2\n",
      "per_ResinI+PhoI_1_pos2--ip_outofbeam--laser_657nm_3.5mW_OD1--Andor_0.02967s_50acc_300lmm_center850nm_650BPF.csv\n",
      "per_ResinI+PhoI_1_pos2--ip_inbeam--laser_657nm_3.5mW_OD1--Andor_0.02967s_50acc_300lmm_center850nm_650BPF.csv\n",
      "per_ResinI+PhoI_1_pos2--ip_outofbeam--laser_657nm_3.5mW_OD1--Andor_0.02967s_50acc_300lmm_center850nm_700LPF.csv\n",
      "per_ResinI+PhoI_1_pos2--ip_inbeam--laser_657nm_3.5mW_OD1--Andor_0.02967s_50acc_300lmm_center850nm_700LPF.csv\n",
      "per_ResinI+PhoI_1_pos2--fs--laser_657nm_3.5mW_OD1--Andor_0.02967s_50acc_300lmm_center850nm_700LPF.csv\n",
      "La = 2.61e+16 1/(s m2)\n",
      "Lb = 2.22e+16 1/(s m2)\n",
      "Lc = 5.82e+15 1/(s m2)\n",
      "Pa = 0.00e+00 1/(s m2)\n",
      "Pb = 0.00e+00 1/(s m2)\n",
      "Pc = 2.38e+14 1/(s m2)\n",
      "A = 1 - Lc/Lb = 73.8 %\n",
      "PLQY = (Pc - (1 - A) * Pb) / (La * A) = 1.24e-02\n",
      "____________________________\n",
      "per_ResinI+PhoI_2_pos1\n",
      "per_ResinI+PhoI_2_pos1--ip_outofbeam--laser_657nm_3.5mW_OD1--Andor_0.02967s_50acc_300lmm_center850nm_650BPF.csv\n",
      "per_ResinI+PhoI_2_pos1--ip_inbeam--laser_657nm_3.5mW_OD1--Andor_0.02967s_50acc_300lmm_center850nm_650BPF.csv\n",
      "per_ResinI+PhoI_2_pos1--ip_outofbeam--laser_657nm_3.5mW_OD1--Andor_0.02967s_50acc_300lmm_center850nm_700LPF.csv\n",
      "per_ResinI+PhoI_2_pos1--ip_inbeam--laser_657nm_3.5mW_OD1--Andor_0.02967s_50acc_300lmm_center850nm_700LPF.csv\n",
      "per_ResinI+PhoI_2_pos1--fs--laser_657nm_3.5mW_OD1--Andor_0.02967s_50acc_300lmm_center850nm_700LPF.csv\n",
      "La = 2.61e+16 1/(s m2)\n",
      "Lb = 2.18e+16 1/(s m2)\n",
      "Lc = 5.06e+15 1/(s m2)\n",
      "Pa = 0.00e+00 1/(s m2)\n",
      "Pb = 0.00e+00 1/(s m2)\n",
      "Pc = 2.06e+14 1/(s m2)\n",
      "A = 1 - Lc/Lb = 76.8 %\n",
      "PLQY = (Pc - (1 - A) * Pb) / (La * A) = 1.03e-02\n",
      "____________________________\n",
      "per_ResinI_2_pos1\n",
      "per_ResinI_2_pos1--ip_outofbeam--laser_657nm_3.5mW_OD1--Andor_0.02967s_50acc_300lmm_center850nm_650BPF.csv\n",
      "per_ResinI_2_pos1--ip_inbeam--laser_657nm_3.5mW_OD1--Andor_0.02967s_50acc_300lmm_center850nm_650BPF.csv\n",
      "per_ResinI_2_pos1--ip_outofbeam--laser_657nm_3.5mW_OD1--Andor_0.02967s_50acc_300lmm_center850nm_700LPF.csv\n",
      "per_ResinI_2_pos1--ip_inbeam--laser_657nm_3.5mW_OD1--Andor_0.02967s_50acc_300lmm_center850nm_700LPF.csv\n",
      "per_ResinI_2_pos1--fs--laser_657nm_3.5mW_OD1--Andor_0.02967s_50acc_300lmm_center850nm_700LPF.csv\n",
      "La = 2.61e+16 1/(s m2)\n",
      "Lb = 2.19e+16 1/(s m2)\n",
      "Lc = 4.75e+15 1/(s m2)\n",
      "Pa = 0.00e+00 1/(s m2)\n",
      "Pb = 0.00e+00 1/(s m2)\n",
      "Pc = 1.74e+14 1/(s m2)\n",
      "A = 1 - Lc/Lb = 78.4 %\n",
      "PLQY = (Pc - (1 - A) * Pb) / (La * A) = 8.53e-03\n",
      "____________________________\n",
      "per_Nopas_2_pos2\n",
      "per_Nopas_2_pos2--ip_outofbeam--laser_657nm_3.5mW_OD1--Andor_0.02967s_50acc_300lmm_center850nm_650BPF.csv\n",
      "per_Nopas_2_pos2--ip_inbeam--laser_657nm_3.5mW_OD1--Andor_0.02967s_50acc_300lmm_center850nm_650BPF.csv\n",
      "per_Nopas_2_pos2--ip_outofbeam--laser_657nm_3.5mW_OD1--Andor_0.02967s_50acc_300lmm_center850nm_700LPF.csv\n",
      "per_Nopas_2_pos2--ip_inbeam--laser_657nm_3.5mW_OD1--Andor_0.02967s_50acc_300lmm_center850nm_700LPF.csv\n",
      "per_Nopas_2_pos2--fs--laser_657nm_3.5mW_OD1--Andor_0.02967s_50acc_300lmm_center850nm_700LPF.csv\n",
      "La = 2.61e+16 1/(s m2)\n",
      "Lb = 2.15e+16 1/(s m2)\n",
      "Lc = 4.99e+15 1/(s m2)\n",
      "Pa = 0.00e+00 1/(s m2)\n",
      "Pb = 0.00e+00 1/(s m2)\n",
      "Pc = 3.93e+14 1/(s m2)\n",
      "A = 1 - Lc/Lb = 76.8 %\n",
      "PLQY = (Pc - (1 - A) * Pb) / (La * A) = 1.96e-02\n",
      "____________________________\n",
      "per_ResinI_1_pos1\n",
      "per_ResinI_1_pos1--ip_outofbeam--laser_657nm_3.5mW_OD1--Andor_0.02967s_50acc_300lmm_center850nm_650BPF.csv\n",
      "per_ResinI_1_pos1--ip_inbeam--laser_657nm_3.5mW_OD1--Andor_0.02967s_50acc_300lmm_center850nm_650BPF.csv\n",
      "per_ResinI_1_pos1--ip_outofbeam--laser_657nm_3.5mW_OD1--Andor_0.02967s_50acc_300lmm_center850nm_700LPF.csv\n",
      "per_ResinI_1_pos1--ip_inbeam--laser_657nm_3.5mW_OD1--Andor_0.02967s_50acc_300lmm_center850nm_700LPF.csv\n",
      "per_ResinI_1_pos1--fs--laser_657nm_3.5mW_OD1--Andor_0.02967s_50acc_300lmm_center850nm_700LPF.csv\n",
      "La = 2.61e+16 1/(s m2)\n",
      "Lb = 2.26e+16 1/(s m2)\n",
      "Lc = 5.64e+15 1/(s m2)\n",
      "Pa = 0.00e+00 1/(s m2)\n",
      "Pb = 0.00e+00 1/(s m2)\n",
      "Pc = 1.99e+12 1/(s m2)\n",
      "A = 1 - Lc/Lb = 75.0 %\n",
      "PLQY = (Pc - (1 - A) * Pb) / (La * A) = 1.02e-04\n"
     ]
    }
   ],
   "source": [
    "for idx in range(len(names)):\n",
    "    show_details = True\n",
    "    sample_name = names[idx]\n",
    "    \n",
    "    print('____________________________')\n",
    "    print(sample_name)\n",
    "    \n",
    "    group = thot.filter({'metadata.name' : sample_name}, samples)\n",
    "    Lb = lqy.find({'metadata.em_filter' : param.laser_marker, 'metadata.inboob' : 'outofbeam'}, group, show_details = show_details)\n",
    "    Lc = lqy.find({'metadata.em_filter' : param.laser_marker, 'metadata.inboob' : 'inbeam'}, group, show_details = show_details)\n",
    "    Pb = lqy.find({'metadata.em_filter' : param.PL_marker, 'metadata.inboob' : 'outofbeam'}, group, show_details = show_details)\n",
    "    Pc = lqy.find({'metadata.em_filter' : param.PL_marker, 'metadata.inboob' : 'inbeam'}, group, show_details = show_details)\n",
    "    fs = lqy.find({'metadata.em_filter' : param.PL_marker, 'metadata.fsip' : 'fs'}, group, show_details = show_details)\n",
    "\n",
    "    show_details = True\n",
    "\n",
    "    sPL = lqy.PLQY_dataset(db, La, Lb, Lc, Pa, Pb, Pc, fs, sample_name, param)\n",
    "    #sPL.fs.plot(yscale = 'linear', title = sPL.fs_asset.metadata['orig_fn'])\n",
    "    #sPL.P.plot()\n",
    "\n",
    "    sPL.find_PL_peak()\n",
    "    sPL.inb_adjust(adj_factor = None, show_adjust_factor = False, show = show_details)\n",
    "    sPL.calc_abs(what = 'inb', show_details = show_details)\n",
    "\n",
    "    #sPL.oob_adjust(adj_factor = None, show_adjust_factor = True, show = True)\n",
    "    #sPL.calc_abs(what = 'oob', show_details = show_details)\n",
    "\n",
    "    sPL.calc_PLQY(show = show_details, show_lum = 'linear')\n",
    "\n",
    "    sPL.abs_pf_spec(nsuns = 1)\n",
    "\n",
    "    sPL.save_asset()"
   ]
  },
  {
   "cell_type": "code",
   "execution_count": null,
   "metadata": {},
   "outputs": [],
   "source": []
  }
 ],
 "metadata": {
  "kernelspec": {
   "display_name": "Python 3 (ipykernel)",
   "language": "python",
   "name": "python3"
  },
  "language_info": {
   "codemirror_mode": {
    "name": "ipython",
    "version": 3
   },
   "file_extension": ".py",
   "mimetype": "text/x-python",
   "name": "python",
   "nbconvert_exporter": "python",
   "pygments_lexer": "ipython3",
   "version": "3.8.8"
  }
 },
 "nbformat": 4,
 "nbformat_minor": 4
}
