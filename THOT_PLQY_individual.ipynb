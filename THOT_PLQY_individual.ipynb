{
 "cells": [
  {
   "cell_type": "markdown",
   "metadata": {},
   "source": [
    "# **PLQY_individual**\n",
    "\n",
    "_by Felix Eickemeyer_\n",
    "\n",
    "PLQY, this notebook is based on \"PLQY 1.3.4.ipynb\".\n",
    "Calibration and correction has to be done before.\n",
    "__\n",
    "\n",
    "_Version 10.11.2021 in Python 3_\n",
    "\n",
    "_Change log:_  \n",
    "0.1.0: My package used  \n",
    "1.0.0: First version bug free and usable for thot desktop  \n",
    "1.1.0: All graphs saved as assets  \n",
    "1.2.0: Experminetal parameters as own class (exp_param)   "
   ]
  },
  {
   "cell_type": "code",
   "execution_count": 55,
   "metadata": {},
   "outputs": [],
   "source": [
    "import os\n",
    "from os import getcwd, listdir\n",
    "import thot\n",
    "from thot import ThotProject\n",
    "import importlib\n",
    "from importlib import reload\n",
    "\n",
    "from FTE_analysis_libraries import PLQY as lqy\n",
    "from FTE_analysis_libraries import Spectrum as spc\n",
    "from FTE_analysis_libraries.General import f1240, Vsq, V_loss, QFLS\n",
    "\n",
    "reload(spc)\n",
    "reload(lqy)\n",
    "pass"
   ]
  },
  {
   "cell_type": "code",
   "execution_count": 56,
   "metadata": {},
   "outputs": [],
   "source": [
    "# Initializes Thot project\n",
    "db = ThotProject( dev_root = '../double_perovskite_temperature' )"
   ]
  },
  {
   "cell_type": "code",
   "execution_count": 57,
   "metadata": {},
   "outputs": [],
   "source": [
    "root = db.find_container( { '_id': db.root } )"
   ]
  },
  {
   "cell_type": "code",
   "execution_count": 58,
   "metadata": {},
   "outputs": [],
   "source": [
    "#Perovskite\n",
    "if 'sample_type' in root.metadata:\n",
    "    which_sample = root.metadata[ 'sample_type' ]\n",
    "\n",
    "else:\n",
    "    pass\n",
    "    #which_sample = 'FAPbI3'\n",
    "\n",
    "#DSC\n",
    "#which_sample = 'Yameng DSC'\n",
    "#which_sample = 'dye on TiO2'\n",
    "#which_sample = 'dye on Al2O3'\n",
    "#which_sample = 'Coumarin 153'\n",
    "#which_sample = 'MS5'\n",
    "#which_sample = 'XY1b'\n",
    "\n",
    "param = lqy.exp_param(which_sample = which_sample, excitation_laser = None, PL_left = None, PL_right = None, PL_peak = None, corr_offs_left = 40, corr_offs_right = 50, PL_peak_auto = False, eval_Pb = False)"
   ]
  },
  {
   "cell_type": "code",
   "execution_count": 59,
   "metadata": {},
   "outputs": [
    {
     "data": {
      "text/plain": [
       "['12', '14', '6', '7', '13', '3', '10', '1']"
      ]
     },
     "execution_count": 59,
     "metadata": {},
     "output_type": "execute_result"
    }
   ],
   "source": [
    "samples = db.find_assets({'type' : 'calibrated PL spectrum'})\n",
    "names = list({sample.metadata['name'] for sample in samples})\n",
    "names.remove('no sample')\n",
    "names"
   ]
  },
  {
   "cell_type": "code",
   "execution_count": 60,
   "metadata": {},
   "outputs": [
    {
     "name": "stdout",
     "output_type": "stream",
     "text": [
      "no sample--ip_laser--laser_419nm_10mW_OD1--Andor_0.04999s_200acc_300lmm_center620nm_420BPF.csv\n",
      "no sample--ip_laser--laser_419nm_10mW_OD1--Andor_0.04999s_200acc_300lmm_center620nm_450LPF.csv\n"
     ]
    }
   ],
   "source": [
    "La = lqy.find({'metadata.name' : 'no sample', 'metadata.em_filter' : param.laser_marker}, samples, show_details = True)\n",
    "Pa = lqy.find({'metadata.name' : 'no sample', 'metadata.em_filter' : param.PL_marker}, samples, show_details = True)"
   ]
  },
  {
   "cell_type": "code",
   "execution_count": 61,
   "metadata": {
    "scrolled": false
   },
   "outputs": [
    {
     "name": "stdout",
     "output_type": "stream",
     "text": [
      "12--ip_outofbeam--laser_419nm_10mW_OD1--Andor_0.04999s_200acc_300lmm_center620nm_420BPF.csv\n",
      "12--ip_inbeam--laser_419nm_10mW_OD1--Andor_0.04999s_200acc_300lmm_center620nm_420BPF.csv\n",
      "12--ip_outofbeam--laser_419nm_10mW_OD1--Andor_0.04999s_200acc_300lmm_center620nm_450LPF.csv\n",
      "12--ip_inbeam--laser_419nm_10mW_OD1--Andor_0.04999s_200acc_300lmm_center620nm_450LPF.csv\n",
      "12--fs--laser_419nm_10mW_OD1--Andor_0.04999s_200acc_300lmm_center620nm_450LPF.csv\n",
      "La = 5.25e+15 1/(s m2)\n",
      "Lb = 6.70e+15 1/(s m2)\n",
      "Lc = 1.53e+14 1/(s m2)\n",
      "Pa = 0.00e+00 1/(s m2)\n",
      "Pb = 0.00e+00 1/(s m2)\n",
      "Pc = 1.45e+14 1/(s m2)\n",
      "A = 1 - Lc/Lb = 97.7 %\n",
      "PLQY = (Pc - (1 - A) * Pb) / (La * A) = 2.83e-02\n",
      "File saved: /home/brian/Dropbox/Documents/School/EPFL/research/plqy_analysis/double_perovskite_temperature/12_absolute PL spectrum/12_absolute PL spectrum.csv\n",
      "14--ip_outofbeam--laser_419nm_10mW_OD1--Andor_0.04999s_200acc_300lmm_center620nm_420BPF.csv\n",
      "14--ip_inbeam--laser_419nm_10mW_OD1--Andor_0.04999s_200acc_300lmm_center620nm_420BPF.csv\n",
      "14--ip_outofbeam--laser_419nm_10mW_OD1--Andor_0.04999s_200acc_300lmm_center620nm_450LPF.csv\n",
      "14--ip_inbeam--laser_419nm_10mW_OD1--Andor_0.04999s_200acc_300lmm_center620nm_450LPF.csv\n",
      "14--fs--laser_419nm_10mW_OD1--Andor_0.04999s_200acc_300lmm_center620nm_450LPF.csv\n",
      "La = 5.25e+15 1/(s m2)\n",
      "Lb = 7.43e+15 1/(s m2)\n",
      "Lc = 7.15e+15 1/(s m2)\n",
      "Pa = 0.00e+00 1/(s m2)\n",
      "Pb = 0.00e+00 1/(s m2)\n",
      "Pc = -5.26e+12 1/(s m2)\n",
      "A = 1 - Lc/Lb = 3.9 %\n",
      "PLQY = (Pc - (1 - A) * Pb) / (La * A) = -2.58e-02\n"
     ]
    },
    {
     "name": "stderr",
     "output_type": "stream",
     "text": [
      "/home/brian/Dropbox/Documents/School/EPFL/research/plqy_analysis/analysis/FTE-analysis-libraries-main/FTE_analysis_libraries/General.py:186: RuntimeWarning: invalid value encountered in log\n",
      "  return - k * T_RT / q * np.log(PLQY)\n"
     ]
    },
    {
     "name": "stdout",
     "output_type": "stream",
     "text": [
      "File saved: /home/brian/Dropbox/Documents/School/EPFL/research/plqy_analysis/double_perovskite_temperature/14_absolute PL spectrum/14_absolute PL spectrum.csv\n",
      "6--ip_outofbeam--laser_419nm_10mW_OD1--Andor_0.04999s_200acc_300lmm_center620nm_420BPF.csv\n",
      "6--ip_inbeam--laser_419nm_10mW_OD1--Andor_0.04999s_200acc_300lmm_center620nm_420BPF.csv\n",
      "6--ip_outofbeam--laser_419nm_10mW_OD1--Andor_0.04999s_200acc_300lmm_center620nm_450LPF.csv\n",
      "6--ip_inbeam--laser_419nm_10mW_OD1--Andor_0.04999s_200acc_300lmm_center620nm_450LPF.csv\n",
      "6--fs--laser_419nm_10mW_OD1--Andor_0.04999s_200acc_300lmm_center620nm_450LPF.csv\n",
      "La = 5.25e+15 1/(s m2)\n",
      "Lb = 9.08e+15 1/(s m2)\n",
      "Lc = 9.51e+14 1/(s m2)\n",
      "Pa = 0.00e+00 1/(s m2)\n",
      "Pb = 0.00e+00 1/(s m2)\n",
      "Pc = -1.69e+13 1/(s m2)\n",
      "A = 1 - Lc/Lb = 89.5 %\n",
      "PLQY = (Pc - (1 - A) * Pb) / (La * A) = -3.61e-03\n"
     ]
    },
    {
     "name": "stderr",
     "output_type": "stream",
     "text": [
      "/home/brian/Dropbox/Documents/School/EPFL/research/plqy_analysis/analysis/FTE-analysis-libraries-main/FTE_analysis_libraries/General.py:186: RuntimeWarning: invalid value encountered in log\n",
      "  return - k * T_RT / q * np.log(PLQY)\n"
     ]
    },
    {
     "name": "stdout",
     "output_type": "stream",
     "text": [
      "File saved: /home/brian/Dropbox/Documents/School/EPFL/research/plqy_analysis/double_perovskite_temperature/6_absolute PL spectrum/6_absolute PL spectrum.csv\n",
      "7--ip_outofbeam--laser_419nm_10mW_OD1--Andor_0.04999s_200acc_300lmm_center620nm_420BPF.csv\n",
      "7--ip_inbeam--laser_419nm_10mW_OD1--Andor_0.04999s_200acc_300lmm_center620nm_420BPF.csv\n",
      "7--ip_outofbeam--laser_419nm_10mW_OD1--Andor_0.04999s_200acc_300lmm_center620nm_450LPF.csv\n",
      "7--ip_inbeam--laser_419nm_10mW_OD1--Andor_0.04999s_200acc_300lmm_center620nm_450LPF.csv\n",
      "7--fs--laser_419nm_10mW_OD1--Andor_0.04999s_200acc_300lmm_center620nm_450LPF.csv\n",
      "La = 5.25e+15 1/(s m2)\n",
      "Lb = 8.94e+15 1/(s m2)\n",
      "Lc = 3.63e+15 1/(s m2)\n",
      "Pa = 0.00e+00 1/(s m2)\n",
      "Pb = 0.00e+00 1/(s m2)\n",
      "Pc = 3.17e+13 1/(s m2)\n",
      "A = 1 - Lc/Lb = 59.4 %\n",
      "PLQY = (Pc - (1 - A) * Pb) / (La * A) = 1.02e-02\n",
      "File saved: /home/brian/Dropbox/Documents/School/EPFL/research/plqy_analysis/double_perovskite_temperature/7_absolute PL spectrum/7_absolute PL spectrum.csv\n",
      "13--ip_outofbeam--laser_419nm_10mW_OD1--Andor_0.04999s_200acc_300lmm_center620nm_420BPF.csv\n",
      "13--ip_inbeam--laser_419nm_10mW_OD1--Andor_0.04999s_200acc_300lmm_center620nm_420BPF.csv\n",
      "13--ip_outofbeam--laser_419nm_10mW_OD1--Andor_0.04999s_200acc_300lmm_center620nm_450LPF.csv\n",
      "13--ip_inbeam--laser_419nm_10mW_OD1--Andor_0.04999s_200acc_300lmm_center620nm_450LPF.csv\n",
      "13--fs--laser_419nm_10mW_OD1--Andor_0.04999s_200acc_300lmm_center620nm_450LPF.csv\n",
      "La = 5.25e+15 1/(s m2)\n",
      "Lb = 8.98e+15 1/(s m2)\n",
      "Lc = 7.97e+15 1/(s m2)\n",
      "Pa = 0.00e+00 1/(s m2)\n",
      "Pb = 0.00e+00 1/(s m2)\n",
      "Pc = -1.37e+13 1/(s m2)\n",
      "A = 1 - Lc/Lb = 11.3 %\n",
      "PLQY = (Pc - (1 - A) * Pb) / (La * A) = -2.31e-02\n"
     ]
    },
    {
     "name": "stderr",
     "output_type": "stream",
     "text": [
      "/home/brian/Dropbox/Documents/School/EPFL/research/plqy_analysis/analysis/FTE-analysis-libraries-main/FTE_analysis_libraries/General.py:186: RuntimeWarning: invalid value encountered in log\n",
      "  return - k * T_RT / q * np.log(PLQY)\n"
     ]
    },
    {
     "name": "stdout",
     "output_type": "stream",
     "text": [
      "File saved: /home/brian/Dropbox/Documents/School/EPFL/research/plqy_analysis/double_perovskite_temperature/13_absolute PL spectrum/13_absolute PL spectrum.csv\n",
      "3--ip_outofbeam--laser_419nm_10mW_OD1--Andor_0.04999s_200acc_300lmm_center620nm_420BPF.csv\n",
      "3--ip_inbeam--laser_419nm_10mW_OD1--Andor_0.04999s_200acc_300lmm_center620nm_420BPF.csv\n",
      "3--ip_outofbeam--laser_419nm_10mW_OD1--Andor_0.04999s_200acc_300lmm_center620nm_450LPF.csv\n",
      "3--ip_inbeam--laser_419nm_10mW_OD1--Andor_0.04999s_200acc_300lmm_center620nm_450LPF.csv\n",
      "3--fs--laser_419nm_10mW_OD1--Andor_0.04999s_200acc_300lmm_center620nm_450LPF.csv\n",
      "La = 5.25e+15 1/(s m2)\n",
      "Lb = 5.34e+15 1/(s m2)\n",
      "Lc = 2.36e+15 1/(s m2)\n",
      "Pa = 0.00e+00 1/(s m2)\n",
      "Pb = 0.00e+00 1/(s m2)\n",
      "Pc = 6.02e+13 1/(s m2)\n",
      "A = 1 - Lc/Lb = 55.8 %\n",
      "PLQY = (Pc - (1 - A) * Pb) / (La * A) = 2.06e-02\n",
      "File saved: /home/brian/Dropbox/Documents/School/EPFL/research/plqy_analysis/double_perovskite_temperature/3_absolute PL spectrum/3_absolute PL spectrum.csv\n",
      "10--ip_outofbeam--laser_419nm_10mW_OD1--Andor_0.04999s_200acc_300lmm_center620nm_420BPF.csv\n",
      "10--ip_inbeam--laser_419nm_10mW_OD1--Andor_0.04999s_200acc_300lmm_center620nm_420BPF.csv\n",
      "10--ip_outofbeam--laser_419nm_10mW_OD1--Andor_0.04999s_200acc_300lmm_center620nm_450LPF.csv\n",
      "10--ip_inbeam--laser_419nm_10mW_OD1--Andor_0.04999s_200acc_300lmm_center620nm_450LPF.csv\n",
      "10--fs--laser_419nm_10mW_OD1--Andor_0.04999s_200acc_300lmm_center620nm_450LPF.csv\n",
      "La = 5.25e+15 1/(s m2)\n",
      "Lb = 7.96e+15 1/(s m2)\n",
      "Lc = 2.84e+15 1/(s m2)\n",
      "Pa = 0.00e+00 1/(s m2)\n",
      "Pb = 0.00e+00 1/(s m2)\n",
      "Pc = -1.29e+14 1/(s m2)\n",
      "A = 1 - Lc/Lb = 64.4 %\n",
      "PLQY = (Pc - (1 - A) * Pb) / (La * A) = -3.82e-02\n"
     ]
    },
    {
     "name": "stderr",
     "output_type": "stream",
     "text": [
      "/home/brian/Dropbox/Documents/School/EPFL/research/plqy_analysis/analysis/FTE-analysis-libraries-main/FTE_analysis_libraries/General.py:186: RuntimeWarning: invalid value encountered in log\n",
      "  return - k * T_RT / q * np.log(PLQY)\n"
     ]
    },
    {
     "name": "stdout",
     "output_type": "stream",
     "text": [
      "File saved: /home/brian/Dropbox/Documents/School/EPFL/research/plqy_analysis/double_perovskite_temperature/10_absolute PL spectrum/10_absolute PL spectrum.csv\n",
      "1--ip_outofbeam--laser_419nm_10mW_OD1--Andor_0.04999s_200acc_300lmm_center620nm_420BPF.csv\n",
      "1--ip_inbeam--laser_419nm_10mW_OD1--Andor_0.04999s_200acc_300lmm_center620nm_420BPF.csv\n",
      "1--ip_outofbeam--laser_419nm_10mW_OD1--Andor_0.04999s_200acc_300lmm_center620nm_450LPF.csv\n",
      "1--ip_inbeam--laser_419nm_10mW_OD1--Andor_0.04999s_200acc_300lmm_center620nm_450LPF.csv\n",
      "Error: {'metadata.em_filter': '450LPF', 'metadata.fsip': 'fs'} found more than one instance!\n"
     ]
    },
    {
     "ename": "AttributeError",
     "evalue": "'NoneType' object has no attribute 'file'",
     "output_type": "error",
     "traceback": [
      "\u001b[0;31m---------------------------------------------------------------------------\u001b[0m",
      "\u001b[0;31mAttributeError\u001b[0m                            Traceback (most recent call last)",
      "\u001b[0;32m/tmp/ipykernel_1066920/890967401.py\u001b[0m in \u001b[0;36m<module>\u001b[0;34m\u001b[0m\n\u001b[1;32m     11\u001b[0m     \u001b[0mshow_details\u001b[0m \u001b[0;34m=\u001b[0m \u001b[0;32mTrue\u001b[0m\u001b[0;34m\u001b[0m\u001b[0;34m\u001b[0m\u001b[0m\n\u001b[1;32m     12\u001b[0m \u001b[0;34m\u001b[0m\u001b[0m\n\u001b[0;32m---> 13\u001b[0;31m     \u001b[0msPL\u001b[0m \u001b[0;34m=\u001b[0m \u001b[0mlqy\u001b[0m\u001b[0;34m.\u001b[0m\u001b[0mPLQY_dataset\u001b[0m\u001b[0;34m(\u001b[0m\u001b[0mdb\u001b[0m\u001b[0;34m,\u001b[0m \u001b[0mLa\u001b[0m\u001b[0;34m,\u001b[0m \u001b[0mLb\u001b[0m\u001b[0;34m,\u001b[0m \u001b[0mLc\u001b[0m\u001b[0;34m,\u001b[0m \u001b[0mPa\u001b[0m\u001b[0;34m,\u001b[0m \u001b[0mPb\u001b[0m\u001b[0;34m,\u001b[0m \u001b[0mPc\u001b[0m\u001b[0;34m,\u001b[0m \u001b[0mfs\u001b[0m\u001b[0;34m,\u001b[0m \u001b[0msample_name\u001b[0m\u001b[0;34m,\u001b[0m \u001b[0mparam\u001b[0m\u001b[0;34m)\u001b[0m\u001b[0;34m\u001b[0m\u001b[0;34m\u001b[0m\u001b[0m\n\u001b[0m\u001b[1;32m     14\u001b[0m     \u001b[0;31m#sPL.fs.plot(yscale = 'linear', title = sPL.fs_asset.metadata['orig_fn'])\u001b[0m\u001b[0;34m\u001b[0m\u001b[0;34m\u001b[0m\u001b[0;34m\u001b[0m\u001b[0m\n\u001b[1;32m     15\u001b[0m     \u001b[0;31m#sPL.P.plot()\u001b[0m\u001b[0;34m\u001b[0m\u001b[0;34m\u001b[0m\u001b[0;34m\u001b[0m\u001b[0m\n",
      "\u001b[0;32m~/Dropbox/Documents/School/EPFL/research/plqy_analysis/analysis/FTE-analysis-libraries-main/FTE_analysis_libraries/PLQY.py\u001b[0m in \u001b[0;36m__init__\u001b[0;34m(self, db, La, Lb, Lc, Pa, Pb, Pc, fs, sample_name, param)\u001b[0m\n\u001b[1;32m    407\u001b[0m         \u001b[0mself\u001b[0m\u001b[0;34m.\u001b[0m\u001b[0mPc\u001b[0m \u001b[0;34m=\u001b[0m \u001b[0mload_spectrum\u001b[0m\u001b[0;34m(\u001b[0m\u001b[0mPc\u001b[0m\u001b[0;34m)\u001b[0m\u001b[0;34m\u001b[0m\u001b[0;34m\u001b[0m\u001b[0m\n\u001b[1;32m    408\u001b[0m         \u001b[0mself\u001b[0m\u001b[0;34m.\u001b[0m\u001b[0mfs_asset\u001b[0m \u001b[0;34m=\u001b[0m \u001b[0mfs\u001b[0m\u001b[0;34m\u001b[0m\u001b[0;34m\u001b[0m\u001b[0m\n\u001b[0;32m--> 409\u001b[0;31m         \u001b[0mself\u001b[0m\u001b[0;34m.\u001b[0m\u001b[0mfs\u001b[0m \u001b[0;34m=\u001b[0m \u001b[0mload_spectrum\u001b[0m\u001b[0;34m(\u001b[0m\u001b[0mfs\u001b[0m\u001b[0;34m)\u001b[0m\u001b[0;34m\u001b[0m\u001b[0;34m\u001b[0m\u001b[0m\n\u001b[0m\u001b[1;32m    410\u001b[0m         \u001b[0mself\u001b[0m\u001b[0;34m.\u001b[0m\u001b[0mPL_peak\u001b[0m \u001b[0;34m=\u001b[0m \u001b[0;32mNone\u001b[0m\u001b[0;34m\u001b[0m\u001b[0;34m\u001b[0m\u001b[0m\n\u001b[1;32m    411\u001b[0m \u001b[0;34m\u001b[0m\u001b[0m\n",
      "\u001b[0;32m~/Dropbox/Documents/School/EPFL/research/plqy_analysis/analysis/FTE-analysis-libraries-main/FTE_analysis_libraries/PLQY.py\u001b[0m in \u001b[0;36mload_spectrum\u001b[0;34m(LP)\u001b[0m\n\u001b[1;32m    385\u001b[0m \u001b[0;34m\u001b[0m\u001b[0m\n\u001b[1;32m    386\u001b[0m         \u001b[0;32mdef\u001b[0m \u001b[0mload_spectrum\u001b[0m\u001b[0;34m(\u001b[0m\u001b[0mLP\u001b[0m\u001b[0;34m)\u001b[0m\u001b[0;34m:\u001b[0m\u001b[0;34m\u001b[0m\u001b[0;34m\u001b[0m\u001b[0m\n\u001b[0;32m--> 387\u001b[0;31m             \u001b[0;32mreturn\u001b[0m \u001b[0mspc\u001b[0m\u001b[0;34m.\u001b[0m\u001b[0mPEL_spectrum\u001b[0m\u001b[0;34m.\u001b[0m\u001b[0mload\u001b[0m\u001b[0;34m(\u001b[0m\u001b[0mos\u001b[0m\u001b[0;34m.\u001b[0m\u001b[0mpath\u001b[0m\u001b[0;34m.\u001b[0m\u001b[0mdirname\u001b[0m\u001b[0;34m(\u001b[0m\u001b[0mLP\u001b[0m\u001b[0;34m.\u001b[0m\u001b[0mfile\u001b[0m\u001b[0;34m)\u001b[0m\u001b[0;34m,\u001b[0m \u001b[0mFN\u001b[0m \u001b[0;34m=\u001b[0m \u001b[0mos\u001b[0m\u001b[0;34m.\u001b[0m\u001b[0mpath\u001b[0m\u001b[0;34m.\u001b[0m\u001b[0mbasename\u001b[0m\u001b[0;34m(\u001b[0m\u001b[0mLP\u001b[0m\u001b[0;34m.\u001b[0m\u001b[0mfile\u001b[0m\u001b[0;34m)\u001b[0m\u001b[0;34m,\u001b[0m \u001b[0mtake_quants_and_units_from_file\u001b[0m \u001b[0;34m=\u001b[0m \u001b[0;32mTrue\u001b[0m\u001b[0;34m)\u001b[0m\u001b[0;34m\u001b[0m\u001b[0;34m\u001b[0m\u001b[0m\n\u001b[0m\u001b[1;32m    388\u001b[0m \u001b[0;34m\u001b[0m\u001b[0m\n\u001b[1;32m    389\u001b[0m         \u001b[0;32mdef\u001b[0m \u001b[0mcreate_PELspectra_obj\u001b[0m\u001b[0;34m(\u001b[0m\u001b[0msa\u001b[0m\u001b[0;34m)\u001b[0m\u001b[0;34m:\u001b[0m\u001b[0;34m\u001b[0m\u001b[0;34m\u001b[0m\u001b[0m\n",
      "\u001b[0;31mAttributeError\u001b[0m: 'NoneType' object has no attribute 'file'"
     ]
    }
   ],
   "source": [
    "for idx in range(len(names)):\n",
    "    show_details = True\n",
    "    sample_name = names[idx]\n",
    "    group = thot.filter({'metadata.name' : sample_name}, samples)\n",
    "    Lb = lqy.find({'metadata.em_filter' : param.laser_marker, 'metadata.inboob' : 'outofbeam'}, group, show_details = show_details)\n",
    "    Lc = lqy.find({'metadata.em_filter' : param.laser_marker, 'metadata.inboob' : 'inbeam'}, group, show_details = show_details)\n",
    "    Pb = lqy.find({'metadata.em_filter' : param.PL_marker, 'metadata.inboob' : 'outofbeam'}, group, show_details = show_details)\n",
    "    Pc = lqy.find({'metadata.em_filter' : param.PL_marker, 'metadata.inboob' : 'inbeam'}, group, show_details = show_details)\n",
    "    fs = lqy.find({'metadata.em_filter' : param.PL_marker, 'metadata.fsip' : 'fs'}, group, show_details = show_details)\n",
    "\n",
    "    show_details = True\n",
    "\n",
    "    sPL = lqy.PLQY_dataset(db, La, Lb, Lc, Pa, Pb, Pc, fs, sample_name, param)\n",
    "    #sPL.fs.plot(yscale = 'linear', title = sPL.fs_asset.metadata['orig_fn'])\n",
    "    #sPL.P.plot()\n",
    "\n",
    "    sPL.find_PL_peak()\n",
    "    sPL.inb_adjust(adj_factor = None, show_adjust_factor = False, show = show_details)\n",
    "    sPL.calc_abs(what = 'inb', show_details = show_details)\n",
    "\n",
    "    #sPL.oob_adjust(adj_factor = None, show_adjust_factor = True, show = True)\n",
    "    #sPL.calc_abs(what = 'oob', show_details = show_details)\n",
    "\n",
    "    sPL.calc_PLQY(show = show_details, show_lum = 'linear')\n",
    "\n",
    "    sPL.abs_pf_spec(nsuns = 1)\n",
    "\n",
    "    sPL.save_asset()"
   ]
  },
  {
   "cell_type": "code",
   "execution_count": null,
   "metadata": {},
   "outputs": [],
   "source": []
  }
 ],
 "metadata": {
  "kernelspec": {
   "display_name": "Python 3 (ipykernel)",
   "language": "python",
   "name": "python3"
  },
  "language_info": {
   "codemirror_mode": {
    "name": "ipython",
    "version": 3
   },
   "file_extension": ".py",
   "mimetype": "text/x-python",
   "name": "python",
   "nbconvert_exporter": "python",
   "pygments_lexer": "ipython3",
   "version": "3.8.8"
  }
 },
 "nbformat": 4,
 "nbformat_minor": 4
}
