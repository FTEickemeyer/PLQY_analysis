{
 "cells": [
  {
   "cell_type": "markdown",
   "metadata": {},
   "source": [
    "# **PLQY_individual**\n",
    "\n",
    "_by Felix Eickemeyer_\n",
    "\n",
    "PLQY, this notebook is based on \"PLQY 1.3.4.ipynb\".\n",
    "Calibration and correction has to be done before.\n",
    "__\n",
    "\n",
    "_Version 10.11.2021 in Python 3_\n",
    "\n",
    "_Change log:_  \n",
    "0.1.0: My package used  \n",
    "1.0.0: First version bug free and usable for thot desktop  \n",
    "1.1.0: All graphs saved as assets  \n",
    "1.2.0: Experminetal parameters as own class (exp_param)   "
   ]
  },
  {
   "cell_type": "code",
   "execution_count": null,
   "metadata": {},
   "outputs": [],
   "source": [
    "import os\n",
    "from os import getcwd, listdir\n",
    "import thot\n",
    "from thot import ThotProject\n",
    "import importlib\n",
    "from importlib import reload\n",
    "\n",
    "from FTE_analysis_libraries import PLQY as lqy\n",
    "from FTE_analysis_libraries import Spectrum as spc\n",
    "from FTE_analysis_libraries.General import f1240, Vsq, V_loss, QFLS\n",
    "\n",
    "reload(spc)\n",
    "reload(lqy)\n",
    "pass"
   ]
  },
  {
   "cell_type": "code",
   "execution_count": 2,
   "metadata": {},
   "outputs": [],
   "source": [
    "#Perovskite\n",
    "#which_sample = 'Haizhou-FAPbI3'\n",
    "which_sample = 'FAPbI3'\n",
    "\n",
    "#DSC\n",
    "#which_sample = 'Yameng DSC'\n",
    "#which_sample = 'dye on TiO2'\n",
    "#which_sample = 'dye on Al2O3'\n",
    "#which_sample = 'Coumarin 153'\n",
    "#which_sample = 'MS5'\n",
    "#which_sample = 'XY1b'\n",
    "\n",
    "param = lqy.exp_param(which_sample = which_sample, excitation_laser = None, PL_left = None, PL_right = None, PL_peak = None, corr_offs_left = 40, corr_offs_right = 50, PL_peak_auto = False, eval_Pb = False)"
   ]
  },
  {
   "cell_type": "code",
   "execution_count": null,
   "metadata": {},
   "outputs": [],
   "source": [
    "# Initializes Thot project\n",
    "db = ThotProject( dev_root = '../double_perovskite_temperature' )"
   ]
  },
  {
   "cell_type": "code",
   "execution_count": 57,
   "metadata": {},
   "outputs": [],
   "source": [
    "root = db.find_container( { '_id': db.root } )"
   ]
  },
  {
   "cell_type": "code",
   "execution_count": 58,
   "metadata": {},
   "outputs": [],
   "source": [
    "#Perovskite\n",
    "if 'sample_type' in root.metadata:\n",
    "    which_sample = root.metadata[ 'sample_type' ]\n",
    "\n",
    "else:\n",
    "    pass\n",
    "    #which_sample = 'FAPbI3'\n",
    "\n",
    "#DSC\n",
    "#which_sample = 'Yameng DSC'\n",
    "#which_sample = 'dye on TiO2'\n",
    "#which_sample = 'dye on Al2O3'\n",
    "#which_sample = 'Coumarin 153'\n",
    "#which_sample = 'MS5'\n",
    "#which_sample = 'XY1b'\n",
    "\n",
    "param = lqy.exp_param(which_sample = which_sample, excitation_laser = None, PL_left = None, PL_right = None, PL_peak = None, corr_offs_left = 40, corr_offs_right = 50, PL_peak_auto = False, eval_Pb = False)"
   ]
  },
  {
   "cell_type": "code",
   "execution_count": null,
   "metadata": {},
   "outputs": [],
   "source": [
    "samples = db.find_assets({'type' : 'calibrated PL spectrum'})\n",
    "names = list({sample.metadata['name'] for sample in samples})\n",
    "names.remove('no sample')\n",
    "names"
   ]
  },
  {
   "cell_type": "code",
   "execution_count": null,
   "metadata": {},
   "outputs": [],
   "source": [
    "La = lqy.find({'metadata.name' : 'no sample', 'metadata.em_filter' : param.laser_marker}, samples, show_details = True)\n",
    "Pa = lqy.find({'metadata.name' : 'no sample', 'metadata.em_filter' : param.PL_marker}, samples, show_details = True)"
   ]
  },
  {
   "cell_type": "code",
   "execution_count": null,
   "metadata": {
    "local_metadata": {
     "scrolled": false
    },
    "remote_metadata": {}
   },
   "outputs": [],
   "source": [
    "for idx in range(len(names)):\n",
    "    show_details = True\n",
    "    sample_name = names[idx]\n",
    "    group = thot.filter({'metadata.name' : sample_name}, samples)\n",
    "    Lb = lqy.find({'metadata.em_filter' : param.laser_marker, 'metadata.inboob' : 'outofbeam'}, group, show_details = show_details)\n",
    "    Lc = lqy.find({'metadata.em_filter' : param.laser_marker, 'metadata.inboob' : 'inbeam'}, group, show_details = show_details)\n",
    "    Pb = lqy.find({'metadata.em_filter' : param.PL_marker, 'metadata.inboob' : 'outofbeam'}, group, show_details = show_details)\n",
    "    Pc = lqy.find({'metadata.em_filter' : param.PL_marker, 'metadata.inboob' : 'inbeam'}, group, show_details = show_details)\n",
    "    fs = lqy.find({'metadata.em_filter' : param.PL_marker, 'metadata.fsip' : 'fs'}, group, show_details = show_details)\n",
    "\n",
    "    show_details = True\n",
    "\n",
    "    sPL = lqy.PLQY_dataset(db, La, Lb, Lc, Pa, Pb, Pc, fs, sample_name, param)\n",
    "    #sPL.fs.plot(yscale = 'linear', title = sPL.fs_asset.metadata['orig_fn'])\n",
    "    #sPL.P.plot()\n",
    "\n",
    "    sPL.find_PL_peak()\n",
    "    sPL.inb_adjust(adj_factor = None, show_adjust_factor = False, show = show_details)\n",
    "    sPL.calc_abs(what = 'inb', show_details = show_details)\n",
    "\n",
    "    #sPL.oob_adjust(adj_factor = None, show_adjust_factor = True, show = True)\n",
    "    #sPL.calc_abs(what = 'oob', show_details = show_details)\n",
    "\n",
    "    sPL.calc_PLQY(show = show_details, show_lum = 'linear')\n",
    "\n",
    "    sPL.abs_pf_spec(nsuns = 1)\n",
    "\n",
    "    sPL.save_asset()"
   ]
  },
  {
   "cell_type": "code",
   "execution_count": null,
   "metadata": {},
   "outputs": [],
   "source": []
  }
 ],
 "metadata": {
  "kernelspec": {
   "display_name": "Python 3 (ipykernel)",
   "language": "python",
   "name": "python3"
  },
  "language_info": {
   "codemirror_mode": {
    "name": "ipython",
    "version": 3
   },
   "file_extension": ".py",
   "mimetype": "text/x-python",
   "name": "python",
   "nbconvert_exporter": "python",
   "pygments_lexer": "ipython3",
   "version": "3.8.8"
  },
  "nbdime-conflicts": {
   "local_diff": [
    {
     "key": "language_info",
     "op": "add",
     "value": {
      "codemirror_mode": {
       "name": "ipython",
       "version": 3
      },
      "file_extension": ".py",
      "mimetype": "text/x-python",
      "name": "python",
      "nbconvert_exporter": "python",
      "pygments_lexer": "ipython3",
      "version": "3.8.8"
     }
    }
   ],
   "remote_diff": [
    {
     "key": "language_info",
     "op": "add",
     "value": {
      "codemirror_mode": {
       "name": "ipython",
       "version": 3
      },
      "file_extension": ".py",
      "mimetype": "text/x-python",
      "name": "python",
      "nbconvert_exporter": "python",
      "pygments_lexer": "ipython3",
      "version": "3.8.12"
     }
    }
   ]
  }
 },
 "nbformat": 4,
 "nbformat_minor": 4
}
