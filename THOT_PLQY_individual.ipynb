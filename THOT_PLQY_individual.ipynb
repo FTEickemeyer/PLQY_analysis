{
 "cells": [
  {
   "cell_type": "markdown",
   "metadata": {},
   "source": [
    "# **PLQY_individual**\n",
    "\n",
    "_by Felix Eickemeyer_\n",
    "\n",
    "PLQY\n",
    "\n",
    "Calibration and correction has to be done before."
   ]
  },
  {
   "cell_type": "code",
   "execution_count": 1,
   "metadata": {},
   "outputs": [],
   "source": [
    "import os\n",
    "from os import getcwd, listdir\n",
    "import thot\n",
    "from thot import ThotProject\n",
    "import importlib\n",
    "from importlib import reload\n",
    "\n",
    "from FTE_analysis_libraries import PLQY as lqy\n",
    "from FTE_analysis_libraries import Spectrum as spc\n",
    "from FTE_analysis_libraries.General import f1240, Vsq, V_loss, QFLS"
   ]
  },
  {
   "cell_type": "code",
   "execution_count": 2,
   "metadata": {},
   "outputs": [],
   "source": [
    "#Perovskite\n",
    "#which_sample = 'Haizhou-FAPbI3'\n",
    "which_sample = 'FAPbI3'\n",
    "\n",
    "#DSC\n",
    "#which_sample = 'Yameng DSC'\n",
    "#which_sample = 'dye on TiO2'\n",
    "#which_sample = 'dye on Al2O3'\n",
    "#which_sample = 'Coumarin 153'\n",
    "#which_sample = 'MS5'\n",
    "#which_sample = 'XY1b'\n",
    "\n",
    "param = lqy.exp_param(\n",
    "    which_sample = which_sample,\n",
    "    excitation_laser = None,\n",
    "    PL_left = None,\n",
    "    PL_right = None,\n",
    "    PL_peak = None,\n",
    "    corr_offs_left = 40,\n",
    "    corr_offs_right = 50,\n",
    "    PL_peak_auto = False,\n",
    "    eval_Pb = False\n",
    ")"
   ]
  },
  {
   "cell_type": "code",
   "execution_count": 10,
   "metadata": {},
   "outputs": [],
   "source": [
    "# Initializes Thot project\n",
    "db = ThotProject( dev_root = '../hong-sn' )\n",
    "root = db.find_container( { '_id': db.root } )"
   ]
  },
  {
   "cell_type": "code",
   "execution_count": 11,
   "metadata": {},
   "outputs": [],
   "source": [
    "# Perovskite\n",
    "if 'sample_type' in root.metadata:\n",
    "    which_sample = root.metadata[ 'sample_type' ]\n",
    "\n",
    "else:\n",
    "    pass\n",
    "    #which_sample = 'FAPbI3'\n",
    "\n",
    "#DSC\n",
    "#which_sample = 'Yameng DSC'\n",
    "#which_sample = 'dye on TiO2'\n",
    "#which_sample = 'dye on Al2O3'\n",
    "#which_sample = 'Coumarin 153'\n",
    "#which_sample = 'MS5'\n",
    "#which_sample = 'XY1b'\n",
    "\n",
    "param = lqy.exp_param(which_sample = which_sample, excitation_laser = None, PL_left = None, PL_right = None, PL_peak = None, corr_offs_left = 40, corr_offs_right = 50, PL_peak_auto = False, eval_Pb = False)"
   ]
  },
  {
   "cell_type": "code",
   "execution_count": 12,
   "metadata": {},
   "outputs": [
    {
     "data": {
      "text/plain": [
       "['2', '3_bare', '1']"
      ]
     },
     "execution_count": 12,
     "metadata": {},
     "output_type": "execute_result"
    }
   ],
   "source": [
    "samples = db.find_assets({'type' : 'calibrated PL spectrum'})\n",
    "names = list({sample.metadata['name'] for sample in samples})\n",
    "names.remove('no sample')\n",
    "if 'exclude' in root.metadata:\n",
    "    for exc in root.metadata[ 'exclude' ]:\n",
    "        names.remove(exc)\n",
    "\n",
    "if db.dev_mode():\n",
    "    print( names )"
   ]
  },
  {
   "cell_type": "code",
   "execution_count": 15,
   "metadata": {},
   "outputs": [
    {
     "name": "stdout",
     "output_type": "stream",
     "text": [
      "no sample--ip_laser--laser_657nm_3.5mW_OD1--Andor_0.1s_100acc_300lmm_center850nm_650BPF.csv\n",
      "no sample--ip_laser--laser_657nm_3.5mW_OD1--Andor_0.1s_100acc_300lmm_center850nm_700LPF.csv\n"
     ]
    }
   ],
   "source": [
    "La = lqy.find(\n",
    "    {\n",
    "        'metadata.name' : 'no sample',\n",
    "        'metadata.em_filter' : param.laser_marker\n",
    "    }, \n",
    "    samples, \n",
    "    show_details = ( True and db.dev_mode() )\n",
    ")\n",
    "\n",
    "Pa = lqy.find(\n",
    "    {\n",
    "        'metadata.name' : 'no sample',\n",
    "        'metadata.em_filter' : param.PL_marker\n",
    "    },\n",
    "    samples,\n",
    "    show_details = ( True and db.dev_mode() )\n",
    ")"
   ]
  },
  {
   "cell_type": "code",
   "execution_count": 14,
   "metadata": {
    "local_metadata": {
     "scrolled": false
    },
    "remote_metadata": {}
   },
   "outputs": [
    {
     "name": "stdout",
     "output_type": "stream",
     "text": [
      "2--ip_outofbeam--laser_657nm_3.5mW_OD1--Andor_0.1s_100acc_300lmm_center850nm_650BPF.csv\n",
      "2--ip_inbeam--laser_657nm_3.5mW_OD1--Andor_0.1s_100acc_300lmm_center850nm_650BPF.csv\n",
      "2--ip_outofbeam--laser_657nm_3.5mW_OD1--Andor_0.1s_100acc_300lmm_center850nm_700LPF.csv\n",
      "2--ip_inbeam--laser_657nm_3.5mW_OD1--Andor_0.1s_100acc_300lmm_center850nm_700LPF.csv\n",
      "2--fs--laser_657nm_3.5mW_OD1--Andor_0.1s_100acc_300lmm_center850nm_700LPF.csv\n",
      "La = 1.40e+18 1/(s m2)\n",
      "Lb = 8.94e+17 1/(s m2)\n",
      "Lc = 3.37e+17 1/(s m2)\n",
      "Pa = 0.00e+00 1/(s m2)\n",
      "Pb = 0.00e+00 1/(s m2)\n",
      "Pc = 3.73e+16 1/(s m2)\n",
      "A = 1 - Lc/Lb = 62.2 %\n",
      "PLQY = (Pc - (1 - A) * Pb) / (La * A) = 4.29e-02\n",
      "3_bare--ip_outofbeam--laser_657nm_3.5mW_OD1--Andor_0.1s_100acc_300lmm_center850nm_650BPF.csv\n",
      "3_bare--ip_inbeam--laser_657nm_3.5mW_OD1--Andor_0.1s_100acc_300lmm_center850nm_650BPF.csv\n",
      "3_bare--ip_outofbeam--laser_657nm_3.5mW_OD1--Andor_0.1s_100acc_300lmm_center850nm_700LPF.csv\n",
      "3_bare--ip_inbeam--laser_657nm_3.5mW_OD1--Andor_0.1s_100acc_300lmm_center850nm_700LPF.csv\n",
      "3_bare--fs--laser_657nm_3.5mW_OD1--Andor_0.1s_100acc_300lmm_center850nm_700LPF.csv\n",
      "La = 1.40e+18 1/(s m2)\n",
      "Lb = 1.32e+18 1/(s m2)\n",
      "Lc = 4.93e+17 1/(s m2)\n",
      "Pa = 0.00e+00 1/(s m2)\n",
      "Pb = 0.00e+00 1/(s m2)\n",
      "Pc = 5.02e+16 1/(s m2)\n",
      "A = 1 - Lc/Lb = 62.7 %\n",
      "PLQY = (Pc - (1 - A) * Pb) / (La * A) = 5.73e-02\n",
      "1--ip_outofbeam--laser_657nm_3.5mW_OD1--Andor_0.1s_100acc_300lmm_center850nm_650BPF.csv\n",
      "1--ip_inbeam--laser_657nm_3.5mW_OD1--Andor_0.1s_100acc_300lmm_center850nm_650BPF.csv\n",
      "1--ip_outofbeam--laser_657nm_3.5mW_OD1--Andor_0.1s_100acc_300lmm_center850nm_700LPF.csv\n",
      "1--ip_inbeam--laser_657nm_3.5mW_OD1--Andor_0.1s_100acc_300lmm_center850nm_700LPF.csv\n",
      "1--fs--laser_657nm_3.5mW_OD1--Andor_0.1s_100acc_300lmm_center850nm_700LPF.csv\n",
      "La = 1.40e+18 1/(s m2)\n",
      "Lb = 6.21e+17 1/(s m2)\n",
      "Lc = 3.63e+17 1/(s m2)\n",
      "Pa = 0.00e+00 1/(s m2)\n",
      "Pb = 0.00e+00 1/(s m2)\n",
      "Pc = 3.28e+16 1/(s m2)\n",
      "A = 1 - Lc/Lb = 41.5 %\n",
      "PLQY = (Pc - (1 - A) * Pb) / (La * A) = 5.66e-02\n"
     ]
    }
   ],
   "source": [
    "for idx in range(len(names)):\n",
    "    show_details = True and db.dev_mode()\n",
    "    \n",
    "    sample_name = names[idx]\n",
    "    group = thot.filter({'metadata.name' : sample_name}, samples)\n",
    "    Lb = lqy.find({'metadata.em_filter' : param.laser_marker, 'metadata.inboob' : 'outofbeam'}, group, show_details = show_details)\n",
    "    Lc = lqy.find({'metadata.em_filter' : param.laser_marker, 'metadata.inboob' : 'inbeam'}, group, show_details = show_details)\n",
    "    Pb = lqy.find({'metadata.em_filter' : param.PL_marker, 'metadata.inboob' : 'outofbeam'}, group, show_details = show_details)\n",
    "    Pc = lqy.find({'metadata.em_filter' : param.PL_marker, 'metadata.inboob' : 'inbeam'}, group, show_details = show_details)\n",
    "    fs = lqy.find({'metadata.em_filter' : param.PL_marker, 'metadata.fsip' : 'fs'}, group, show_details = show_details)\n",
    "\n",
    "    show_details = True and db.dev_mode()\n",
    "\n",
    "    sPL = lqy.PLQY_dataset(db, La, Lb, Lc, Pa, Pb, Pc, fs, sample_name, param)\n",
    "    #sPL.fs.plot(yscale = 'linear', title = sPL.fs_asset.metadata['orig_fn'])\n",
    "    #sPL.P.plot()\n",
    "\n",
    "    sPL.find_PL_peak()\n",
    "    sPL.inb_adjust(adj_factor = None, show_adjust_factor = False, show = show_details)\n",
    "    sPL.calc_abs(what = 'inb', show_details = show_details)\n",
    "\n",
    "    #sPL.oob_adjust(adj_factor = None, show_adjust_factor = True, show = True)\n",
    "    #sPL.calc_abs(what = 'oob', show_details = show_details)\n",
    "\n",
    "    sPL.calc_PLQY(show = show_details, show_lum = 'linear')\n",
    "\n",
    "    sPL.abs_pf_spec(nsuns = 1)\n",
    "\n",
    "    sPL.save_asset()"
   ]
  },
  {
   "cell_type": "code",
   "execution_count": null,
   "metadata": {},
   "outputs": [],
   "source": []
  }
 ],
 "metadata": {
  "kernelspec": {
   "display_name": "Python 3 (ipykernel)",
   "language": "python",
   "name": "python3"
  },
  "language_info": {
   "codemirror_mode": {
    "name": "ipython",
    "version": 3
   },
   "file_extension": ".py",
   "mimetype": "text/x-python",
   "name": "python",
   "nbconvert_exporter": "python",
   "pygments_lexer": "ipython3",
   "version": "3.8.8"
  },
  "nbdime-conflicts": {
   "local_diff": [
    {
     "key": "language_info",
     "op": "add",
     "value": {
      "codemirror_mode": {
       "name": "ipython",
       "version": 3
      },
      "file_extension": ".py",
      "mimetype": "text/x-python",
      "name": "python",
      "nbconvert_exporter": "python",
      "pygments_lexer": "ipython3",
      "version": "3.8.8"
     }
    }
   ],
   "remote_diff": [
    {
     "key": "language_info",
     "op": "add",
     "value": {
      "codemirror_mode": {
       "name": "ipython",
       "version": 3
      },
      "file_extension": ".py",
      "mimetype": "text/x-python",
      "name": "python",
      "nbconvert_exporter": "python",
      "pygments_lexer": "ipython3",
      "version": "3.8.12"
     }
    }
   ]
  }
 },
 "nbformat": 4,
 "nbformat_minor": 4
}
