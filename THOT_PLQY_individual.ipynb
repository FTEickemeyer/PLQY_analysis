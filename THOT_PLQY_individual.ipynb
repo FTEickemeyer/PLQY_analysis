{
 "cells": [
  {
   "cell_type": "markdown",
   "metadata": {},
   "source": [
    "# **PLQY_individual**\n",
    "\n",
    "_by Felix Eickemeyer_\n",
    "\n",
    "PLQY\n",
    "\n",
    "Calibration and correction has to be done before."
   ]
  },
  {
   "cell_type": "code",
   "execution_count": 1,
   "metadata": {},
   "outputs": [],
   "source": [
    "import os\n",
    "from os import getcwd, listdir\n",
    "import thot\n",
    "from thot import ThotProject\n",
    "import importlib\n",
    "from importlib import reload\n",
    "\n",
    "from FTE_analysis_libraries import PLQY as lqy\n",
    "from FTE_analysis_libraries import Spectrum as spc\n",
    "from FTE_analysis_libraries.General import f1240, Vsq, V_loss, QFLS"
   ]
  },
  {
   "cell_type": "code",
   "execution_count": 2,
   "metadata": {},
   "outputs": [],
   "source": [
    "# Initializes Thot project\n",
    "db = ThotProject( dev_root = 'PLQY_results' )\n",
    "root = db.find_container( { '_id': db.root } )"
   ]
  },
  {
   "cell_type": "code",
   "execution_count": 3,
   "metadata": {},
   "outputs": [],
   "source": [
    "# Perovskite\n",
    "if 'sample_type' in root.metadata:\n",
    "    which_sample = root.metadata[ 'sample_type' ]\n",
    "\n",
    "else:\n",
    "    # default sample type\n",
    "    which_sample = 'FAPbI3'\n",
    "\n",
    "    #DSC\n",
    "    #which_sample = 'Yameng DSC'\n",
    "    #which_sample = 'dye on TiO2'\n",
    "    #which_sample = 'dye on Al2O3'\n",
    "    #which_sample = 'Coumarin 153'\n",
    "    #which_sample = 'MS5'\n",
    "    #which_sample = 'XY1b'\n",
    "\n",
    "param = lqy.exp_param(\n",
    "    which_sample = which_sample,\n",
    "    excitation_laser = None,\n",
    "    PL_left = None,\n",
    "    PL_right = None,\n",
    "    PL_peak = None,\n",
    "    corr_offs_left = 40,\n",
    "    corr_offs_right = 50,\n",
    "    PL_peak_auto = False,\n",
    "    eval_Pb = False\n",
    ")"
   ]
  },
  {
   "cell_type": "code",
   "execution_count": 4,
   "metadata": {},
   "outputs": [
    {
     "name": "stdout",
     "output_type": "stream",
     "text": [
      "['htl-pero-peai_2', 'htl-pero-peai_1', 'htl-pero-peai-c60_1', 'htl-pero-peai-c60_2']\n"
     ]
    }
   ],
   "source": [
    "samples = db.find_assets({'type' : 'calibrated PL spectrum'})\n",
    "names = list({sample.metadata['name'] for sample in samples})\n",
    "names.remove('no sample')\n",
    "if 'exclude' in root.metadata:\n",
    "    for exc in root.metadata[ 'exclude' ]:\n",
    "        names.remove(exc)\n",
    "\n",
    "if db.dev_mode():\n",
    "    print( names )"
   ]
  },
  {
   "cell_type": "code",
   "execution_count": 5,
   "metadata": {},
   "outputs": [
    {
     "name": "stdout",
     "output_type": "stream",
     "text": [
      "no sample--ip_laser--laser_657nm_3.5mW_OD1--Andor_0.1s_50acc_300lmm_center850nm_650BPF.csv\n",
      "no sample--ip_laser--laser_657nm_3.5mW_OD1--Andor_0.1s_50acc_300lmm_center850nm_700LPF.csv\n"
     ]
    }
   ],
   "source": [
    "La = lqy.find(\n",
    "    {\n",
    "        'metadata.name' : 'no sample',\n",
    "        'metadata.em_filter' : param.laser_marker\n",
    "    }, \n",
    "    samples, \n",
    "    show_details = ( True and db.dev_mode() )\n",
    ")\n",
    "\n",
    "Pa = lqy.find(\n",
    "    {\n",
    "        'metadata.name' : 'no sample',\n",
    "        'metadata.em_filter' : param.PL_marker\n",
    "    },\n",
    "    samples,\n",
    "    show_details = ( True and db.dev_mode() )\n",
    ")"
   ]
  },
  {
   "cell_type": "code",
   "execution_count": 6,
   "metadata": {
    "local_metadata": {
     "scrolled": false
    },
    "remote_metadata": {}
   },
   "outputs": [
    {
     "name": "stdout",
     "output_type": "stream",
     "text": [
      "htl-pero-peai_2\n",
      "htl-pero-peai_2--ip_outofbeam--laser_657nm_3.5mW_OD1--Andor_0.1s_50acc_300lmm_center850nm_650BPF.csv\n",
      "htl-pero-peai_2--ip_inbeam--laser_657nm_3.5mW_OD1--Andor_0.1s_50acc_300lmm_center850nm_650BPF.csv\n",
      "htl-pero-peai_2--ip_outofbeam--laser_657nm_3.5mW_OD1--Andor_0.1s_50acc_300lmm_center850nm_700LPF.csv\n",
      "htl-pero-peai_2--ip_inbeam--laser_657nm_3.5mW_OD1--Andor_0.1s_50acc_300lmm_center850nm_700LPF.csv\n",
      "htl-pero-peai_2--fs--laser_657nm_3.5mW_OD1--Andor_0.1s_50acc_300lmm_center850nm_700LPF.csv\n",
      "La = 1.35e+18 1/(s m2)\n",
      "Lb = 1.03e+18 1/(s m2)\n",
      "Lc = 2.10e+17 1/(s m2)\n",
      "Pa = 0.00e+00 1/(s m2)\n",
      "Pb = 0.00e+00 1/(s m2)\n",
      "Pc = 1.41e+17 1/(s m2)\n",
      "A = 1 - Lc/Lb = 79.6 %\n",
      "PLQY = (Pc - (1 - A) * Pb) / (La * A) = 1.31e-01\n",
      "htl-pero-peai_1\n",
      "htl-pero-peai_1--ip_outofbeam--laser_657nm_3.5mW_OD1--Andor_0.1s_50acc_300lmm_center850nm_650BPF.csv\n",
      "htl-pero-peai_1--ip_inbeam--laser_657nm_3.5mW_OD1--Andor_0.1s_50acc_300lmm_center850nm_650BPF.csv\n",
      "htl-pero-peai_1--ip_outofbeam--laser_657nm_3.5mW_OD1--Andor_0.1s_50acc_300lmm_center850nm_700LPF.csv\n",
      "htl-pero-peai_1--ip_inbeam--laser_657nm_3.5mW_OD1--Andor_0.1s_50acc_300lmm_center850nm_700LPF.csv\n",
      "htl-pero-peai_1--fs--laser_657nm_3.5mW_OD1--Andor_0.1s_50acc_300lmm_center850nm_700LPF.csv\n",
      "La = 1.35e+18 1/(s m2)\n",
      "Lb = 1.02e+18 1/(s m2)\n",
      "Lc = 2.07e+17 1/(s m2)\n",
      "Pa = 0.00e+00 1/(s m2)\n",
      "Pb = 0.00e+00 1/(s m2)\n",
      "Pc = 1.49e+17 1/(s m2)\n",
      "A = 1 - Lc/Lb = 79.8 %\n",
      "PLQY = (Pc - (1 - A) * Pb) / (La * A) = 1.39e-01\n",
      "htl-pero-peai-c60_1\n",
      "htl-pero-peai-c60_1--ip_outofbeam--laser_657nm_3.5mW_OD1--Andor_0.1s_50acc_300lmm_center850nm_650BPF.csv\n",
      "htl-pero-peai-c60_1--ip_inbeam--laser_657nm_3.5mW_OD1--Andor_0.1s_50acc_300lmm_center850nm_650BPF.csv\n",
      "htl-pero-peai-c60_1--ip_outofbeam--laser_657nm_3.5mW_OD1--Andor_0.1s_50acc_300lmm_center850nm_700LPF.csv\n",
      "htl-pero-peai-c60_1--ip_inbeam--laser_657nm_3.5mW_OD1--Andor_0.1s_50acc_300lmm_center850nm_700LPF.csv\n",
      "htl-pero-peai-c60_1--fs--laser_657nm_3.5mW_OD1--Andor_0.1s_50acc_300lmm_center850nm_700LPF.csv\n",
      "La = 1.35e+18 1/(s m2)\n",
      "Lb = 1.04e+18 1/(s m2)\n",
      "Lc = 2.18e+17 1/(s m2)\n",
      "Pa = 0.00e+00 1/(s m2)\n",
      "Pb = 0.00e+00 1/(s m2)\n",
      "Pc = 4.95e+15 1/(s m2)\n",
      "A = 1 - Lc/Lb = 79.1 %\n",
      "PLQY = (Pc - (1 - A) * Pb) / (La * A) = 4.65e-03\n",
      "htl-pero-peai-c60_2\n",
      "htl-pero-peai-c60_2--ip_outofbeam--laser_657nm_3.5mW_OD1--Andor_0.1s_50acc_300lmm_center850nm_650BPF.csv\n",
      "htl-pero-peai-c60_2--ip_inbeam--laser_657nm_3.5mW_OD1--Andor_0.1s_50acc_300lmm_center850nm_650BPF.csv\n",
      "htl-pero-peai-c60_2--ip_outofbeam--laser_657nm_3.5mW_OD1--Andor_0.1s_50acc_300lmm_center850nm_700LPF.csv\n",
      "htl-pero-peai-c60_2--ip_inbeam--laser_657nm_3.5mW_OD1--Andor_0.1s_50acc_300lmm_center850nm_700LPF.csv\n",
      "htl-pero-peai-c60_2--fs--laser_657nm_3.5mW_OD1--Andor_0.1s_50acc_300lmm_center850nm_700LPF.csv\n",
      "La = 1.35e+18 1/(s m2)\n",
      "Lb = 1.05e+18 1/(s m2)\n",
      "Lc = 2.13e+17 1/(s m2)\n",
      "Pa = 0.00e+00 1/(s m2)\n",
      "Pb = 0.00e+00 1/(s m2)\n",
      "Pc = 3.37e+15 1/(s m2)\n",
      "A = 1 - Lc/Lb = 79.7 %\n",
      "PLQY = (Pc - (1 - A) * Pb) / (La * A) = 3.14e-03\n"
     ]
    }
   ],
   "source": [
    "for sample_name in names:\n",
    "    show_details = True and db.dev_mode()\n",
    "    print( sample_name )\n",
    "    group = thot.filter({'metadata.name' : sample_name}, samples)\n",
    "    Lb = lqy.find({'metadata.em_filter' : param.laser_marker, 'metadata.inboob' : 'outofbeam'}, group, show_details = show_details)\n",
    "    Lc = lqy.find({'metadata.em_filter' : param.laser_marker, 'metadata.inboob' : 'inbeam'}, group, show_details = show_details)\n",
    "    Pb = lqy.find({'metadata.em_filter' : param.PL_marker, 'metadata.inboob' : 'outofbeam'}, group, show_details = show_details)\n",
    "    Pc = lqy.find({'metadata.em_filter' : param.PL_marker, 'metadata.inboob' : 'inbeam'}, group, show_details = show_details)\n",
    "    fs = lqy.find({'metadata.em_filter' : param.PL_marker, 'metadata.fsip' : 'fs'}, group, show_details = show_details)\n",
    "\n",
    "    save_plots = True\n",
    "\n",
    "    sPL = lqy.PLQY_dataset(db, La, Lb, Lc, Pa, Pb, Pc, fs, sample_name, param)\n",
    "    #sPL.fs.plot(yscale = 'linear', title = sPL.fs_asset.metadata['orig_fn'])\n",
    "    #sPL.P.plot()\n",
    "\n",
    "    sPL.find_PL_peak()\n",
    "    sPL.inb_adjust(adj_factor = None, show_adjust_factor = False, save_plots = save_plots)\n",
    "    sPL.calc_abs(what = 'inb', save_plots = save_plots)\n",
    "\n",
    "    #sPL.oob_adjust(adj_factor = None, show_adjust_factor = True, show = True)\n",
    "    #sPL.calc_abs(what = 'oob', show_details = show_details)\n",
    "\n",
    "    sPL.calc_PLQY(show = show_details, save_plots = save_plots, show_lum = 'linear')\n",
    "\n",
    "    sPL.abs_pf_spec(nsuns = 1)\n",
    "\n",
    "    sPL.save_asset()"
   ]
  },
  {
   "cell_type": "code",
   "execution_count": null,
   "metadata": {},
   "outputs": [],
   "source": []
  }
 ],
 "metadata": {
  "kernelspec": {
   "display_name": "Python 3 (ipykernel)",
   "language": "python",
   "name": "python3"
  },
  "language_info": {
   "codemirror_mode": {
    "name": "ipython",
    "version": 3
   },
   "file_extension": ".py",
   "mimetype": "text/x-python",
   "name": "python",
   "nbconvert_exporter": "python",
   "pygments_lexer": "ipython3",
   "version": "3.8.12"
  },
  "nbdime-conflicts": {
   "local_diff": [
    {
     "key": "language_info",
     "op": "add",
     "value": {
      "codemirror_mode": {
       "name": "ipython",
       "version": 3
      },
      "file_extension": ".py",
      "mimetype": "text/x-python",
      "name": "python",
      "nbconvert_exporter": "python",
      "pygments_lexer": "ipython3",
      "version": "3.8.8"
     }
    }
   ],
   "remote_diff": [
    {
     "key": "language_info",
     "op": "add",
     "value": {
      "codemirror_mode": {
       "name": "ipython",
       "version": 3
      },
      "file_extension": ".py",
      "mimetype": "text/x-python",
      "name": "python",
      "nbconvert_exporter": "python",
      "pygments_lexer": "ipython3",
      "version": "3.8.12"
     }
    }
   ]
  }
 },
 "nbformat": 4,
 "nbformat_minor": 4
}
