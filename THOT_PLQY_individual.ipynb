{
 "cells": [
  {
   "cell_type": "markdown",
   "metadata": {},
   "source": [
    "# **PLQY_individual**\n",
    "\n",
    "_by Felix Eickemeyer_\n",
    "\n",
    "Calculation of PLQY for each sample."
   ]
  },
  {
   "cell_type": "code",
   "execution_count": null,
   "metadata": {},
   "outputs": [],
   "source": [
    "import warnings\n",
    "\n",
    "import thot\n",
    "\n",
    "from FTE_analysis_libraries import PLQY as lqy\n",
    "from FTE_analysis_libraries import Spectrum as spc\n",
    "from FTE_analysis_libraries.General import f1240, Vsq, V_loss, QFLS"
   ]
  },
  {
   "cell_type": "markdown",
   "metadata": {},
   "source": [
    "#### Initialize Thot project"
   ]
  },
  {
   "cell_type": "code",
   "execution_count": null,
   "metadata": {
    "tags": []
   },
   "outputs": [],
   "source": [
    "db = thotThotProject(dev_root = 'PLQY_results')\n",
    "root = db.find_container( { '_id': db.root } )"
   ]
  },
  {
   "cell_type": "markdown",
   "metadata": {},
   "source": [
    "#### Get sample type"
   ]
  },
  {
   "cell_type": "code",
   "execution_count": null,
   "metadata": {},
   "outputs": [],
   "source": [
    "if 'sample_type' in root.metadata:\n",
    "    which_sample = root.metadata[ 'sample_type' ]\n",
    "\n",
    "else:\n",
    "    # default sample type\n",
    "    # which_sample = 'Haizhou-FAPbI3'\n",
    "    which_sample = 'FAPbI3'\n",
    "\n",
    "    # DSC\n",
    "    # which_sample = 'Yameng DSC'\n",
    "    # which_sample = 'dye on TiO2'\n",
    "    # which_sample = 'dye on Al2O3'\n",
    "    # which_sample = 'Coumarin 153'\n",
    "    # which_sample = 'MS5'\n",
    "    # which_sample = 'XY1b'\n",
    "\n",
    "param = lqy.exp_param(\n",
    "    which_sample = which_sample,\n",
    "    excitation_laser = None,\n",
    "    PL_left = None,\n",
    "    PL_right = None,\n",
    "    PL_peak = None,\n",
    "    corr_offs_left = 40,\n",
    "    corr_offs_right = 50,\n",
    "    PL_peak_auto = False,\n",
    "    eval_Pb = False\n",
    ")"
   ]
  },
  {
   "cell_type": "markdown",
   "metadata": {},
   "source": [
    "#### Group samples"
   ]
  },
  {
   "cell_type": "code",
   "execution_count": null,
   "metadata": {},
   "outputs": [],
   "source": [
    "samples = db.find_assets( { 'type': 'calibrated PL spectrum' } )\n",
    "names = list( { sample.metadata[ 'name' ] for sample in samples } )\n",
    "if 'no sample' not in names:\n",
    "    raise RuntimeError( 'No sample data not found.' )\n",
    "\n",
    "names.remove( 'no sample' )\n",
    "if 'exclude' in root.metadata:\n",
    "    for exc in root.metadata[ 'exclude' ]:\n",
    "        names.remove( exc )\n",
    "\n",
    "if db.dev_mode():\n",
    "    print( names )"
   ]
  },
  {
   "cell_type": "markdown",
   "metadata": {},
   "source": [
    "#### No sample data"
   ]
  },
  {
   "cell_type": "code",
   "execution_count": null,
   "metadata": {},
   "outputs": [],
   "source": [
    "La = lqy.find(\n",
    "    { 'metadata.name': 'no sample', 'metadata.em_filter': param.laser_marker },\n",
    "    samples,\n",
    "    show_details = ( True and db.dev_mode() )\n",
    ")\n",
    "\n",
    "Pa = lqy.find(\n",
    "    { 'metadata.name': 'no sample', 'metadata.em_filter': param.PL_marker },\n",
    "    samples,\n",
    "    show_details = ( True and db.dev_mode() )\n",
    ")"
   ]
  },
  {
   "cell_type": "markdown",
   "metadata": {},
   "source": [
    "### Calculate PLQY"
   ]
  },
  {
   "cell_type": "code",
   "execution_count": null,
   "metadata": {
    "scrolled": false
   },
   "outputs": [],
   "source": [
    "# You can change maxNumberOutputs in settings: click on Menu bar → Settings → Advanced Settings Editor → Notebook → set maxNumberOutputs in the User Preferences tab, like:\n",
    "# {\n",
    "#     \"maxNumberOutputs\": 0\n",
    "# }\n",
    "\n",
    "# idx = 0\n",
    "# param.eval_Pb = True\n",
    "show_details = ( True and db.dev_mode() )\n",
    "save_plots = ( False or not db.dev_mode() )\n",
    "\n",
    "for idx, sample_name in enumerate( names ):\n",
    "    if show_details:\n",
    "        print( f'\\n{idx:2} ____________________________' )\n",
    "        print( sample_name )\n",
    "\n",
    "    # get all sample data in group\n",
    "    group = thot.filter( { 'metadata.name': sample_name }, samples )\n",
    "    Lb = lqy.find(\n",
    "        { 'metadata.em_filter': param.laser_marker, 'metadata.inboob': 'outofbeam' },\n",
    "        group,\n",
    "        show_details = show_details\n",
    "    )\n",
    "    \n",
    "    Lc = lqy.find(\n",
    "        { 'metadata.em_filter': param.laser_marker, 'metadata.inboob': 'inbeam' },\n",
    "        group,\n",
    "        show_details = show_details\n",
    "    )\n",
    "    \n",
    "    Pb = lqy.find(\n",
    "        { 'metadata.em_filter': param.PL_marker, 'metadata.inboob': 'outofbeam' },\n",
    "        group,\n",
    "        show_details = show_details\n",
    "    )\n",
    "    \n",
    "    Pc = lqy.find(\n",
    "        { 'metadata.em_filter': param.PL_marker, 'metadata.inboob': 'inbeam' },\n",
    "        group,\n",
    "        show_details = show_details\n",
    "    )\n",
    "    \n",
    "    fs = lqy.find(\n",
    "        { 'metadata.em_filter': param.PL_marker, 'metadata.fsip': 'fs' },\n",
    "        group,\n",
    "        show_details = show_details\n",
    "    )\n",
    "\n",
    "    # check for missing data\n",
    "    missing = []\n",
    "    if Lb is None:\n",
    "        missing.append( 'Lb' )\n",
    "    \n",
    "    if Lc is None:\n",
    "        missing.append( 'Lc' )\n",
    "        \n",
    "    if fs is None:\n",
    "        missing.append( 'fs' )\n",
    "    \n",
    "    if Pc is None:\n",
    "        missing.append( 'Pc' )\n",
    "    \n",
    "    if ( Pb is None ) and ( param.eval_Pb == True ):\n",
    "        missing.append( 'Pb' )\n",
    "    \n",
    "    if len(missing):\n",
    "        warnings.warn(\n",
    "            f\"{missing} is missing for sample {sample_name}, PLQY can't be evaluated!\"\n",
    "        )\n",
    "        \n",
    "        continue\n",
    "\n",
    "    # calculate PLQY data\n",
    "    sPL = lqy.PLQY_dataset( db, La, Lb, Lc, Pa, Pb, Pc, fs, sample_name, param )\n",
    "    # sPL.fs.plot( yscale = 'linear', title = sPL.fs_asset.metadata[ 'orig_fn' ] )\n",
    "\n",
    "    sPL.find_PL_peak()\n",
    "    sPL.inb_adjust(\n",
    "        adj_factor = None,\n",
    "        show_adjust_factor = False,\n",
    "        save_plots = save_plots,\n",
    "        show_plots = show_details\n",
    "    )\n",
    "    \n",
    "    sPL.calc_abs( what = 'inb', save_plots = show_details, show_plot = show_details )\n",
    "\n",
    "    if param.eval_Pb == True:\n",
    "        sPL.oob_adjust(\n",
    "            adj_factor = None,\n",
    "            show_adjust_factor = True,\n",
    "            save_plots = save_plots,\n",
    "            show_plots = show_details\n",
    "        )\n",
    "        \n",
    "        sPL.calc_abs( what = 'oob', save_plots = show_details, show_plot = show_details )\n",
    "\n",
    "    sPL.calc_PLQY(\n",
    "        show = show_details,\n",
    "        show_plots = show_details,\n",
    "        save_plots = save_plots,\n",
    "        show_lum = 'linear'\n",
    "    )\n",
    "    \n",
    "    # save data\n",
    "    sPL.abs_pf_spec( nsuns = 1 )\n",
    "    sPL.save_asset()"
   ]
  },
  {
   "cell_type": "code",
   "execution_count": null,
   "metadata": {},
   "outputs": [],
   "source": []
  }
 ],
 "metadata": {
  "kernelspec": {
   "display_name": "Python 3 (ipykernel)",
   "language": "python",
   "name": "python3"
  },
  "language_info": {
   "codemirror_mode": {
    "name": "ipython",
    "version": 3
   },
   "file_extension": ".py",
   "mimetype": "text/x-python",
   "name": "python",
   "nbconvert_exporter": "python",
   "pygments_lexer": "ipython3",
   "version": "3.8.8"
  }
 },
 "nbformat": 4,
 "nbformat_minor": 4
}
