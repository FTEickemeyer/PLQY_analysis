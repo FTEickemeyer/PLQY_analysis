{
 "cells": [
  {
   "cell_type": "markdown",
   "metadata": {},
   "source": [
    "# **PLQY_individual**\n",
    "\n",
    "_by Felix Eickemeyer_\n",
    "\n",
    "Calculation of PLQY for each sample."
   ]
  },
  {
   "cell_type": "code",
   "execution_count": null,
   "metadata": {},
   "outputs": [],
   "source": [
    "import os\n",
    "from os import getcwd, listdir\n",
    "import thot\n",
    "from thot import ThotProject\n",
    "import importlib\n",
    "from importlib import reload\n",
    "import warnings\n",
    "\n",
    "from FTE_analysis_libraries import PLQY as lqy\n",
    "from FTE_analysis_libraries import Spectrum as spc\n",
    "from FTE_analysis_libraries.General import f1240, Vsq, V_loss, QFLS"
   ]
  },
  {
   "cell_type": "code",
   "execution_count": null,
   "metadata": {
    "tags": []
   },
   "outputs": [],
   "source": [
    "# Initializes Thot project\n",
    "db = ThotProject( dev_root = r'PLQY_results' )\n",
    "root = db.find_container( dict(_id = db.root) )"
   ]
  },
  {
   "cell_type": "code",
   "execution_count": null,
   "metadata": {},
   "outputs": [],
   "source": [
    "#Perovskite\n",
    "\n",
    "if 'sample_type' in root.metadata:\n",
    "    which_sample = root.metadata[ 'sample_type' ]\n",
    "\n",
    "else:\n",
    "    # default sample type\n",
    "    #which_sample = 'Haizhou-FAPbI3'\n",
    "    which_sample = 'FAPbI3'\n",
    "\n",
    "    #DSC\n",
    "    #which_sample = 'Yameng DSC'\n",
    "    #which_sample = 'dye on TiO2'\n",
    "    #which_sample = 'dye on Al2O3'\n",
    "    #which_sample = 'Coumarin 153'\n",
    "    #which_sample = 'MS5'\n",
    "    #which_sample = 'XY1b'\n",
    "\n",
    "param = lqy.exp_param(which_sample = which_sample, excitation_laser = None, PL_left = None, PL_right = None, PL_peak = None, corr_offs_left = 40, corr_offs_right = 50, PL_peak_auto = False, eval_Pb = False)"
   ]
  },
  {
   "cell_type": "code",
   "execution_count": null,
   "metadata": {},
   "outputs": [],
   "source": [
    "samples = db.find_assets({'type' : 'calibrated PL spectrum'})\n",
    "names = list({sample.metadata['name'] for sample in samples})\n",
    "names.remove('no sample')\n",
    "if 'exclude' in root.metadata:\n",
    "    for exc in root.metadata[ 'exclude' ]:\n",
    "        names.remove(exc)\n",
    "if db.dev_mode():\n",
    "    print( names )"
   ]
  },
  {
   "cell_type": "code",
   "execution_count": null,
   "metadata": {},
   "outputs": [],
   "source": [
    "La = lqy.find({'metadata.name' : 'no sample', 'metadata.em_filter' : param.laser_marker}, samples, show_details = ( True and db.dev_mode() ))\n",
    "Pa = lqy.find({'metadata.name' : 'no sample', 'metadata.em_filter' : param.PL_marker}, samples, show_details = ( True and db.dev_mode() ))"
   ]
  },
  {
   "cell_type": "code",
   "execution_count": null,
   "metadata": {},
   "outputs": [],
   "source": [
    "from importlib import reload\n",
    "reload(lqy)"
   ]
  },
  {
   "cell_type": "code",
   "execution_count": null,
   "metadata": {},
   "outputs": [],
   "source": [
    "# You can change maxNumberOutputs in settings: click on Menu bar → Settings → Advanced Settings Editor → Notebook → set maxNumberOutputs in the User Preferences tab, like:\n",
    "# {\n",
    "#     \"maxNumberOutputs\": 0\n",
    "# }\n",
    "\n",
    "#idx = 0\n",
    "#param.eval_Pb = True\n",
    "show_details = ( True and db.dev_mode() )\n",
    "save_plots = ( False or not db.dev_mode() )\n",
    "\n",
    "\n",
    "for idx in range(len(names)):\n",
    "\n",
    "    sample_name = names[idx]\n",
    "\n",
    "\n",
    "    print(f'\\n{idx:}____________________________')\n",
    "    print(sample_name)\n",
    "\n",
    "    group = thot.filter({'metadata.name' : sample_name}, samples)\n",
    "    Lb = lqy.find({'metadata.em_filter' : param.laser_marker, 'metadata.inboob' : 'outofbeam'}, group, show_details = show_details)\n",
    "    Lc = lqy.find({'metadata.em_filter' : param.laser_marker, 'metadata.inboob' : 'inbeam'}, group, show_details = show_details)\n",
    "    Pb = lqy.find({'metadata.em_filter' : param.PL_marker, 'metadata.inboob' : 'outofbeam'}, group, show_details = show_details)\n",
    "    Pc = lqy.find({'metadata.em_filter' : param.PL_marker, 'metadata.inboob' : 'inbeam'}, group, show_details = show_details)\n",
    "    fs = lqy.find({'metadata.em_filter' : param.PL_marker, 'metadata.fsip' : 'fs'}, group, show_details = show_details)\n",
    "\n",
    "    if ( Lb is None ) or ( Lc is None ) or (fs is None) or ( Pc is None ) or ( (Pb is None) and (param.eval_Pb == True) ):\n",
    "        warnings.warn(\"Attention: One or more of the necessary data is missing, PLQY can't be evaluated!\")\n",
    "        continue\n",
    "\n",
    "    sPL = lqy.PLQY_dataset(db, La, Lb, Lc, Pa, Pb, Pc, fs, sample_name, param)\n",
    "    #sPL.fs.plot(yscale = 'linear', title = sPL.fs_asset.metadata['orig_fn'])\n",
    "\n",
    "    sPL.find_PL_peak()\n",
    "    sPL.inb_adjust(adj_factor = None, show_adjust_factor = False, save_plots = save_plots, show_plots = show_details)\n",
    "    sPL.calc_abs(what = 'inb', save_plots = show_details, show_plot = show_details)\n",
    "\n",
    "    if param.eval_Pb == True:\n",
    "        sPL.oob_adjust(adj_factor = None, show_adjust_factor = True, save_plots = save_plots, show_plots = show_details)\n",
    "        sPL.calc_abs(what = 'oob', save_plots = show_details, show_plot = show_details)\n",
    "\n",
    "    sPL.calc_PLQY(show = show_details, show_plots = show_details, save_plots = save_plots, show_lum = 'linear')\n",
    "\n",
    "    sPL.abs_pf_spec(nsuns = 1)\n",
    "\n",
    "    sPL.save_asset()"
   ]
  },
  {
   "cell_type": "code",
   "execution_count": null,
   "metadata": {},
   "outputs": [],
   "source": []
  }
 ],
 "metadata": {
  "kernelspec": {
   "display_name": "Python 3 (ipykernel)",
   "language": "python",
   "name": "python3"
  },
  "language_info": {
   "codemirror_mode": {
    "name": "ipython",
    "version": 3
   },
   "file_extension": ".py",
   "mimetype": "text/x-python",
   "name": "python",
   "nbconvert_exporter": "python",
   "pygments_lexer": "ipython3",
   "version": "3.8.12"
  }
 },
 "nbformat": 4,
 "nbformat_minor": 4
}
