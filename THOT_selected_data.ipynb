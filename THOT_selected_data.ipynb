{
 "cells": [
  {
   "cell_type": "markdown",
   "metadata": {},
   "source": [
    "# **PLQY_all**\n",
    "\n",
    "_by Felix Eickemeyer_\n",
    "\n",
    "Evaluation of selected data."
   ]
  },
  {
   "cell_type": "code",
   "execution_count": null,
   "metadata": {},
   "outputs": [],
   "source": [
    "import os\n",
    "\n",
    "import pandas as pd\n",
    "import shutil\n",
    "from thot import ThotProject\n",
    "\n",
    "from FTE_analysis_libraries import General as gen\n",
    "from FTE_analysis_libraries import PLQY as lqy\n",
    "from FTE_analysis_libraries import Spectrum as spc"
   ]
  },
  {
   "cell_type": "code",
   "execution_count": null,
   "metadata": {},
   "outputs": [],
   "source": [
    "# Initializes Thot project\n",
    "db = ThotProject(dev_root=r'PLQY_results')"
   ]
  },
  {
   "cell_type": "code",
   "execution_count": null,
   "metadata": {},
   "outputs": [],
   "source": [
    "samples = db.find_assets({'type': 'absolute PL spectrum'})\n",
    "sample_strlen = int(max([len(samples[idx].name.split('_absolute')[0]) for idx in range(len(samples))]))\n",
    "for idx, sample in enumerate(samples):\n",
    "    A = sample.metadata[\"A\"]\n",
    "    PLQY = sample.metadata[\"PLQY\"]\n",
    "    s_name = samples[idx].name.split('_absolute')[0]\n",
    "    print(f'{idx:2}: {s_name.ljust(sample_strlen+1)}: A = {A:.1e}, PLQY = {PLQY:.1e}')"
   ]
  },
  {
   "cell_type": "markdown",
   "metadata": {},
   "source": [
    "# Select samples"
   ]
  },
  {
   "cell_type": "code",
   "execution_count": null,
   "metadata": {},
   "outputs": [],
   "source": [
    "samples = db.find_assets({'type': 'absolute PL spectrum'})\n",
    "\n",
    "selection_type = 'higher bg perovskite'\n",
    "#selection = [2, 3, 6, 18, 11, 12] # 'humidity variation'\n",
    "#selection = [6, 18, 4, 5] # 'solution ageing (4 h)'\n",
    "#selection = [6, 18, 9, 10] # 'dry air flow rate'\n",
    "#selection = [6, 18, 7, 8] # 'spin-coating inside/outside, annealing inside'\n",
    "selection = [6, 18, 15, 16] # 'higher bg perovskite'\n",
    "\n",
    "samples = [samples[selection[idx]] for idx in range(len(selection))]\n",
    "sa = []\n",
    "for idx, sample in enumerate(samples):\n",
    "    # sample.file = sample.file+'.csv' #only for Shuai samples, delete later\n",
    "    sa.append(spc.PEL_spectrum.load(sample.file, take_quants_and_units_from_file=True))\n",
    "    print(f'{idx:2}: {sample.name}')"
   ]
  },
  {
   "cell_type": "code",
   "execution_count": null,
   "metadata": {},
   "outputs": [],
   "source": [
    "allPL = spc.PEL_spectra(sa)\n",
    "allPL.names_to_label()\n",
    "\n",
    "new_labels = []\n",
    "strlen = int(max([len(samples[idx].name.split('_absolute')[0]) for idx in range(len(samples))]))\n",
    "\n",
    "for idx in range(len(samples)):\n",
    "    allPL.sa[idx].plotstyle = dict(color = gen.colors[idx], linewidth = 5, linestyle = '-')\n",
    "    sm = samples[idx].metadata\n",
    "    A = sm['A']\n",
    "    PLQY = sm['PLQY']\n",
    "    s_name = samples[idx].name.split('_absolute')[0]\n",
    "    new_labels.append(s_name)\n",
    "    PF = allPL.sa[idx].photonflux(start = 700, stop = 900)\n",
    "    print(f'{s_name.ljust(strlen+1)}: A = {A:.1e}, PLQY = {PLQY:.1e}, PF = {PF:.1e} 1/(s m2)')\n",
    "\n",
    "change_plotstyle = False\n",
    "if change_plotstyle:\n",
    "    allPL.sa[0].plotstyle = dict(color = gen.colors[0], linewidth = 5, linestyle = '-')\n",
    "    allPL.sa[1].plotstyle = dict(color = gen.colors[0], linewidth = 5, linestyle = '-')\n",
    "    allPL.sa[2].plotstyle = dict(color = gen.colors[1], linewidth = 5, linestyle = '-')\n",
    "    allPL.sa[3].plotstyle = dict(color = gen.colors[1], linewidth = 5, linestyle = '-')\n",
    "    allPL.sa[4].plotstyle = dict(color = gen.colors[2], linewidth = 5, linestyle = '-')\n",
    "    allPL.sa[5].plotstyle = dict(color = gen.colors[3], linewidth = 5, linestyle = '-')\n",
    "    #allPL.sa[6].plotstyle = dict(color = gen.colors[1], linewidth = 5, linestyle = '-')\n",
    "    #allPL.sa[7].plotstyle = dict(color = gen.colors[1], linewidth = 5, linestyle = '-')\n",
    "    #allPL.sa[8].plotstyle = dict(color = gen.colors[2], linewidth = 5, linestyle = '-')\n",
    "    #allPL.sa[9].plotstyle = dict(color = gen.colors[2], linewidth = 5, linestyle = '-')\n",
    "    #allPL.sa[10].plotstyle = dict(color = gen.colors[2], linewidth = 5, linestyle = '-')\n",
    "    #allPL.sa[11].plotstyle = dict(color = gen.colors[2], linewidth = 5, linestyle = '-')\n",
    "    #allPL.sa[12].plotstyle = dict(color = gen.colors[3], linewidth = 5, linestyle = '-')\n",
    "    #allPL.sa[13].plotstyle = dict(color = gen.colors[3], linewidth = 5, linestyle = '-')\n",
    "    #allPL.sa[14].plotstyle = dict(color = gen.colors[3], linewidth = 5, linestyle = '-')\n",
    "    change_plotstyle = False\n",
    "    \n",
    "change_plotstyle = True\n",
    "if change_plotstyle:\n",
    "    for idx, sp in enumerate(allPL.sa):\n",
    "        if idx < 2:\n",
    "            sp.plotstyle = dict(color=gen.colors[0], linewidth=5, linestyle='-')\n",
    "        elif idx < 4:\n",
    "            sp.plotstyle = dict(color=gen.colors[1], linewidth=5, linestyle='-')\n",
    "        elif idx < 6:\n",
    "            sp.plotstyle = dict(color=gen.colors[2], linewidth=5, linestyle='-')\n",
    "        else:\n",
    "            sp.plotstyle = dict(color=gen.colors[3], linewidth=5, linestyle='-')\n",
    "    change_plotstyle = False\n",
    "\n",
    "\n",
    "# allPL.label(['s1', 's2', 's3', 's4', 's6'])\n",
    "allPL.label(new_labels)\n",
    "FN_lin = selection_type.replace(' ', '_') + '_linear.png'\n",
    "all_graph = allPL.plot(bottom=0, plotstyle='individual', figsize=(8, 6),\n",
    "                       return_fig=True, show_plot=False, title=selection_type)\n",
    "lqy.add_graph(db, FN_lin, all_graph)\n",
    "\n",
    "FN_log = selection_type.replace(' ', '_') + '_semilog.png'\n",
    "all_graph_log = allPL.plot(yscale='log',\n",
    "                           bottom=1e15,\n",
    "                           divisor=1e3,\n",
    "                           plotstyle='individual',\n",
    "                           figsize=(8, 6),\n",
    "                           return_fig=True,\n",
    "                           show_plot=False,\n",
    "                           title=selection_type)\n",
    "lqy.add_graph(db, FN_log, all_graph_log)"
   ]
  },
  {
   "cell_type": "markdown",
   "metadata": {},
   "source": [
    "# Save all data in exchange folder"
   ]
  },
  {
   "cell_type": "code",
   "execution_count": null,
   "metadata": {},
   "outputs": [],
   "source": [
    "exch_dir = os.path.join(db.root, 'exchange')\n",
    "\n",
    "# graph linear\n",
    "filepath = os.path.join(exch_dir, FN_lin)\n",
    "all_graph.savefig(filepath)\n",
    "\n",
    "# graph semilog\n",
    "filepath = os.path.join(exch_dir, FN_log)\n",
    "all_graph_log.savefig(filepath)\n"
   ]
  },
  {
   "cell_type": "code",
   "execution_count": null,
   "metadata": {},
   "outputs": [],
   "source": []
  }
 ],
 "metadata": {
  "kernelspec": {
   "display_name": "Python 3 (ipykernel)",
   "language": "python",
   "name": "python3"
  },
  "language_info": {
   "codemirror_mode": {
    "name": "ipython",
    "version": 3
   },
   "file_extension": ".py",
   "mimetype": "text/x-python",
   "name": "python",
   "nbconvert_exporter": "python",
   "pygments_lexer": "ipython3",
   "version": "3.9.13"
  }
 },
 "nbformat": 4,
 "nbformat_minor": 4
}
