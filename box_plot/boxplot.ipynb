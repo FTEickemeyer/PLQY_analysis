{
 "cells": [
  {
   "cell_type": "code",
   "execution_count": 2,
   "id": "072e86fb-cdb3-4e7a-85e0-daf669be434b",
   "metadata": {},
   "outputs": [],
   "source": [
    "import numpy as np\n",
    "import pandas as pd"
   ]
  },
  {
   "cell_type": "code",
   "execution_count": 9,
   "id": "2f3406fe-3d1f-42dc-9bcd-c03bac1a7df9",
   "metadata": {},
   "outputs": [
    {
     "name": "stdout",
     "output_type": "stream",
     "text": [
      "As the xlwt package is no longer maintained, the xlwt engine will be removed in a future version of pandas. This is the only engine in pandas that supports writing in the xls format. Install openpyxl and write to an xlsx file instead.\n",
      "\n",
      ": boolean\n",
      "    use_inf_as_null had been deprecated and will be removed in a future\n",
      "    version. Use `use_inf_as_na` instead.\n",
      "\n"
     ]
    },
    {
     "name": "stderr",
     "output_type": "stream",
     "text": [
      "C:\\ProgramData\\Anaconda3\\lib\\site-packages\\pandas\\_config\\config.py:630: FutureWarning: As the xlwt package is no longer maintained, the xlwt engine will be removed in a future version of pandas. This is the only engine in pandas that supports writing in the xls format. Install openpyxl and write to an xlsx file instead.\n",
      "  warnings.warn(d.msg, FutureWarning)\n",
      "C:\\ProgramData\\Anaconda3\\lib\\site-packages\\pandas\\_config\\config.py:630: FutureWarning: \n",
      ": boolean\n",
      "    use_inf_as_null had been deprecated and will be removed in a future\n",
      "    version. Use `use_inf_as_na` instead.\n",
      "\n",
      "  warnings.warn(d.msg, FutureWarning)\n"
     ]
    },
    {
     "data": {
      "text/html": [
       "<div>\n",
       "<style scoped>\n",
       "    .dataframe tbody tr th:only-of-type {\n",
       "        vertical-align: middle;\n",
       "    }\n",
       "\n",
       "    .dataframe tbody tr th {\n",
       "        vertical-align: top;\n",
       "    }\n",
       "\n",
       "    .dataframe thead th {\n",
       "        text-align: right;\n",
       "    }\n",
       "</style>\n",
       "<table border=\"1\" class=\"dataframe\">\n",
       "  <thead>\n",
       "    <tr style=\"text-align: right;\">\n",
       "      <th></th>\n",
       "      <th></th>\n",
       "      <th>PLQY</th>\n",
       "      <th>Rad. limit Jsc (mA/cm2)</th>\n",
       "      <th>Jrad0 (mA/cm2)</th>\n",
       "      <th>Rad. limit of Voc (V)</th>\n",
       "      <th>delta V (V)</th>\n",
       "      <th>QFLS/q (V)</th>\n",
       "    </tr>\n",
       "    <tr>\n",
       "      <th>Sample</th>\n",
       "      <th>sample_type</th>\n",
       "      <th></th>\n",
       "      <th></th>\n",
       "      <th></th>\n",
       "      <th></th>\n",
       "      <th></th>\n",
       "      <th></th>\n",
       "    </tr>\n",
       "  </thead>\n",
       "  <tbody>\n",
       "    <tr>\n",
       "      <th>Ef_FIRA_L171</th>\n",
       "      <th>Ef_FIRA</th>\n",
       "      <td>0.01550</td>\n",
       "      <td>25.1</td>\n",
       "      <td>4.310000e-21</td>\n",
       "      <td>1.288</td>\n",
       "      <td>-0.107</td>\n",
       "      <td>1.181</td>\n",
       "    </tr>\n",
       "    <tr>\n",
       "      <th>Ef_FIRA_L175</th>\n",
       "      <th>Ef_FIRA</th>\n",
       "      <td>0.00780</td>\n",
       "      <td>25.0</td>\n",
       "      <td>3.560000e-21</td>\n",
       "      <td>1.292</td>\n",
       "      <td>-0.125</td>\n",
       "      <td>1.168</td>\n",
       "    </tr>\n",
       "    <tr>\n",
       "      <th>Ef_FIRA_L177</th>\n",
       "      <th>Ef_FIRA</th>\n",
       "      <td>0.00702</td>\n",
       "      <td>25.1</td>\n",
       "      <td>3.530000e-21</td>\n",
       "      <td>1.293</td>\n",
       "      <td>-0.127</td>\n",
       "      <td>1.165</td>\n",
       "    </tr>\n",
       "    <tr>\n",
       "      <th>Ef_FIRA_L179</th>\n",
       "      <th>Ef_FIRA</th>\n",
       "      <td>0.01030</td>\n",
       "      <td>25.1</td>\n",
       "      <td>3.940000e-21</td>\n",
       "      <td>1.290</td>\n",
       "      <td>-0.118</td>\n",
       "      <td>1.172</td>\n",
       "    </tr>\n",
       "    <tr>\n",
       "      <th>Ef_FIRA_L181</th>\n",
       "      <th>Ef_FIRA</th>\n",
       "      <td>0.00368</td>\n",
       "      <td>24.8</td>\n",
       "      <td>3.540000e-21</td>\n",
       "      <td>1.292</td>\n",
       "      <td>-0.144</td>\n",
       "      <td>1.148</td>\n",
       "    </tr>\n",
       "    <tr>\n",
       "      <th>Ef_HP_L158</th>\n",
       "      <th>Ef_HP</th>\n",
       "      <td>0.00219</td>\n",
       "      <td>25.4</td>\n",
       "      <td>4.090000e-21</td>\n",
       "      <td>1.289</td>\n",
       "      <td>-0.157</td>\n",
       "      <td>1.132</td>\n",
       "    </tr>\n",
       "    <tr>\n",
       "      <th>Ef_HP_L159</th>\n",
       "      <th>Ef_HP</th>\n",
       "      <td>0.00598</td>\n",
       "      <td>24.9</td>\n",
       "      <td>3.520000e-21</td>\n",
       "      <td>1.293</td>\n",
       "      <td>-0.132</td>\n",
       "      <td>1.161</td>\n",
       "    </tr>\n",
       "    <tr>\n",
       "      <th>Ef_HP_L168</th>\n",
       "      <th>Ef_HP</th>\n",
       "      <td>0.00246</td>\n",
       "      <td>25.1</td>\n",
       "      <td>3.780000e-21</td>\n",
       "      <td>1.291</td>\n",
       "      <td>-0.154</td>\n",
       "      <td>1.137</td>\n",
       "    </tr>\n",
       "    <tr>\n",
       "      <th>Ef_HP_L186</th>\n",
       "      <th>Ef_HP</th>\n",
       "      <td>0.00246</td>\n",
       "      <td>24.9</td>\n",
       "      <td>3.820000e-21</td>\n",
       "      <td>1.291</td>\n",
       "      <td>-0.154</td>\n",
       "      <td>1.136</td>\n",
       "    </tr>\n",
       "    <tr>\n",
       "      <th>Ef_HP_L187</th>\n",
       "      <th>Ef_HP</th>\n",
       "      <td>0.00122</td>\n",
       "      <td>25.2</td>\n",
       "      <td>3.850000e-21</td>\n",
       "      <td>1.291</td>\n",
       "      <td>-0.172</td>\n",
       "      <td>1.118</td>\n",
       "    </tr>\n",
       "  </tbody>\n",
       "</table>\n",
       "</div>"
      ],
      "text/plain": [
       "                             PLQY  Rad. limit Jsc (mA/cm2)  Jrad0 (mA/cm2)  \\\n",
       "Sample       sample_type                                                     \n",
       "Ef_FIRA_L171 Ef_FIRA      0.01550                     25.1    4.310000e-21   \n",
       "Ef_FIRA_L175 Ef_FIRA      0.00780                     25.0    3.560000e-21   \n",
       "Ef_FIRA_L177 Ef_FIRA      0.00702                     25.1    3.530000e-21   \n",
       "Ef_FIRA_L179 Ef_FIRA      0.01030                     25.1    3.940000e-21   \n",
       "Ef_FIRA_L181 Ef_FIRA      0.00368                     24.8    3.540000e-21   \n",
       "Ef_HP_L158   Ef_HP        0.00219                     25.4    4.090000e-21   \n",
       "Ef_HP_L159   Ef_HP        0.00598                     24.9    3.520000e-21   \n",
       "Ef_HP_L168   Ef_HP        0.00246                     25.1    3.780000e-21   \n",
       "Ef_HP_L186   Ef_HP        0.00246                     24.9    3.820000e-21   \n",
       "Ef_HP_L187   Ef_HP        0.00122                     25.2    3.850000e-21   \n",
       "\n",
       "                          Rad. limit of Voc (V)  delta V (V)  QFLS/q (V)  \n",
       "Sample       sample_type                                                  \n",
       "Ef_FIRA_L171 Ef_FIRA                      1.288       -0.107       1.181  \n",
       "Ef_FIRA_L175 Ef_FIRA                      1.292       -0.125       1.168  \n",
       "Ef_FIRA_L177 Ef_FIRA                      1.293       -0.127       1.165  \n",
       "Ef_FIRA_L179 Ef_FIRA                      1.290       -0.118       1.172  \n",
       "Ef_FIRA_L181 Ef_FIRA                      1.292       -0.144       1.148  \n",
       "Ef_HP_L158   Ef_HP                        1.289       -0.157       1.132  \n",
       "Ef_HP_L159   Ef_HP                        1.293       -0.132       1.161  \n",
       "Ef_HP_L168   Ef_HP                        1.291       -0.154       1.137  \n",
       "Ef_HP_L186   Ef_HP                        1.291       -0.154       1.136  \n",
       "Ef_HP_L187   Ef_HP                        1.291       -0.172       1.118  "
      ]
     },
     "metadata": {},
     "output_type": "display_data"
    }
   ],
   "source": [
    "file = r'C:\\Users\\dreickem\\switchdrive\\Work\\Projects\\Efrain NiO-FIRA\\PLQY_summary.csv'\n",
    "#file = r'C:\\Users\\dreickem\\switchdrive\\Work\\Python\\Test\\special_plots\\PLQY.csv'\n",
    "df = pd.read_csv(file, delimiter = ',', header = 'infer')\n",
    "df['sample_type'] = [df['Sample'][i].split('_L')[0] for i in range(len(df['Sample']))]\n",
    "\n",
    "# create a list with unique sample types\n",
    "samples = list(df.sample_type.unique())\n",
    "\n",
    "# create a dictionary of dataframes\n",
    "df_dict = {sample: df[df['sample_type'] == sample] for sample in samples}\n",
    "# df_dict[samples[3]]['PLQY']\n",
    "df = df.set_index(['Sample', 'sample_type'])\n",
    "df.head()\n",
    "# Resets the options\n",
    "pd.reset_option('all')\n",
    "display(df)"
   ]
  },
  {
   "cell_type": "code",
   "execution_count": 11,
   "id": "e3ac178b-1418-48d2-9e5d-5587030f2e26",
   "metadata": {},
   "outputs": [
    {
     "data": {
      "text/plain": [
       "<AxesSubplot:>"
      ]
     },
     "execution_count": 11,
     "metadata": {},
     "output_type": "execute_result"
    },
    {
     "data": {
      "image/png": "[encoded data removed]",
      "text/plain": [
       "<Figure size 432x288 with 1 Axes>"
      ]
     },
     "metadata": {
      "needs_background": "light"
     },
     "output_type": "display_data"
    }
   ],
   "source": [
    "df2 = df.PLQY.unstack('sample_type').reset_index(drop=True)\n",
    "#df2 = df2.reindex(columns=[samples[idx] for idx in [3, 1, 2, 0]])\n",
    "df2.boxplot()"
   ]
  },
  {
   "cell_type": "code",
   "execution_count": 4,
   "id": "ac389cee-dca4-4c54-8a46-6135246df037",
   "metadata": {},
   "outputs": [],
   "source": [
    "# PLQY_df = pd.DataFrame(df_dict[samples[0]]['PLQY'], df_dict[samples[3]]['PLQY'])\n",
    "# PLQY_df"
   ]
  },
  {
   "cell_type": "raw",
   "id": "be475d94-5c4b-4c69-84f2-be859e93328f",
   "metadata": {},
   "source": [
    "# Create a new dataframe with the PLQY data\n",
    "PLQY_data = np.array([df_dict[sample].PLQY.to_numpy() for sample in samples])\n",
    "PLQY_df = pd.DataFrame(PLQY_data.transpose(), columns = samples)\n",
    "PLQY_df = PLQY_df.reindex(columns=[samples[idx] for idx in [3, 1, 2, 0]])\n",
    "PLQY_df.boxplot(rot=30, fontsize=15)"
   ]
  },
  {
   "cell_type": "code",
   "execution_count": null,
   "id": "78f9d54b-4cd7-49b6-b0c6-bf28fc6467a0",
   "metadata": {},
   "outputs": [],
   "source": []
  }
 ],
 "metadata": {
  "kernelspec": {
   "display_name": "Python 3 (ipykernel)",
   "language": "python",
   "name": "python3"
  },
  "language_info": {
   "codemirror_mode": {
    "name": "ipython",
    "version": 3
   },
   "file_extension": ".py",
   "mimetype": "text/x-python",
   "name": "python",
   "nbconvert_exporter": "python",
   "pygments_lexer": "ipython3",
   "version": "3.8.12"
  }
 },
 "nbformat": 4,
 "nbformat_minor": 5
}
