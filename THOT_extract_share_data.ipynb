{
 "cells": [
  {
   "cell_type": "markdown",
   "id": "61fc6de0",
   "metadata": {},
   "source": [
    "# Extract share data\n",
    "Pull all data to be sahred into it's own directory"
   ]
  },
  {
   "cell_type": "code",
   "execution_count": null,
   "id": "53dba24d",
   "metadata": {},
   "outputs": [],
   "source": [
    "import os\n",
    "import shutil\n",
    "\n",
    "from thot import ThotProject"
   ]
  },
  {
   "cell_type": "code",
   "execution_count": null,
   "id": "ddeea869",
   "metadata": {},
   "outputs": [],
   "source": [
    "# Initializes Thot project\n",
    "db = ThotProject(dev_root = 'PLQY_results')\n",
    "root = db.find_container( { '_id': db.root } )"
   ]
  },
  {
   "cell_type": "code",
   "execution_count": 2,
   "id": "80718981",
   "metadata": {},
   "outputs": [
    {
     "ename": "NameError",
     "evalue": "name 'os' is not defined",
     "output_type": "error",
     "traceback": [
      "\u001b[0;31m---------------------------------------------------------------------------\u001b[0m",
      "\u001b[0;31mNameError\u001b[0m                                 Traceback (most recent call last)",
      "\u001b[0;32m/tmp/ipykernel_13388/3491635372.py\u001b[0m in \u001b[0;36m<module>\u001b[0;34m\u001b[0m\n\u001b[0;32m----> 1\u001b[0;31m \u001b[0mexch_dir\u001b[0m \u001b[0;34m=\u001b[0m \u001b[0mos\u001b[0m\u001b[0;34m.\u001b[0m\u001b[0mpath\u001b[0m\u001b[0;34m.\u001b[0m\u001b[0mjoin\u001b[0m\u001b[0;34m(\u001b[0m \u001b[0mdb\u001b[0m\u001b[0;34m.\u001b[0m\u001b[0mroot\u001b[0m\u001b[0;34m,\u001b[0m \u001b[0;34m'exchange'\u001b[0m \u001b[0;34m)\u001b[0m\u001b[0;34m\u001b[0m\u001b[0;34m\u001b[0m\u001b[0m\n\u001b[0m\u001b[1;32m      2\u001b[0m \u001b[0;34m\u001b[0m\u001b[0m\n\u001b[1;32m      3\u001b[0m \u001b[0;32mtry\u001b[0m\u001b[0;34m:\u001b[0m\u001b[0;34m\u001b[0m\u001b[0;34m\u001b[0m\u001b[0m\n\u001b[1;32m      4\u001b[0m     \u001b[0mos\u001b[0m\u001b[0;34m.\u001b[0m\u001b[0mmakedirs\u001b[0m\u001b[0;34m(\u001b[0m \u001b[0mexch_dir\u001b[0m\u001b[0;34m,\u001b[0m \u001b[0mexist_ok\u001b[0m \u001b[0;34m=\u001b[0m \u001b[0;32mTrue\u001b[0m \u001b[0;34m)\u001b[0m\u001b[0;34m\u001b[0m\u001b[0;34m\u001b[0m\u001b[0m\n\u001b[1;32m      5\u001b[0m \u001b[0;34m\u001b[0m\u001b[0m\n",
      "\u001b[0;31mNameError\u001b[0m: name 'os' is not defined"
     ]
    }
   ],
   "source": [
    "exch_dir = os.path.join(\n",
    "    db.root,\n",
    "    root.metadata.get( 'share_dir', 'exchange' )\n",
    ")\n",
    "\n",
    "try:\n",
    "    os.makedirs( exch_dir, exist_ok = True )\n",
    "    \n",
    "except OSError as error:\n",
    "    raise RuntimeError( f'Directory {exch_dir} can not be created.' )\n",
    "\n",
    "# collect assets for extraction\n",
    "abs_pl = db.find_assets( { 'type': 'absolute PL spectrum' } )  # extract all absolute PL spectra\n",
    "tagged = db.find_assets( { 'tags': { '$in': [ 'share' ] } } )  # extract all tagged assets\n",
    "\n",
    "# copy files into share folder\n",
    "for sample in [ *abs_pl, *tagged ]:\n",
    "    src = sample.file\n",
    "    FN = os.path.basename( sample.file )\n",
    "    dst =  os.path.join( exch_dir, FN )\n",
    "    shutil.copyfile( src, dst )"
   ]
  },
  {
   "cell_type": "code",
   "execution_count": null,
   "id": "ba6f4975",
   "metadata": {},
   "outputs": [],
   "source": []
  }
 ],
 "metadata": {
  "kernelspec": {
   "display_name": "Python 3 (ipykernel)",
   "language": "python",
   "name": "python3"
  },
  "language_info": {
   "codemirror_mode": {
    "name": "ipython",
    "version": 3
   },
   "file_extension": ".py",
   "mimetype": "text/x-python",
   "name": "python",
   "nbconvert_exporter": "python",
   "pygments_lexer": "ipython3",
   "version": "3.8.8"
  }
 },
 "nbformat": 4,
 "nbformat_minor": 5
}
