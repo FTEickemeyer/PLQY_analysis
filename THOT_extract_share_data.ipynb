{
 "cells": [
  {
   "cell_type": "markdown",
   "id": "61fc6de0",
   "metadata": {},
   "source": [
    "# Extract share data\n",
    "Pull all data to be sahred into it's own directory"
   ]
  },
  {
   "cell_type": "code",
   "execution_count": null,
   "id": "53dba24d",
   "metadata": {},
   "outputs": [],
   "source": [
    "import os\n",
    "import shutil\n",
    "from thot import ThotProject"
   ]
  },
  {
   "cell_type": "code",
   "execution_count": null,
   "id": "ddeea869",
   "metadata": {},
   "outputs": [],
   "source": [
    "# Initializes Thot project\n",
    "db = ThotProject(dev_root = 'PLQY_results')\n",
    "\n",
    "samples = db.find_assets( { 'type': 'absolute PL spectrum' } )"
   ]
  },
  {
   "cell_type": "code",
   "execution_count": null,
   "id": "80718981",
   "metadata": {},
   "outputs": [],
   "source": [
    "exch_dir = os.path.join( db.root, 'exchange' )\n",
    "\n",
    "try:\n",
    "    os.makedirs( exch_dir, exist_ok = True )\n",
    "    \n",
    "except OSError as error:\n",
    "    print( f'Directory {exch_dir} can not be created.' )\n",
    "\n",
    "# PLQY.csv\n",
    "src = asset_filepath\n",
    "FN = os.path.basename( asset_filepath )\n",
    "dst =  os.path.join( exch_dir, FN )\n",
    "shutil.copyfile( src, dst )\n",
    "\n",
    "# absolute PL spectra\n",
    "for sample in samples:\n",
    "    src = sample.file\n",
    "    FN = os.path.basename( sample.file )\n",
    "    dst =  os.path.join( exch_dir, FN )\n",
    "    shutil.copyfile( src, dst )\n",
    "    \n",
    "# all graph linear and semilog\n",
    "filepath = os.path.join( exch_dir, FN_lin )\n",
    "all_graph.savefig( filepath )\n",
    "\n",
    "filepath = os.path.join( exch_dir, FN_log )\n",
    "all_graph_log.savefig( filepath )"
   ]
  }
 ],
 "metadata": {
  "kernelspec": {
   "display_name": "Python 3 (ipykernel)",
   "language": "python",
   "name": "python3"
  },
  "language_info": {
   "codemirror_mode": {
    "name": "ipython",
    "version": 3
   },
   "file_extension": ".py",
   "mimetype": "text/x-python",
   "name": "python",
   "nbconvert_exporter": "python",
   "pygments_lexer": "ipython3",
   "version": "3.8.8"
  }
 },
 "nbformat": 4,
 "nbformat_minor": 5
}
