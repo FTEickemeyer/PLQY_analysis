{
 "cells": [
  {
   "cell_type": "markdown",
   "metadata": {},
   "source": [
    "# **THOT raw metadata**\n",
    "\n",
    "_by Felix Eickemeyer_\n",
    "\n",
    "Transforms raw data from Andor to data with meta data.\n",
    "__\n",
    "\n",
    "_Version 10.11.2021 in Python 3_\n",
    "\n",
    "_Change log:_  \n",
    "1.1.0: root = db.find_container(dict(_id = db.root)), so that it can run from the children container  \n",
    "\n"
   ]
  },
  {
   "cell_type": "code",
   "execution_count": null,
   "metadata": {},
   "outputs": [],
   "source": [
    "import os\n",
    "import sys\n",
    "from thot import ThotProject\n",
    "from IPython import embed\n",
    "from importlib import reload\n",
    "\n",
    "from FTE_analysis_libraries import PLQY as lqy"
   ]
  },
  {
   "cell_type": "code",
   "execution_count": null,
   "metadata": {},
   "outputs": [],
   "source": [
    "# Initializes Thot project\n",
    "db = ThotProject( dev_root = '../shuai/PLQY' )\n",
    "root = db.find_container(dict(_id = db.root))"
   ]
  },
  {
   "cell_type": "code",
   "execution_count": null,
   "metadata": {},
   "outputs": [
    {
     "name": "stdout",
     "output_type": "stream",
     "text": [
      "calibration--fs--GigahertzOptik--Andor_0.02964s_500acc_300lmm_center620nm_200umSlit_450LPF.csv\n",
      "calibration--fs--GigahertzOptik--Andor_0.02964s_500acc_300lmm_center850nm_200umSlit_700LPF.csv\n",
      "calibration--fs--GigahertzOptik--Andor_0.02964s_500acc_600lmm_center500nm_200umSlit_450LPF.csv\n",
      "calibration--fs--GigahertzOptik--Andor_0.02967s_500acc_300lmm_center710nm_200umSlit_450LPF.csv\n",
      "calibration--fs--GigahertzOptik--Andor_0.02967s_500acc_300lmm_center800nm_200umSlit_450LPF.csv\n",
      "calibration--fs--GigahertzOptik--Andor_0.02967s_500acc_300lmm_center900nm_200umSlit_450LPF.csv\n",
      "calibration--ip--GigahertzOptik--Andor_0.1s_100acc_300lmm_center710nm_200umSlit_450LPF.csv\n",
      "calibration--ip--GigahertzOptik--Andor_0.1s_100acc_300lmm_center800nm_200umSlit_450LPF.csv\n",
      "calibration--ip--GigahertzOptik--Andor_0.1s_100acc_300lmm_center900nm_200umSlit_450LPF.csv\n",
      "calibration--ip--GigahertzOptik--Andor_0.1s_100acc_600lmm_center500nm_200umSlit_450LPF.csv\n",
      "calibration--ip--GigahertzOptik--Andor_0.1s_500acc_300lmm_center620nm_200umSlit_420BPF.csv\n",
      "calibration--ip--GigahertzOptik--Andor_0.1s_500acc_300lmm_center620nm_200umSlit_450LPF.csv\n",
      "calibration--ip--GigahertzOptik--Andor_0.1s_500acc_300lmm_center850nm_200umSlit_650BPF.csv\n",
      "calibration--ip--GigahertzOptik--Andor_0.1s_500acc_300lmm_center850nm_200umSlit_700LPF.csv\n",
      "calibration--ip--GigahertzOptik--Andor_0.1s_500acc_600lmm_center500nm_200umSlit_420BPF.csv\n",
      "no sample--ip_laser--laser_657nm_3.5mW_OD1--Andor_0.1s_50acc_300lmm_center850nm_650BPF.csv\n",
      "no sample--ip_laser--laser_657nm_3.5mW_OD1--Andor_0.1s_50acc_300lmm_center850nm_700LPF.csv\n",
      "YS-0_glass-FAPbI3_1--fs--laser_657nm_3.5mW_OD1--Andor_0.1s_50acc_300lmm_center850nm_700LPF.csv\n",
      "YS-0_glass-FAPbI3_1--ip_inbeam--laser_657nm_3.5mW_OD1--Andor_0.1s_50acc_300lmm_center850nm_650BPF.csv\n",
      "YS-0_glass-FAPbI3_1--ip_inbeam--laser_657nm_3.5mW_OD1--Andor_0.1s_50acc_300lmm_center850nm_700LPF.csv\n",
      "YS-0_glass-FAPbI3_1--ip_outofbeam--laser_657nm_3.5mW_OD1--Andor_0.1s_50acc_300lmm_center850nm_650BPF.csv\n",
      "YS-0_glass-FAPbI3_1--ip_outofbeam--laser_657nm_3.5mW_OD1--Andor_0.1s_50acc_300lmm_center850nm_700LPF.csv\n",
      "YS-0_glass-FAPbI3_2--fs--laser_657nm_3.5mW_OD1--Andor_0.1s_50acc_300lmm_center850nm_700LPF.csv\n",
      "YS-0_glass-FAPbI3_2--ip_inbeam--laser_657nm_3.5mW_OD1--Andor_0.1s_50acc_300lmm_center850nm_650BPF.csv\n",
      "YS-0_glass-FAPbI3_2--ip_inbeam--laser_657nm_3.5mW_OD1--Andor_0.1s_50acc_300lmm_center850nm_700LPF.csv\n",
      "YS-0_glass-FAPbI3_2--ip_outofbeam--laser_657nm_3.5mW_OD1--Andor_0.1s_50acc_300lmm_center850nm_650BPF.csv\n",
      "YS-0_glass-FAPbI3_2--ip_outofbeam--laser_657nm_3.5mW_OD1--Andor_0.1s_50acc_300lmm_center850nm_700LPF.csv\n",
      "YS-0_glass-FAPbI3_3--fs--laser_657nm_3.5mW_OD1--Andor_0.1s_50acc_300lmm_center850nm_700LPF.csv\n",
      "YS-0_glass-FAPbI3_3--ip_inbeam--laser_657nm_3.5mW_OD1--Andor_0.1s_50acc_300lmm_center850nm_650BPF.csv\n",
      "YS-0_glass-FAPbI3_3--ip_inbeam--laser_657nm_3.5mW_OD1--Andor_0.1s_50acc_300lmm_center850nm_700LPF.csv\n",
      "YS-0_glass-FAPbI3_3--ip_outofbeam--laser_657nm_3.5mW_OD1--Andor_0.1s_50acc_300lmm_center850nm_650BPF.csv\n",
      "YS-0_glass-FAPbI3_3--ip_outofbeam--laser_657nm_3.5mW_OD1--Andor_0.1s_50acc_300lmm_center850nm_700LPF.csv\n",
      "YS-0_glass-FAPbI3_4--fs--laser_657nm_3.5mW_OD1--Andor_0.1s_50acc_300lmm_center850nm_700LPF.csv\n",
      "YS-0_glass-FAPbI3_4--ip_inbeam--laser_657nm_3.5mW_OD1--Andor_0.1s_50acc_300lmm_center850nm_650BPF.csv\n",
      "YS-0_glass-FAPbI3_4--ip_inbeam--laser_657nm_3.5mW_OD1--Andor_0.1s_50acc_300lmm_center850nm_700LPF.csv\n",
      "YS-0_glass-FAPbI3_4--ip_outofbeam--laser_657nm_3.5mW_OD1--Andor_0.1s_50acc_300lmm_center850nm_650BPF.csv\n",
      "YS-0_glass-FAPbI3_4--ip_outofbeam--laser_657nm_3.5mW_OD1--Andor_0.1s_50acc_300lmm_center850nm_700LPF.csv\n",
      "YS-0_glass-FAPbI3_5--fs--laser_657nm_3.5mW_OD1--Andor_0.1s_50acc_300lmm_center850nm_700LPF.csv\n",
      "YS-0_glass-FAPbI3_5--ip_inbeam--laser_657nm_3.5mW_OD1--Andor_0.1s_50acc_300lmm_center850nm_650BPF.csv\n",
      "YS-0_glass-FAPbI3_5--ip_inbeam--laser_657nm_3.5mW_OD1--Andor_0.1s_50acc_300lmm_center850nm_700LPF.csv\n",
      "YS-0_glass-FAPbI3_5--ip_outofbeam--laser_657nm_3.5mW_OD1--Andor_0.1s_50acc_300lmm_center850nm_650BPF.csv\n",
      "YS-0_glass-FAPbI3_5--ip_outofbeam--laser_657nm_3.5mW_OD1--Andor_0.1s_50acc_300lmm_center850nm_700LPF.csv\n",
      "YS-Project2-0_glass-FAPbI3_1--fs--laser_657nm_3,5mW_OD1--Andor_0.1s_50acc_300lmm_center850nm_700LPF.csv\n"
     ]
    },
    {
     "ename": "ValueError",
     "evalue": "could not convert string to float: '3,5'",
     "output_type": "error",
     "traceback": [
      "\u001b[1;31m---------------------------------------------------------------------------\u001b[0m",
      "\u001b[1;31mValueError\u001b[0m                                Traceback (most recent call last)",
      "\u001b[1;32m~\\AppData\\Local\\Temp/ipykernel_18592/2370403482.py\u001b[0m in \u001b[0;36m<module>\u001b[1;34m\u001b[0m\n\u001b[0;32m      4\u001b[0m \u001b[1;32mfor\u001b[0m \u001b[0mcontainer_id\u001b[0m \u001b[1;32min\u001b[0m \u001b[0mcontainer_ids\u001b[0m\u001b[1;33m:\u001b[0m\u001b[1;33m\u001b[0m\u001b[1;33m\u001b[0m\u001b[0m\n\u001b[0;32m      5\u001b[0m     \u001b[0mcontainer\u001b[0m \u001b[1;33m=\u001b[0m \u001b[0mdb\u001b[0m\u001b[1;33m.\u001b[0m\u001b[0mfind_container\u001b[0m\u001b[1;33m(\u001b[0m \u001b[1;33m{\u001b[0m \u001b[1;34m'_id'\u001b[0m \u001b[1;33m:\u001b[0m \u001b[0mcontainer_id\u001b[0m\u001b[1;33m}\u001b[0m \u001b[1;33m)\u001b[0m\u001b[1;33m\u001b[0m\u001b[1;33m\u001b[0m\u001b[0m\n\u001b[1;32m----> 6\u001b[1;33m     \u001b[0mlqy\u001b[0m\u001b[1;33m.\u001b[0m\u001b[0mraw_to_asset_with_metadata\u001b[0m\u001b[1;33m(\u001b[0m\u001b[0mcontainer\u001b[0m\u001b[1;33m,\u001b[0m \u001b[0masset_type\u001b[0m\u001b[1;33m,\u001b[0m \u001b[0mdb\u001b[0m\u001b[1;33m,\u001b[0m \u001b[0mshow_FN\u001b[0m \u001b[1;33m=\u001b[0m \u001b[1;32mTrue\u001b[0m\u001b[1;33m,\u001b[0m \u001b[0mshow_new_asset\u001b[0m \u001b[1;33m=\u001b[0m \u001b[1;32mFalse\u001b[0m\u001b[1;33m)\u001b[0m\u001b[1;33m\u001b[0m\u001b[1;33m\u001b[0m\u001b[0m\n\u001b[0m",
      "\u001b[1;32mc:\\users\\dreickem\\switchdrive\\work\\python\\my_packages\\fte-analysis-libraries-main\\FTE_analysis_libraries\\PLQY.py\u001b[0m in \u001b[0;36mraw_to_asset_with_metadata\u001b[1;34m(container, asset_type, db, show_FN, show_new_asset)\u001b[0m\n\u001b[0;32m    163\u001b[0m         \u001b[1;32mif\u001b[0m \u001b[0mshow_FN\u001b[0m\u001b[1;33m:\u001b[0m\u001b[1;33m\u001b[0m\u001b[1;33m\u001b[0m\u001b[0m\n\u001b[0;32m    164\u001b[0m             \u001b[0mprint\u001b[0m\u001b[1;33m(\u001b[0m\u001b[0mf\u001b[0m\u001b[1;33m)\u001b[0m\u001b[1;33m\u001b[0m\u001b[1;33m\u001b[0m\u001b[0m\n\u001b[1;32m--> 165\u001b[1;33m         \u001b[0mmetadata\u001b[0m \u001b[1;33m=\u001b[0m \u001b[0mget_Andor_metadata\u001b[0m\u001b[1;33m(\u001b[0m\u001b[0mf\u001b[0m\u001b[1;33m,\u001b[0m \u001b[0mshowall\u001b[0m \u001b[1;33m=\u001b[0m \u001b[1;32mFalse\u001b[0m\u001b[1;33m)\u001b[0m\u001b[1;33m\u001b[0m\u001b[1;33m\u001b[0m\u001b[0m\n\u001b[0m\u001b[0;32m    166\u001b[0m         \u001b[1;31m#print(metadata)\u001b[0m\u001b[1;33m\u001b[0m\u001b[1;33m\u001b[0m\u001b[1;33m\u001b[0m\u001b[0m\n\u001b[0;32m    167\u001b[0m         \u001b[1;32mif\u001b[0m \u001b[0mcontainer\u001b[0m\u001b[1;33m.\u001b[0m\u001b[0mname\u001b[0m\u001b[1;33m.\u001b[0m\u001b[0mlower\u001b[0m\u001b[1;33m(\u001b[0m\u001b[1;33m)\u001b[0m \u001b[1;33m==\u001b[0m \u001b[1;34m'calibration'\u001b[0m\u001b[1;33m:\u001b[0m\u001b[1;33m\u001b[0m\u001b[1;33m\u001b[0m\u001b[0m\n",
      "\u001b[1;32mc:\\users\\dreickem\\switchdrive\\work\\python\\my_packages\\fte-analysis-libraries-main\\FTE_analysis_libraries\\PLQY.py\u001b[0m in \u001b[0;36mget_Andor_metadata\u001b[1;34m(f, showall)\u001b[0m\n\u001b[0;32m     86\u001b[0m         \u001b[1;31m# laser power\u001b[0m\u001b[1;33m\u001b[0m\u001b[1;33m\u001b[0m\u001b[1;33m\u001b[0m\u001b[0m\n\u001b[0;32m     87\u001b[0m         \u001b[0mlp\u001b[0m \u001b[1;33m=\u001b[0m \u001b[0mf\u001b[0m\u001b[1;33m.\u001b[0m\u001b[0msplit\u001b[0m\u001b[1;33m(\u001b[0m\u001b[1;34m'laser_'\u001b[0m\u001b[1;33m)\u001b[0m\u001b[1;33m[\u001b[0m\u001b[1;36m1\u001b[0m\u001b[1;33m]\u001b[0m\u001b[1;33m.\u001b[0m\u001b[0msplit\u001b[0m\u001b[1;33m(\u001b[0m\u001b[1;34m'_'\u001b[0m\u001b[1;33m)\u001b[0m\u001b[1;33m[\u001b[0m\u001b[1;36m1\u001b[0m\u001b[1;33m]\u001b[0m\u001b[1;33m.\u001b[0m\u001b[0msplit\u001b[0m\u001b[1;33m(\u001b[0m\u001b[1;34m'mW'\u001b[0m\u001b[1;33m)\u001b[0m\u001b[1;33m[\u001b[0m\u001b[1;36m0\u001b[0m\u001b[1;33m]\u001b[0m\u001b[1;33m\u001b[0m\u001b[1;33m\u001b[0m\u001b[0m\n\u001b[1;32m---> 88\u001b[1;33m         \u001b[0mlp\u001b[0m \u001b[1;33m=\u001b[0m \u001b[0mfloat\u001b[0m\u001b[1;33m(\u001b[0m\u001b[0mlp\u001b[0m\u001b[1;33m)\u001b[0m\u001b[1;33m\u001b[0m\u001b[1;33m\u001b[0m\u001b[0m\n\u001b[0m\u001b[0;32m     89\u001b[0m         \u001b[0mmetadata\u001b[0m\u001b[1;33m[\u001b[0m\u001b[1;34m'laser_mW'\u001b[0m\u001b[1;33m]\u001b[0m \u001b[1;33m=\u001b[0m \u001b[0mlp\u001b[0m\u001b[1;33m\u001b[0m\u001b[1;33m\u001b[0m\u001b[0m\n\u001b[0;32m     90\u001b[0m         \u001b[1;32mif\u001b[0m \u001b[0mshowall\u001b[0m\u001b[1;33m:\u001b[0m\u001b[1;33m\u001b[0m\u001b[1;33m\u001b[0m\u001b[0m\n",
      "\u001b[1;31mValueError\u001b[0m: could not convert string to float: '3,5'"
     ]
    }
   ],
   "source": [
    "# Generate new sample and calibration assets with metadata\n",
    "asset_type = ''\n",
    "container_ids = root.children\n",
    "for container_id in container_ids:\n",
    "    container = db.find_container( { '_id' : container_id} )\n",
    "    lqy.raw_to_asset_with_metadata(container, asset_type, db, show_FN = False, show_new_asset = False)"
   ]
  },
  {
   "cell_type": "code",
   "execution_count": null,
   "metadata": {},
   "outputs": [],
   "source": []
  }
 ],
 "metadata": {
  "kernelspec": {
   "display_name": "Python 3 (ipykernel)",
   "language": "python",
   "name": "python3"
  },
  "language_info": {
   "codemirror_mode": {
    "name": "ipython",
    "version": 3
   },
   "file_extension": ".py",
   "mimetype": "text/x-python",
   "name": "python",
   "nbconvert_exporter": "python",
   "pygments_lexer": "ipython3",
   "version": "3.8.8"
  }
 },
 "nbformat": 4,
 "nbformat_minor": 4
}
