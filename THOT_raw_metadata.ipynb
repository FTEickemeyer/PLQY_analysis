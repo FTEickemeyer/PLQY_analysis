{
 "cells": [
  {
   "cell_type": "markdown",
   "metadata": {},
   "source": [
    "# **THOT raw metadata**\n",
    "\n",
    "_by Felix Eickemeyer_\n",
    "\n",
    "Transforms raw data from Andor to data with meta data.\n",
    "__\n",
    "\n",
    "_Version 10.11.2021 in Python 3_\n",
    "\n",
    "_Change log:_  \n",
    "1.1.0: root = db.find_container(dict(_id = db.root)), so that it can run from the children container  \n",
    "\n"
   ]
  },
  {
   "cell_type": "code",
   "execution_count": 1,
   "metadata": {},
   "outputs": [],
   "source": [
    "import os\n",
    "import sys\n",
    "from thot import ThotProject\n",
    "from IPython import embed\n",
    "from importlib import reload\n",
    "\n",
    "from FTE_analysis_libraries import PLQY as lqy"
   ]
  },
  {
   "cell_type": "code",
   "execution_count": 2,
   "metadata": {},
   "outputs": [],
   "source": [
    "# Initializes Thot project\n",
    "db = ThotProject( dev_root = '../double_perovskite_temperature_dependence/trial-06' )\n",
    "root = db.find_container(dict(_id = db.root))"
   ]
  },
  {
   "cell_type": "code",
   "execution_count": 5,
   "metadata": {},
   "outputs": [],
   "source": [
    "# Generate new sample and calibration assets with metadata\n",
    "asset_type = ''\n",
    "container_ids = root.children\n",
    "for container_id in container_ids:\n",
    "    container = db.find_container( { '_id' : container_id} )\n",
    "    lqy.raw_to_asset_with_metadata(container, asset_type, db, show_FN = True, show_new_asset = True)"
   ]
  }
 ],
 "metadata": {
  "kernelspec": {
   "display_name": "Python 3 (ipykernel)",
   "language": "python",
   "name": "python3"
  },
  "language_info": {
   "codemirror_mode": {
    "name": "ipython",
    "version": 3
   },
   "file_extension": ".py",
   "mimetype": "text/x-python",
   "name": "python",
   "nbconvert_exporter": "python",
   "pygments_lexer": "ipython3",
   "version": "3.8.8"
  }
 },
 "nbformat": 4,
 "nbformat_minor": 4
}
