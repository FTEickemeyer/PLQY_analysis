{
 "cells": [
  {
   "cell_type": "markdown",
   "metadata": {},
   "source": [
    "# **THOT raw metadata**\n",
    "\n",
    "_by Felix Eickemeyer_\n",
    "\n",
    "Transforms raw data from Andor to data with meta data."
   ]
  },
  {
   "cell_type": "code",
   "execution_count": 1,
   "metadata": {},
   "outputs": [],
   "source": [
    "import os\n",
    "import sys\n",
    "from thot import ThotProject\n",
    "from IPython import embed\n",
    "from importlib import reload\n",
    "\n",
    "from FTE_analysis_libraries import PLQY as lqy"
   ]
  },
  {
   "cell_type": "code",
   "execution_count": 2,
   "metadata": {},
   "outputs": [],
   "source": [
    "# Initializes Thot project\n",
    "db = ThotProject( dev_root = r'PLQY_results\\PLQY' )\n",
    "#db = ThotProject( dev_root = r'PL' )\n",
    "root = db.find_container(dict(_id = db.root))"
   ]
  },
  {
   "cell_type": "code",
   "execution_count": 3,
   "metadata": {},
   "outputs": [
    {
     "name": "stdout",
     "output_type": "stream",
     "text": [
      "calibration--fs--GigahertzOptik--Andor_0.02964s_500acc_300lmm_center620nm_200umSlit_450LPF.csv\n",
      "\\\\?\\C:\\Users\\dreickem\\switchdrive\\Work\\Python\\PL\\Steady_state_PL\\PLQY\\PL\\calibration\\calibration--fs--GigahertzOptik--Andor_0.02964s_500acc_300lmm_center620nm_200umSlit_450LPF\\calibration--fs--GigahertzOptik--Andor_0.02964s_500acc_300lmm_center620nm_200umSlit_450LPF.csv\n",
      "calibration--fs--GigahertzOptik--Andor_0.02964s_500acc_300lmm_center850nm_200umSlit_700LPF.csv\n",
      "\\\\?\\C:\\Users\\dreickem\\switchdrive\\Work\\Python\\PL\\Steady_state_PL\\PLQY\\PL\\calibration\\calibration--fs--GigahertzOptik--Andor_0.02964s_500acc_300lmm_center850nm_200umSlit_700LPF\\calibration--fs--GigahertzOptik--Andor_0.02964s_500acc_300lmm_center850nm_200umSlit_700LPF.csv\n",
      "calibration--fs--GigahertzOptik--Andor_0.02964s_500acc_600lmm_center500nm_200umSlit_450LPF.csv\n",
      "\\\\?\\C:\\Users\\dreickem\\switchdrive\\Work\\Python\\PL\\Steady_state_PL\\PLQY\\PL\\calibration\\calibration--fs--GigahertzOptik--Andor_0.02964s_500acc_600lmm_center500nm_200umSlit_450LPF\\calibration--fs--GigahertzOptik--Andor_0.02964s_500acc_600lmm_center500nm_200umSlit_450LPF.csv\n",
      "calibration--fs--GigahertzOptik--Andor_0.02967s_500acc_300lmm_center710nm_200umSlit_450LPF.csv\n",
      "\\\\?\\C:\\Users\\dreickem\\switchdrive\\Work\\Python\\PL\\Steady_state_PL\\PLQY\\PL\\calibration\\calibration--fs--GigahertzOptik--Andor_0.02967s_500acc_300lmm_center710nm_200umSlit_450LPF\\calibration--fs--GigahertzOptik--Andor_0.02967s_500acc_300lmm_center710nm_200umSlit_450LPF.csv\n",
      "calibration--fs--GigahertzOptik--Andor_0.02967s_500acc_300lmm_center800nm_200umSlit_450LPF.csv\n",
      "\\\\?\\C:\\Users\\dreickem\\switchdrive\\Work\\Python\\PL\\Steady_state_PL\\PLQY\\PL\\calibration\\calibration--fs--GigahertzOptik--Andor_0.02967s_500acc_300lmm_center800nm_200umSlit_450LPF\\calibration--fs--GigahertzOptik--Andor_0.02967s_500acc_300lmm_center800nm_200umSlit_450LPF.csv\n",
      "calibration--fs--GigahertzOptik--Andor_0.02967s_500acc_300lmm_center900nm_200umSlit_450LPF.csv\n",
      "\\\\?\\C:\\Users\\dreickem\\switchdrive\\Work\\Python\\PL\\Steady_state_PL\\PLQY\\PL\\calibration\\calibration--fs--GigahertzOptik--Andor_0.02967s_500acc_300lmm_center900nm_200umSlit_450LPF\\calibration--fs--GigahertzOptik--Andor_0.02967s_500acc_300lmm_center900nm_200umSlit_450LPF.csv\n",
      "calibration--ip--GigahertzOptik--Andor_0.1s_100acc_300lmm_center710nm_200umSlit_450LPF.csv\n",
      "\\\\?\\C:\\Users\\dreickem\\switchdrive\\Work\\Python\\PL\\Steady_state_PL\\PLQY\\PL\\calibration\\calibration--ip--GigahertzOptik--Andor_0.1s_100acc_300lmm_center710nm_200umSlit_450LPF\\calibration--ip--GigahertzOptik--Andor_0.1s_100acc_300lmm_center710nm_200umSlit_450LPF.csv\n",
      "calibration--ip--GigahertzOptik--Andor_0.1s_100acc_300lmm_center800nm_200umSlit_450LPF.csv\n",
      "\\\\?\\C:\\Users\\dreickem\\switchdrive\\Work\\Python\\PL\\Steady_state_PL\\PLQY\\PL\\calibration\\calibration--ip--GigahertzOptik--Andor_0.1s_100acc_300lmm_center800nm_200umSlit_450LPF\\calibration--ip--GigahertzOptik--Andor_0.1s_100acc_300lmm_center800nm_200umSlit_450LPF.csv\n",
      "calibration--ip--GigahertzOptik--Andor_0.1s_100acc_300lmm_center900nm_200umSlit_450LPF.csv\n",
      "\\\\?\\C:\\Users\\dreickem\\switchdrive\\Work\\Python\\PL\\Steady_state_PL\\PLQY\\PL\\calibration\\calibration--ip--GigahertzOptik--Andor_0.1s_100acc_300lmm_center900nm_200umSlit_450LPF\\calibration--ip--GigahertzOptik--Andor_0.1s_100acc_300lmm_center900nm_200umSlit_450LPF.csv\n",
      "calibration--ip--GigahertzOptik--Andor_0.1s_100acc_600lmm_center500nm_200umSlit_450LPF.csv\n",
      "\\\\?\\C:\\Users\\dreickem\\switchdrive\\Work\\Python\\PL\\Steady_state_PL\\PLQY\\PL\\calibration\\calibration--ip--GigahertzOptik--Andor_0.1s_100acc_600lmm_center500nm_200umSlit_450LPF\\calibration--ip--GigahertzOptik--Andor_0.1s_100acc_600lmm_center500nm_200umSlit_450LPF.csv\n",
      "calibration--ip--GigahertzOptik--Andor_0.1s_500acc_300lmm_center620nm_200umSlit_420BPF.csv\n",
      "\\\\?\\C:\\Users\\dreickem\\switchdrive\\Work\\Python\\PL\\Steady_state_PL\\PLQY\\PL\\calibration\\calibration--ip--GigahertzOptik--Andor_0.1s_500acc_300lmm_center620nm_200umSlit_420BPF\\calibration--ip--GigahertzOptik--Andor_0.1s_500acc_300lmm_center620nm_200umSlit_420BPF.csv\n",
      "calibration--ip--GigahertzOptik--Andor_0.1s_500acc_300lmm_center620nm_200umSlit_450LPF.csv\n",
      "\\\\?\\C:\\Users\\dreickem\\switchdrive\\Work\\Python\\PL\\Steady_state_PL\\PLQY\\PL\\calibration\\calibration--ip--GigahertzOptik--Andor_0.1s_500acc_300lmm_center620nm_200umSlit_450LPF\\calibration--ip--GigahertzOptik--Andor_0.1s_500acc_300lmm_center620nm_200umSlit_450LPF.csv\n",
      "calibration--ip--GigahertzOptik--Andor_0.1s_500acc_300lmm_center850nm_200umSlit_650BPF.csv\n",
      "\\\\?\\C:\\Users\\dreickem\\switchdrive\\Work\\Python\\PL\\Steady_state_PL\\PLQY\\PL\\calibration\\calibration--ip--GigahertzOptik--Andor_0.1s_500acc_300lmm_center850nm_200umSlit_650BPF\\calibration--ip--GigahertzOptik--Andor_0.1s_500acc_300lmm_center850nm_200umSlit_650BPF.csv\n",
      "calibration--ip--GigahertzOptik--Andor_0.1s_500acc_300lmm_center850nm_200umSlit_700LPF.csv\n",
      "\\\\?\\C:\\Users\\dreickem\\switchdrive\\Work\\Python\\PL\\Steady_state_PL\\PLQY\\PL\\calibration\\calibration--ip--GigahertzOptik--Andor_0.1s_500acc_300lmm_center850nm_200umSlit_700LPF\\calibration--ip--GigahertzOptik--Andor_0.1s_500acc_300lmm_center850nm_200umSlit_700LPF.csv\n",
      "calibration--ip--GigahertzOptik--Andor_0.1s_500acc_600lmm_center500nm_200umSlit_420BPF.csv\n",
      "\\\\?\\C:\\Users\\dreickem\\switchdrive\\Work\\Python\\PL\\Steady_state_PL\\PLQY\\PL\\calibration\\calibration--ip--GigahertzOptik--Andor_0.1s_500acc_600lmm_center500nm_200umSlit_420BPF\\calibration--ip--GigahertzOptik--Andor_0.1s_500acc_600lmm_center500nm_200umSlit_420BPF.csv\n",
      "MS5_Al2O3--fs--laser_422nm_1.0mW_OD0--Andor_0.1s_100acc_300lmm_center710nm_450LPF.csv\n",
      "C:\\Users\\dreickem\\switchdrive\\Work\\Python\\PL\\Steady_state_PL\\PLQY\\PL\\samples\\MS5_Al2O3--fs--laser_422nm_1.0mW_OD0--Andor_0.1s_100acc_300lmm_center710nm_450LPF\\MS5_Al2O3--fs--laser_422nm_1.0mW_OD0--Andor_0.1s_100acc_300lmm_center710nm_450LPF.csv\n",
      "MS5_TiO2--fs--laser_422nm_1.0mW_OD0--Andor_0.1s_100acc_300lmm_center710nm_450LPF.csv\n",
      "C:\\Users\\dreickem\\switchdrive\\Work\\Python\\PL\\Steady_state_PL\\PLQY\\PL\\samples\\MS5_TiO2--fs--laser_422nm_1.0mW_OD0--Andor_0.1s_100acc_300lmm_center710nm_450LPF\\MS5_TiO2--fs--laser_422nm_1.0mW_OD0--Andor_0.1s_100acc_300lmm_center710nm_450LPF.csv\n",
      "MS5_TiO2--fs--laser_422nm_1.0mW_OD1--Andor_0.1s_100acc_300lmm_center710nm_450LPF.csv\n",
      "C:\\Users\\dreickem\\switchdrive\\Work\\Python\\PL\\Steady_state_PL\\PLQY\\PL\\samples\\MS5_TiO2--fs--laser_422nm_1.0mW_OD1--Andor_0.1s_100acc_300lmm_center710nm_450LPF\\MS5_TiO2--fs--laser_422nm_1.0mW_OD1--Andor_0.1s_100acc_300lmm_center710nm_450LPF.csv\n",
      "ZS10_Al2O3--fs--laser_422nm_1.0mW_OD0--Andor_0.1s_100acc_300lmm_center710nm_450LPF.csv\n",
      "C:\\Users\\dreickem\\switchdrive\\Work\\Python\\PL\\Steady_state_PL\\PLQY\\PL\\samples\\ZS10_Al2O3--fs--laser_422nm_1.0mW_OD0--Andor_0.1s_100acc_300lmm_center710nm_450LPF\\ZS10_Al2O3--fs--laser_422nm_1.0mW_OD0--Andor_0.1s_100acc_300lmm_center710nm_450LPF.csv\n",
      "ZS10_TiO2--fs--laser_422nm_1.0mW_OD0--Andor_0.1s_100acc_300lmm_center710nm_450LPF.csv\n",
      "C:\\Users\\dreickem\\switchdrive\\Work\\Python\\PL\\Steady_state_PL\\PLQY\\PL\\samples\\ZS10_TiO2--fs--laser_422nm_1.0mW_OD0--Andor_0.1s_100acc_300lmm_center710nm_450LPF\\ZS10_TiO2--fs--laser_422nm_1.0mW_OD0--Andor_0.1s_100acc_300lmm_center710nm_450LPF.csv\n",
      "ZS11_Al2O3--fs--laser_422nm_1.0mW_OD0--Andor_0.1s_100acc_300lmm_center710nm_450LPF.csv\n",
      "C:\\Users\\dreickem\\switchdrive\\Work\\Python\\PL\\Steady_state_PL\\PLQY\\PL\\samples\\ZS11_Al2O3--fs--laser_422nm_1.0mW_OD0--Andor_0.1s_100acc_300lmm_center710nm_450LPF\\ZS11_Al2O3--fs--laser_422nm_1.0mW_OD0--Andor_0.1s_100acc_300lmm_center710nm_450LPF.csv\n",
      "ZS11_TiO2--fs--laser_422nm_1.0mW_OD0--Andor_0.1s_100acc_300lmm_center710nm_450LPF.csv\n",
      "C:\\Users\\dreickem\\switchdrive\\Work\\Python\\PL\\Steady_state_PL\\PLQY\\PL\\samples\\ZS11_TiO2--fs--laser_422nm_1.0mW_OD0--Andor_0.1s_100acc_300lmm_center710nm_450LPF\\ZS11_TiO2--fs--laser_422nm_1.0mW_OD0--Andor_0.1s_100acc_300lmm_center710nm_450LPF.csv\n",
      "ZS12_Al2O3--fs--laser_422nm_1.0mW_OD0--Andor_0.1s_100acc_300lmm_center710nm_450LPF.csv\n",
      "C:\\Users\\dreickem\\switchdrive\\Work\\Python\\PL\\Steady_state_PL\\PLQY\\PL\\samples\\ZS12_Al2O3--fs--laser_422nm_1.0mW_OD0--Andor_0.1s_100acc_300lmm_center710nm_450LPF\\ZS12_Al2O3--fs--laser_422nm_1.0mW_OD0--Andor_0.1s_100acc_300lmm_center710nm_450LPF.csv\n",
      "ZS12_TiO2--fs--laser_422nm_1.0mW_OD0--Andor_0.1s_100acc_300lmm_center710nm_450LPF.csv\n",
      "C:\\Users\\dreickem\\switchdrive\\Work\\Python\\PL\\Steady_state_PL\\PLQY\\PL\\samples\\ZS12_TiO2--fs--laser_422nm_1.0mW_OD0--Andor_0.1s_100acc_300lmm_center710nm_450LPF\\ZS12_TiO2--fs--laser_422nm_1.0mW_OD0--Andor_0.1s_100acc_300lmm_center710nm_450LPF.csv\n"
     ]
    }
   ],
   "source": [
    "# Generate new sample and calibration assets with metadata\n",
    "asset_type = ''\n",
    "container_ids = root.children\n",
    "for container_id in container_ids:\n",
    "    container = db.find_container( { '_id' : container_id} )\n",
    "    lqy.raw_to_asset_with_metadata(container, asset_type, db, show_FN = True, show_new_asset = True)"
   ]
  },
  {
   "cell_type": "code",
   "execution_count": null,
   "metadata": {},
   "outputs": [],
   "source": []
  }
 ],
 "metadata": {
  "kernelspec": {
   "display_name": "Python 3 (ipykernel)",
   "language": "python",
   "name": "python3"
  },
  "language_info": {
   "codemirror_mode": {
    "name": "ipython",
    "version": 3
   },
   "file_extension": ".py",
   "mimetype": "text/x-python",
   "name": "python",
   "nbconvert_exporter": "python",
   "pygments_lexer": "ipython3",
   "version": "3.8.12"
  }
 },
 "nbformat": 4,
 "nbformat_minor": 4
}
