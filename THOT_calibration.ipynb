{
 "cells": [
  {
   "cell_type": "markdown",
   "metadata": {},
   "source": [
    "# **THOT calibration**\n",
    "\n",
    "_by Felix Eickemeyer_\n",
    "\n",
    "Calibration of raw data."
   ]
  },
  {
   "cell_type": "code",
   "execution_count": null,
   "metadata": {},
   "outputs": [],
   "source": [
    "import re\n",
    "import os\n",
    "import sys\n",
    "from thot import ThotProject\n",
    "from os import getcwd, listdir\n",
    "import matplotlib.pyplot as plt\n",
    "\n",
    "from FTE_analysis_libraries import General as gen\n",
    "from FTE_analysis_libraries import PLQY as lqy\n",
    "from FTE_analysis_libraries import Spectrum as spc\n",
    "\n",
    "import pkg_resources\n",
    "system_dir = pkg_resources.resource_filename('FTE_analysis_libraries', 'System_data')\n",
    "cal_lamp_dir = pkg_resources.resource_filename('FTE_analysis_libraries', 'System_data/Calibration_lamp_spectra')"
   ]
  },
  {
   "cell_type": "code",
   "execution_count": null,
   "metadata": {},
   "outputs": [],
   "source": [
    "# Initializes Thot project\n",
    "db = ThotProject( dev_root = r'PLQY_results\\PLQY' )\n",
    "#db = ThotProject( dev_root = r'PL' )"
   ]
  },
  {
   "cell_type": "code",
   "execution_count": null,
   "metadata": {},
   "outputs": [],
   "source": [
    "#File extension for raw data\n",
    "file_ext = 'csv'\n",
    "#file_ext = 'asc'\n",
    "\n",
    "# Gigahertz calibration lamp\n",
    "lamp_spec_FN = 'caldata-BN-LH250-V01_sn51102-LH250_snL2229-200805.txt'\n",
    "hole_diameter = 3e-3 #m"
   ]
  },
  {
   "cell_type": "code",
   "execution_count": null,
   "metadata": {},
   "outputs": [],
   "source": [
    "# Load lamp calibration file\n",
    "lampspec_irr = spc.PEL_spectrum.load(cal_lamp_dir, lamp_spec_FN, header = 1, delimiter = '\\t', \n",
    "                             quants = dict(x = 'Wavelength', y = 'Spectral irradiance'), units = dict(x = 'nm', y = 'W/[m2 nm]'))\n",
    "\n",
    "# lampspec = lamp_calib * 1 # change for absolute calibration taking into account excitation port aperture of integrating sphere\n",
    "#lampspec = lampspec_irr.irradiance_to_photonflux(factor = 1e-6/1e-4) # This factor is used for the OceanOptics calibration lamp HL-3 plus\n",
    "lampspec = lampspec_irr.irradiance_to_photonflux()\n",
    "# plot_first_n_lines(cal_lamp_dir, lamp_spec_FN, n=20)\n",
    "# lampspec_graph = lampspec.plot(yscale = 'log', return_fig = True, show_plot = ( False and db.dev_mode() ))\n",
    "# lqy.add_graph(db, 'lampspec.png', lampspec_graph)"
   ]
  },
  {
   "cell_type": "code",
   "execution_count": null,
   "metadata": {},
   "outputs": [],
   "source": [
    "# Load measured calibration spectra\n",
    "\n",
    "rawcalib = db.find_assets({'type' : 'raw calibration'})\n",
    "#print(dir(rawcalib[1]))\n",
    "#print(rawcalib[3].file)\n",
    "#print(rawcalib[1].metadata)\n",
    "sa = []\n",
    "for i, asset in enumerate(rawcalib):\n",
    "    fp = asset.file\n",
    "    # print(fp)\n",
    "    fn = os.path.basename(fp)\n",
    "    # print(fn)\n",
    "    directory = os.path.dirname(fp) # required for long paths\n",
    "    # print(directory)\n",
    "    acc = asset.metadata['acc']\n",
    "    int_s = asset.metadata['int_s']\n",
    "    calib = spc.PEL_spectrum.load(directory, fn, quants=dict(x = 'Wavelength', y = 'Intensity'), units=dict(x = 'nm', y = 'cps'))\n",
    "    calib.y = calib.y / (int_s * acc)\n",
    "    sa.append(calib)\n",
    "calib = spc.PEL_spectra(sa)\n",
    "calib.names_to_label('.' + file_ext)\n",
    "# Make sure that no data value is < min (especially not 0 or negative)\n",
    "calib.all_values_greater_min(min = 1e-1)\n",
    "\n",
    "# calibspec_graph = calib.plot(yscale = 'log', figsize = (20,20), return_fig = True, show_plot = ( True and db.dev_mode() ))\n",
    "# lqy.add_graph(db, 'calibration_spectra.png', calibspec_graph)"
   ]
  },
  {
   "cell_type": "code",
   "execution_count": null,
   "metadata": {},
   "outputs": [],
   "source": [
    "# Calculate calibration function. This function is multiplied with all cps data to yield photon flux\n",
    "calibfn = spc.PEL_spectra.calc_calfn(calib, lampspec)\n",
    "calibfn.names_to_label('.csv')\n",
    "\n",
    "#  calibfn_graph = calibfn.plot(yscale = 'log', showindex = True, figsize = (20,20), return_fig = True, show_plot = ( True and db.dev_mode() ))\n",
    "# lqy.add_graph(db, 'calibration_function.png', calibfn_graph)"
   ]
  },
  {
   "cell_type": "code",
   "execution_count": null,
   "metadata": {},
   "outputs": [],
   "source": [
    "# Plot single calibration function\n",
    "do_this_step1 = False\n",
    "if do_this_step1:\n",
    "    idx = 3\n",
    "    #cal_lamp_Andor.sa[idx].plot(yscale = 'linear')\n",
    "    calibfn.sa[idx].plot(yscale = 'log', bottom = 8e8, top = 10e10)"
   ]
  },
  {
   "cell_type": "code",
   "execution_count": null,
   "metadata": {},
   "outputs": [],
   "source": [
    "# Savgol filter for selected calibration function (700 LP free space)\n",
    "do_this_step2 = False\n",
    "if do_this_step2:\n",
    "    idx = 3\n",
    "    calibfn_old = calibfn.sa[idx]\n",
    "    calibfn_new = calibfn_old.savgol(n1 = 11, n2 = 1)\n",
    "    both = spectra([calibfn_old, calibfn_new])\n",
    "    both.label(['original', 'savgol'])\n",
    "    both.plot(yscale = 'log', bottom = 8e8, top = 2e9, title = calibfn.sa[idx].name)\n",
    "    take_over_calib_new = True\n",
    "    if take_over_calib_new:\n",
    "        calibfn.sa[idx] = calibfn_new"
   ]
  },
  {
   "cell_type": "code",
   "execution_count": null,
   "metadata": {},
   "outputs": [],
   "source": [
    "# Load all PL raw spectra\n",
    "\n",
    "rawsamples = db.find_assets({'type' : 'raw PL spectrum'})\n",
    "#print(rawsamples)\n",
    "#print(rawsamples[1].file)\n",
    "#print(rawsamples[1].metadata)\n",
    "sa = []\n",
    "for i, asset in enumerate(rawsamples):\n",
    "    fp = asset.file\n",
    "    fn = os.path.basename(fp)\n",
    "    directory = os.path.dirname(fp)\n",
    "    acc = asset.metadata['acc']\n",
    "    int_s = asset.metadata['int_s']\n",
    "    rawPLspectrum = spc.PEL_spectrum.load(directory, fn, quants = dict(x = 'Wavelength', y = 'Intensity'), units = dict(x = 'nm', y = 'cps'))\n",
    "    rawPLspectrum.y = rawPLspectrum.y / (int_s * acc)\n",
    "    sa.append(rawPLspectrum)\n",
    "rawPLspectra = spc.PEL_spectra(sa)\n",
    "rawPLspectra.names_to_label('.' + file_ext)\n",
    "#rawPLspectra.plot(yscale = 'log',figsize = (20,20), divisor = 1e7, showindex = True)    "
   ]
  },
  {
   "cell_type": "code",
   "execution_count": null,
   "metadata": {},
   "outputs": [],
   "source": [
    "# Plot single raw spectrum\n",
    "do_this_step3 = False\n",
    "if do_this_step3:\n",
    "    idx = 59\n",
    "    rawPLspectra.sa[idx].plot(yscale = 'linear', left = PL_signal_left, right = PL_signal_right, figsize = (20,10))    "
   ]
  },
  {
   "cell_type": "markdown",
   "metadata": {},
   "source": [
    "Calibrate"
   ]
  },
  {
   "cell_type": "code",
   "execution_count": null,
   "metadata": {},
   "outputs": [],
   "source": [
    "# Calibrate PL spectra\n",
    "\n",
    "PLspectra_nm = rawPLspectra.calibrate(calibfn, check = False)\n",
    "PLspectra_nm.names_to_label(split_ch = '.' + file_ext)\n",
    "\n",
    "# calib_PLspectra_graph = PLspectra_nm.plot(yscale = 'log', divisor = 1e5, title = 'Relative spectral photon flux', showindex = True, figsize = (20, 10), return_fig = True, show_plot = ( False and db.dev_mode() ))\n",
    "# lqy.add_graph(db, 'calib_PLspectra.png', calib_PLspectra_graph)"
   ]
  },
  {
   "cell_type": "markdown",
   "metadata": {},
   "source": [
    "Create new asset"
   ]
  },
  {
   "cell_type": "code",
   "execution_count": null,
   "metadata": {},
   "outputs": [],
   "source": [
    "for idx, sp in enumerate(PLspectra_nm.sa):\n",
    "    #print(sp.name)\n",
    "    asset = db.find_asset({'metadata.orig_fn' : sp.name})\n",
    "    metadata = asset.metadata\n",
    "    #print(metadata)\n",
    "    #asset_prop = dict(name = 'calibrated_'+asset.name, type = 'calibrated PL spectrum', metadata = metadata)\n",
    "    name = metadata['name']\n",
    "    asset_prop = dict(name = f'{idx}_{name}_calibrated PL spectrum.csv', type = 'calibrated PL spectrum', metadata = metadata)\n",
    "    TFN = db.add_asset(asset_prop)\n",
    "    fn = os.path.basename(TFN)\n",
    "    print(f'{idx: 3}: {fn}') \n",
    "    directory = os.path.dirname(TFN)\n",
    "    sp.save(directory, fn, check_existing = False)\n"
   ]
  },
  {
   "cell_type": "code",
   "execution_count": null,
   "metadata": {},
   "outputs": [],
   "source": [
    "if not db.dev_mode():\n",
    "    sys.exit()"
   ]
  },
  {
   "cell_type": "markdown",
   "metadata": {},
   "source": [
    "# Supplemental code"
   ]
  },
  {
   "cell_type": "code",
   "execution_count": null,
   "metadata": {},
   "outputs": [],
   "source": [
    "#Plot all data normalized within [left, right]\n",
    "do_this = True\n",
    "if do_this:\n",
    "    left = 700\n",
    "    right = 900\n",
    "\n",
    "    spa_norm = PLspectra_nm.copy()\n",
    "    spa_norm.names_to_label()\n",
    "    for idx, sp in enumerate(spa_norm):\n",
    "        if 'fs' in sp.name.split('--')[1]:\n",
    "            sp.normalize(x_lim = [left, right])\n",
    "\n",
    "    spa_norm.plot(yscale='linear',\n",
    "                  left=left,\n",
    "                  right=right,\n",
    "                  bottom=0,\n",
    "                  title='Relative spectral photon flux',\n",
    "                  showindex=True,\n",
    "                  figsize=(20, 10),\n",
    "                  in_name=['fs'])"
   ]
  },
  {
   "cell_type": "code",
   "execution_count": null,
   "metadata": {},
   "outputs": [],
   "source": [
    "PLspectra_nm.plot(yscale='linear',\n",
    "                  left=450,\n",
    "                  bottom=0,\n",
    "                  title='Relative spectral photon flux',\n",
    "                  showindex=True,\n",
    "                  figsize=(20, 10),\n",
    "                  in_name=['fs'])"
   ]
  },
  {
   "cell_type": "code",
   "execution_count": null,
   "metadata": {},
   "outputs": [],
   "source": [
    "# Save all data in exchange folder\n",
    "\n",
    "if False:\n",
    "    exch_dir = os.path.join(db.root, 'exchange')\n",
    "\n",
    "    try:\n",
    "        os.makedirs(exch_dir, exist_ok = True)\n",
    "    except OSError as error:\n",
    "        print(\"Directory '%s' can not be created\" % exch_dir)\n",
    "\n",
    "    import shutil\n",
    "\n",
    "    # PL spectra\n",
    "    samples = db.find_assets({'type': 'calibrated PL spectrum'})\n",
    "    for idx, sample in enumerate(samples):\n",
    "        src = sample.file\n",
    "        FN = os.path.basename(sample.file)\n",
    "        dst =  os.path.join(exch_dir, FN)\n",
    "        shutil.copyfile(src, dst)"
   ]
  },
  {
   "cell_type": "code",
   "execution_count": null,
   "metadata": {},
   "outputs": [],
   "source": []
  }
 ],
 "metadata": {
  "kernelspec": {
   "display_name": "Python 3 (ipykernel)",
   "language": "python",
   "name": "python3"
  },
  "language_info": {
   "codemirror_mode": {
    "name": "ipython",
    "version": 3
   },
   "file_extension": ".py",
   "mimetype": "text/x-python",
   "name": "python",
   "nbconvert_exporter": "python",
   "pygments_lexer": "ipython3",
   "version": "3.9.13"
  }
 },
 "nbformat": 4,
 "nbformat_minor": 4
}
