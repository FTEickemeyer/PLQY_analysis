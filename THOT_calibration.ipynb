{
 "cells": [
  {
   "cell_type": "markdown",
   "metadata": {},
   "source": [
    "# **THOT calibration**\n",
    "\n",
    "_by Felix Eickemeyer_\n",
    "\n",
    "Calibration of raw data."
   ]
  },
  {
   "cell_type": "code",
   "execution_count": null,
   "metadata": {},
   "outputs": [],
   "source": [
    "import re\n",
    "import os\n",
    "import sys\n",
    "\n",
    "from thot import ThotProject\n",
    "import matplotlib.pyplot as plt\n",
    "\n",
    "from FTE_analysis_libraries import PLQY as lqy\n",
    "from FTE_analysis_libraries import Spectrum as spc\n",
    "\n",
    "import pkg_resources"
   ]
  },
  {
   "cell_type": "code",
   "execution_count": null,
   "metadata": {},
   "outputs": [],
   "source": [
    "system_dir = pkg_resources.resource_filename(\n",
    "    'FTE_analysis_libraries',\n",
    "    'System_data'\n",
    ")\n",
    "\n",
    "cal_lamp_dir = pkg_resources.resource_filename(\n",
    "    'FTE_analysis_libraries',\n",
    "    'System_data/Calibration_lamp_spectra'\n",
    ")"
   ]
  },
  {
   "cell_type": "code",
   "execution_count": null,
   "metadata": {},
   "outputs": [],
   "source": [
    "# Initializes Thot project\n",
    "db = ThotProject( dev_root = 'PLQY_results\\PLQY' )"
   ]
  },
  {
   "cell_type": "code",
   "execution_count": null,
   "metadata": {},
   "outputs": [],
   "source": [
    "# File extension for raw data\n",
    "file_ext = 'csv'\n",
    "# file_ext = 'asc'\n",
    "\n",
    "# Gigahertz calibration lamp\n",
    "lamp_spec_FN = 'caldata-BN-LH250-V01_sn51102-LH250_snL2229-200805.txt'\n",
    "hole_diameter = 3e-3  # m"
   ]
  },
  {
   "cell_type": "code",
   "execution_count": null,
   "metadata": {},
   "outputs": [],
   "source": [
    "# Load lamp calibration file\n",
    "lampspec_irr = spc.PEL_spectrum.load(\n",
    "    cal_lamp_dir,\n",
    "    lamp_spec_FN,\n",
    "    header = 1,\n",
    "    delimiter = '\\t',\n",
    "    quants = dict( x = 'Wavelength', y = 'Spectral irradiance' ),\n",
    "    units = dict( x = 'nm', y = 'W/[m2 nm]' )\n",
    ")\n",
    "\n",
    "# lampspec = lamp_calib * 1 # change for absolute calibration taking into account excitation port aperture of integrating sphere\n",
    "lampspec = lampspec_irr.irradiance_to_photonflux( factor = 1e-6/ 1e-4 )\n",
    "\n",
    "# plot_first_n_lines(cal_lamp_dir, lamp_spec_FN, n=20)\n",
    "lampspec_graph = lampspec.plot(\n",
    "    yscale = 'log',\n",
    "    return_fig = True,\n",
    "    show_plot = ( False and db.dev_mode() )\n",
    ")\n",
    "\n",
    "lqy.add_graph( db, 'lampspec.png', lampspec_graph )"
   ]
  },
  {
   "cell_type": "code",
   "execution_count": null,
   "metadata": {},
   "outputs": [],
   "source": [
    "# Load measured calibration spectra\n",
    "rawcalib = db.find_assets( { 'type': 'raw calibration' } )\n",
    "sa = []\n",
    "for asset in rawcalib:\n",
    "    fp = asset.file\n",
    "    fn = os.path.basename( fp )\n",
    "    directory = os.path.dirname( fp )\n",
    "    acc = asset.metadata[ 'acc' ]\n",
    "    int_s = asset.metadata[ 'int_s' ]\n",
    "\n",
    "    calib = spc.PEL_spectrum.load(\n",
    "        directory,\n",
    "        fn,\n",
    "        quants = dict( x = 'Wavelength', y = 'Intensity' ),\n",
    "        units = dict( x = 'nm', y = 'cps' )\n",
    "    )\n",
    "    \n",
    "    calib.y = calib.y /( int_s* acc )\n",
    "    sa.append( calib )\n",
    "\n",
    "calib = spc.PEL_spectra( sa )\n",
    "calib.names_to_label( '.' + file_ext )\n",
    "\n",
    "# Make sure that no data value is < min (especially not 0 or negative)\n",
    "calib.all_values_greater_min( min = 1e-1 )        \n",
    "\n",
    "calibspec_graph = calib.plot(\n",
    "    yscale = 'log',\n",
    "    figsize = ( 20, 20 ),\n",
    "    return_fig = True,\n",
    "    show_plot = ( True and db.dev_mode() )\n",
    ")\n",
    "\n",
    "lqy.add_graph( db, 'calibration_spectra.png', calibspec_graph )"
   ]
  },
  {
   "cell_type": "code",
   "execution_count": null,
   "metadata": {},
   "outputs": [],
   "source": [
    "# Calculate calibration function. This function is multiplied with all cps data to yield photon flux\n",
    "calibfn = spc.PEL_spectra.calc_calfn( calib, lampspec )\n",
    "calibfn.names_to_label( '.csv' )\n",
    "\n",
    "calibfn_graph = calibfn.plot(\n",
    "    yscale = 'log',\n",
    "    showindex = True,\n",
    "    figsize = ( 20, 20 ),\n",
    "    return_fig = True,\n",
    "    show_plot = ( True and db.dev_mode() )\n",
    ")\n",
    "\n",
    "lqy.add_graph( db, 'calibration_function.png', calibfn_graph )"
   ]
  },
  {
   "cell_type": "code",
   "execution_count": null,
   "metadata": {},
   "outputs": [],
   "source": [
    "# Plot single calibration function\n",
    "do_this_step1 = False\n",
    "if do_this_step1:\n",
    "    idx = 3\n",
    "    # cal_lamp_Andor.sa[idx].plot(yscale = 'linear')\n",
    "    calibfn.sa[idx].plot( yscale = 'log', bottom = 8e8, top = 10e10 )"
   ]
  },
  {
   "cell_type": "code",
   "execution_count": null,
   "metadata": {},
   "outputs": [],
   "source": [
    "# Savgol filter for selected calibration function (700 LP free space)\n",
    "do_this_step2 = False\n",
    "if do_this_step2:\n",
    "    idx = 3\n",
    "    calibfn_old = calibfn.sa[ idx ]\n",
    "    calibfn_new = calibfn_old.savgol( n1 = 11, n2 = 1 )\n",
    "    both = spectra( [ calibfn_old, calibfn_new ] )\n",
    "    both.label( [ 'original', 'savgol' ] )\n",
    "    both.plot( yscale = 'log', bottom = 8e8, top = 2e9, title = calibfn.sa[ idx ].name )\n",
    "    take_over_calib_new = True\n",
    "    if take_over_calib_new:\n",
    "        calibfn.sa[ idx ] = calibfn_new"
   ]
  },
  {
   "cell_type": "code",
   "execution_count": null,
   "metadata": {},
   "outputs": [],
   "source": [
    "# Load all PL raw spectra\n",
    "rawsamples = db.find_assets( { 'type': 'raw PL spectrum' } )\n",
    "sa = []\n",
    "for asset in rawsamples:\n",
    "    fp = asset.file\n",
    "    fn = os.path.basename( fp )\n",
    "    directory = os.path.dirname( fp )\n",
    "    acc = asset.metadata[ 'acc' ]\n",
    "    int_s = asset.metadata[ 'int_s' ]\n",
    "    rawPLspectrum = spc.PEL_spectrum.load(\n",
    "        directory,\n",
    "        fn,\n",
    "        quants = dict( x = 'Wavelength', y = 'Intensity' ),\n",
    "        units = dict( x = 'nm', y = 'cps' )\n",
    "    )\n",
    "    \n",
    "    rawPLspectrum.y = rawPLspectrum.y /( int_* acc )\n",
    "    sa.append( rawPLspectrum )\n",
    "    \n",
    "rawPLspectra = spc.PEL_spectra( sa )\n",
    "rawPLspectra.names_to_label( '.' + file_ext )\n",
    "#rawPLspectra.plot(yscale = 'log',figsize = (20,20), divisor = 1e7, showindex = True)    "
   ]
  },
  {
   "cell_type": "code",
   "execution_count": null,
   "metadata": {},
   "outputs": [],
   "source": [
    "# Plot single raw spectrum\n",
    "do_this_step3 = False\n",
    "if do_this_step3:\n",
    "    idx = 59\n",
    "    rawPLspectra.sa[ idx ].plot(\n",
    "        yscale = 'linear',\n",
    "        left = PL_signal_left,\n",
    "        right = PL_signal_right,\n",
    "        figsize = ( 20, 10 )\n",
    "    )    "
   ]
  },
  {
   "cell_type": "markdown",
   "metadata": {},
   "source": [
    "Calibrate"
   ]
  },
  {
   "cell_type": "code",
   "execution_count": null,
   "metadata": {},
   "outputs": [],
   "source": [
    "# Calibrate PL spectra\n",
    "PLspectra_nm = rawPLspectra.calibrate( calibfn, check = False )\n",
    "PLspectra_nm.names_to_label( split_ch = '.' + file_ext )\n",
    "\n",
    "calib_PLspectra_graph = PLspectra_nm.plot(\n",
    "    yscale = 'log',\n",
    "    divisor = 1e5,\n",
    "    title = 'Relative spectral photon flux',\n",
    "    showindex = True,\n",
    "    figsize = ( 20, 10 ),\n",
    "    return_fig = True,\n",
    "    show_plot = ( False and db.dev_mode() )\n",
    ")\n",
    "\n",
    "lqy.add_graph( db, 'calib_PLspectra.png', calib_PLspectra_graph )"
   ]
  },
  {
   "cell_type": "markdown",
   "metadata": {},
   "source": [
    "Create new asset"
   ]
  },
  {
   "cell_type": "code",
   "execution_count": null,
   "metadata": {},
   "outputs": [],
   "source": [
    "for idx, sp in enumerate( PLspectra_nm.sa ):\n",
    "    if db.dev_mode():\n",
    "        print( sp.name )\n",
    "        \n",
    "    asset = db.find_asset( { 'metadata.orig_fn': sp.name } )\n",
    "    metadata = asset.metadata\n",
    "    name = metadata[ 'name' ]\n",
    "    asset_prop = {\n",
    "        'name': f'{idx}_{name}_calibrated PL spectrum.csv',\n",
    "        'type': 'calibrated PL spectrum',\n",
    "        'metadata': metadata\n",
    "    }\n",
    "    \n",
    "    TFN = db.add_asset( asset_prop )\n",
    "    fn = os.path.basename( TFN )\n",
    "    if db.dev_mode():\n",
    "        print( f'{idx: 3}: {fn}' )\n",
    "    \n",
    "    directory = os.path.dirname( TFN )\n",
    "    sp.save( directory, fn, check_existing = False )\n"
   ]
  },
  {
   "cell_type": "code",
   "execution_count": null,
   "metadata": {},
   "outputs": [],
   "source": [
    "if not db.dev_mode():\n",
    "    sys.exit()"
   ]
  },
  {
   "cell_type": "markdown",
   "metadata": {},
   "source": [
    "# Supplemental code"
   ]
  },
  {
   "cell_type": "code",
   "execution_count": null,
   "metadata": {},
   "outputs": [],
   "source": [
    "#Plot all data normalized within [left, right]\n",
    "do_this = False\n",
    "if do_this:\n",
    "    left = PL_signal_left\n",
    "    right = PL_signal_right\n",
    "\n",
    "    spa2 = PLspectra_nm.copy()\n",
    "    spa2.names_to_label()\n",
    "    for sp in spa2.sa:\n",
    "        r = range( findind( sp.x, left ), findind( sp.x, right ) )\n",
    "        print( f'{sp.name}: max = {max(sp.y[r]):.1e}' )\n",
    "        sp.normalize( x_lim = [ left, right ] )\n",
    "        m = 1\n",
    "\n",
    "    #spa2.plot(yscale = 'log', title = 'Relative spectral photon flux', left = left, right = right, bottom = m*1e-2, top = m*1.1, figsize = (30, 20), nolabel = False)"
   ]
  },
  {
   "cell_type": "code",
   "execution_count": null,
   "metadata": {},
   "outputs": [],
   "source": [
    "PLspectra_nm.plot(\n",
    "    yscale = 'linear',\n",
    "    bottom = 0,\n",
    "    title = 'Relative spectral photon flux',\n",
    "    showindex = True,\n",
    "    figsize = ( 20, 10 ),\n",
    "    in_name = [ 'fs' ]\n",
    ")"
   ]
  },
  {
   "cell_type": "code",
   "execution_count": null,
   "metadata": {},
   "outputs": [],
   "source": []
  }
 ],
 "metadata": {
  "kernelspec": {
   "display_name": "Python 3 (ipykernel)",
   "language": "python",
   "name": "python3"
  },
  "language_info": {
   "codemirror_mode": {
    "name": "ipython",
    "version": 3
   },
   "file_extension": ".py",
   "mimetype": "text/x-python",
   "name": "python",
   "nbconvert_exporter": "python",
   "pygments_lexer": "ipython3",
   "version": "3.8.8"
  }
 },
 "nbformat": 4,
 "nbformat_minor": 4
}
