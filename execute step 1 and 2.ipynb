{
 "cells": [
  {
   "cell_type": "code",
   "execution_count": null,
   "id": "a1aac748-b687-4db8-b3c5-0985ea2b3d29",
   "metadata": {},
   "outputs": [],
   "source": [
    "import os"
   ]
  },
  {
   "cell_type": "code",
   "execution_count": null,
   "id": "8abd1958-1a72-470c-ba4c-297c6bce4250",
   "metadata": {},
   "outputs": [],
   "source": [
    "working_dir = os.getcwd()\n",
    "FP_raw_met = os.path.join(working_dir, \"THOT_raw_metadata.py\")\n",
    "FP_calib = os.path.join(working_dir, \"THOT_calibration.py\")"
   ]
  },
  {
   "cell_type": "code",
   "execution_count": null,
   "id": "f13bd3fb-cd16-4b58-8944-cf992b7fd8ef",
   "metadata": {},
   "outputs": [],
   "source": [
    "print(FP_raw_met)\n",
    "print(FP_calib)"
   ]
  },
  {
   "cell_type": "code",
   "execution_count": null,
   "id": "eb1443a7-0271-4cf2-86da-cd6ec5b557e3",
   "metadata": {},
   "outputs": [],
   "source": [
    "%run -t \"C:\\Users\\dreickem\\switchdrive\\Work\\Python\\PL\\Steady_state_PL\\PLQY\\THOT_raw_metadata.py\""
   ]
  },
  {
   "cell_type": "code",
   "execution_count": null,
   "id": "1cd3707c-9243-40f0-bf00-4a5a15011d05",
   "metadata": {},
   "outputs": [],
   "source": [
    "%run -t \"C:\\Users\\dreickem\\switchdrive\\Work\\Python\\PL\\Steady_state_PL\\PLQY\\THOT_calibration.py\""
   ]
  },
  {
   "cell_type": "code",
   "execution_count": null,
   "id": "be09ad00-2bcb-4be8-aeba-6092e8817063",
   "metadata": {},
   "outputs": [],
   "source": []
  }
 ],
 "metadata": {
  "kernelspec": {
   "display_name": "Python 3 (ipykernel)",
   "language": "python",
   "name": "python3"
  },
  "language_info": {
   "codemirror_mode": {
    "name": "ipython",
    "version": 3
   },
   "file_extension": ".py",
   "mimetype": "text/x-python",
   "name": "python",
   "nbconvert_exporter": "python",
   "pygments_lexer": "ipython3",
   "version": "3.9.13"
  }
 },
 "nbformat": 4,
 "nbformat_minor": 5
}
