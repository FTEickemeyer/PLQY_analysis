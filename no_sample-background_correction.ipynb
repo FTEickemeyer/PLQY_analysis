{
 "cells": [
  {
   "cell_type": "markdown",
   "id": "28bc8cb9",
   "metadata": {},
   "source": [
    "# No Sample Background Correction\n",
    "Uses the no sample, sample signal to correct for background signal in sample signals"
   ]
  },
  {
   "cell_type": "code",
   "execution_count": null,
   "id": "96e07301",
   "metadata": {},
   "outputs": [],
   "source": [
    "import os.path as path\n",
    "\n",
    "import numpy as np\n",
    "import pandas as pd\n",
    "import matplotlib.pyplot as plt\n",
    "from scipy.stats import zscore\n",
    "from scipy.signal import savgol_filter as savgol\n",
    "from scipy.optimize import minimize_scalar\n",
    "import thot\n",
    "\n",
    "import bric_analysis_libraries.plot as plot\n",
    "import bric_analysis_libraries.standard_functions as stdfn"
   ]
  },
  {
   "cell_type": "code",
   "execution_count": null,
   "id": "cc6bfb9a",
   "metadata": {},
   "outputs": [],
   "source": [
    "plot.set_plot_defaults()"
   ]
  },
  {
   "cell_type": "code",
   "execution_count": null,
   "id": "bad98edb",
   "metadata": {},
   "outputs": [],
   "source": [
    "db = thot.ThotProject( dev_root = '../s9/PLQY' )"
   ]
  },
  {
   "cell_type": "code",
   "execution_count": null,
   "id": "c35c57b6",
   "metadata": {},
   "outputs": [],
   "source": [
    "# seperate assets\n",
    "em_filter = '450LPF'\n",
    "assets = db.find_assets( { 'type': 'raw PL spectrum' } )\n",
    "\n",
    "no_samples = thot.filter( { 'metadata.name': 'no sample' }, assets )\n",
    "no_sample = thot.filter( { 'metadata.em_filter': em_filter }, no_samples )[ 0 ]\n",
    "\n",
    "samples = thot.filter( { 'metadata.em_filter': em_filter }, assets )\n",
    "samples = list( filter( lambda asset: asset not in no_samples, samples ) )"
   ]
  },
  {
   "cell_type": "code",
   "execution_count": null,
   "id": "aaeda5ef",
   "metadata": {},
   "outputs": [],
   "source": [
    "# group samples\n",
    "names = { sample.metadata[ 'name' ] for sample in samples }\n",
    "groups = {}\n",
    "for name in names:\n",
    "    groups[ name ] = thot.filter( { 'metadata.name': name }, samples )"
   ]
  },
  {
   "cell_type": "markdown",
   "id": "8a5678ff",
   "metadata": {},
   "source": [
    "### import group data"
   ]
  },
  {
   "cell_type": "code",
   "execution_count": null,
   "id": "fac1fcd3",
   "metadata": {},
   "outputs": [],
   "source": [
    "def import_asset_spectra( asset, name ):\n",
    "    return pd.read_csv(\n",
    "        asset.file,\n",
    "        header = None,\n",
    "        index_col = 0,\n",
    "        names = ( 'wavelength', name )\n",
    "    )"
   ]
  },
  {
   "cell_type": "code",
   "execution_count": null,
   "id": "02440bdb",
   "metadata": {},
   "outputs": [],
   "source": [
    "ndf = import_asset_spectra( no_sample, 'no' )\n",
    "\n",
    "df = []\n",
    "for gname, group in groups.items():\n",
    "    for asset in group:\n",
    "        if asset.metadata[ 'fsip' ] == 'fs':\n",
    "            name = 'fs'\n",
    "\n",
    "        else:\n",
    "            if asset.metadata[ 'inboob' ] == 'inbeam':\n",
    "                name = 'in'\n",
    "\n",
    "            else: \n",
    "                name = 'out'\n",
    "\n",
    "        tdf = import_asset_spectra( asset, name )\n",
    "        tdf.columns = pd.MultiIndex.from_tuples( [\n",
    "            ( gname, head ) for head in tdf.columns\n",
    "        ], names = ( 'group', 'spectra' ) )\n",
    "\n",
    "        df.append( tdf )\n",
    "\n",
    "df = pd.concat( df, axis = 1 ).sort_index( axis = 1 )"
   ]
  },
  {
   "cell_type": "code",
   "execution_count": null,
   "id": "da521e3e",
   "metadata": {},
   "outputs": [],
   "source": [
    "df.head()"
   ]
  },
  {
   "cell_type": "markdown",
   "id": "8a1afddc",
   "metadata": {},
   "source": [
    "### remove outliers"
   ]
  },
  {
   "cell_type": "code",
   "execution_count": null,
   "id": "ef4920a6",
   "metadata": {},
   "outputs": [],
   "source": [
    "outlier_threshold = 3\n",
    "\n",
    "cdf = df[ ( np.abs( zscore( df ) ) < outlier_threshold ) ]"
   ]
  },
  {
   "cell_type": "markdown",
   "id": "833e5fa1",
   "metadata": {},
   "source": [
    "### smooth curves"
   ]
  },
  {
   "cell_type": "code",
   "execution_count": null,
   "id": "2e61bbc8",
   "metadata": {},
   "outputs": [],
   "source": [
    "sdf = stdfn.resample( cdf, 'samples', cdf.shape[ 0 ] )\n",
    "sndf = stdfn.resample( ndf, 'samples', ndf.shape[ 0 ] )\n",
    "\n",
    "if db.dev_mode():\n",
    "    # plot group results\n",
    "    gname = '9 - 25mw'\n",
    "    gdf = cdf.xs( gname, level = 'group', axis = 1 )\n",
    "    fig, axs = plt.subplots( 2, 2, sharex = True )\n",
    "    for ax, ( name, tdf ) in zip( axs.flatten(), gdf.items() ):\n",
    "        tsdf = sdf[ ( gname, name ) ]\n",
    "\n",
    "        tdf.plot( c = 'C0', ax = ax )\n",
    "        tsdf.plot( c = 'C1', ax = ax )\n",
    "\n",
    "        ax.set_title( name )\n",
    "    \n",
    "    ax = axs[ -1, -1 ] \n",
    "    ndf.plot( ax = ax, legend = False )\n",
    "    sndf.plot( ax = ax, legend = False )\n",
    "\n",
    "    fig.tight_layout()"
   ]
  },
  {
   "cell_type": "code",
   "execution_count": null,
   "id": "5f07b168",
   "metadata": {},
   "outputs": [],
   "source": [
    "window = 0.05  # window size percent\n",
    "window = int( window* sdf.shape[ 0 ] )\n",
    "if not window %2:\n",
    "    # ensure odd window\n",
    "    window += 1\n",
    "\n",
    "sdf = sdf.apply( lambda x: savgol( x, window_length = window, polyorder = 2 ) )\n",
    "sndf = sndf.apply( lambda x: savgol( x, window_length = window, polyorder = 2 ) )\n",
    "\n",
    "for gname in groups.keys():\n",
    "    # plot group results\n",
    "    gname = '9 - 25mw'\n",
    "    gdf = df.xs( gname, level = 'group', axis = 1 )\n",
    "    fig, axs = plt.subplots( 2, 2, sharex = True )\n",
    "    for ax, ( name, tdf ) in zip( axs.flatten(), gdf.items() ):\n",
    "        tsdf = sdf[ ( gname, name ) ]\n",
    "\n",
    "        tdf.plot( c = 'C0', ax = ax )\n",
    "        tsdf.plot( c = 'C1', ax = ax )\n",
    "\n",
    "        ax.set_title( name )\n",
    "        \n",
    "    ax = axs[ -1, -1 ] \n",
    "    ndf.plot( ax = ax, legend = False )\n",
    "    sndf.plot( ax = ax, legend = False )\n",
    "\n",
    "    fig.tight_layout()\n",
    "    \n",
    "    asset = {\n",
    "        'file': f'{gname}-smoothing_plot-no_sample_bg_correction.png'\n",
    "    }\n",
    "    \n",
    "    asset_path = db.add_asset( asset )\n",
    "    plot.save_figure( asset_path, fig = fig )\n",
    "    \n",
    "    plt.close()"
   ]
  },
  {
   "cell_type": "markdown",
   "id": "3c705d47",
   "metadata": {},
   "source": [
    "### scale signals\n",
    "no sample scales on high energy side of in beam and out beam.\n",
    "\n",
    "in beam and out beam scale on low energy side of free space."
   ]
  },
  {
   "cell_type": "code",
   "execution_count": null,
   "id": "3bdf7142",
   "metadata": {},
   "outputs": [],
   "source": [
    "def scale_fit( df, target ):\n",
    "    \"\"\"\n",
    "    Scale data to as closely match a target on their overlapping domain.\n",
    "    \n",
    "    :param df: Series to scale.\n",
    "    :param target: Target Series.\n",
    "    :returns: Best fit scaling factor.\n",
    "    \"\"\"\n",
    "    df = df.dropna()\n",
    "    target = target.dropna()\n",
    "    \n",
    "    idx_min = max( df.index.min(), target.index.min() )\n",
    "    idx_max = min( df.index.max(), target.index.max() )\n",
    "    \n",
    "    rdf = df[ ( df.index > idx_min ) & ( df.index < idx_max ) ]\n",
    "    tdf = target[ ( target.index > idx_min ) & ( target.index < idx_max ) ]\n",
    "    \n",
    "    def _cost( a ):\n",
    "        diff = ( a* rdf ).subtract( tdf, axis = 0 )\n",
    "        diff = stdfn.integrate_df( diff ).apply( np.square )\n",
    "        return diff.values[ 0 ]\n",
    "    \n",
    "    fit = minimize_scalar( _cost, bounds = ( 0, None ) )\n",
    "    \n",
    "    return ( fit.x, fit )"
   ]
  },
  {
   "cell_type": "code",
   "execution_count": null,
   "id": "f83aca10",
   "metadata": {},
   "outputs": [],
   "source": [
    "odf = df.xs( 'out', level = 'spectra', axis = 1 )\n",
    "idf = df.xs( 'in', level = 'spectra', axis = 1 )\n",
    "\n",
    "# free space, low energy scale\n",
    "fsdf = sdf.xs( 'fs', level = 'spectra', axis = 1 )\n",
    "fs_peak = fsdf.idxmax()\n",
    "\n",
    "fsdf = cdf.xs( 'fs', level = 'spectra', axis = 1 )\n",
    "fs_mask = fsdf.apply( lambda x: ( x.index > fs_peak[ x.name ] ) )\n",
    "fsdf_scale = fsdf[ fs_mask ]\n",
    "\n",
    "# no sample, high energy scale\n",
    "ns_peak = sndf.idxmax()[ 'no' ]\n",
    "ndf_scale = ndf[ ndf.index < ns_peak ]"
   ]
  },
  {
   "cell_type": "code",
   "execution_count": null,
   "id": "c9ba07d6",
   "metadata": {},
   "outputs": [],
   "source": [
    "scales = pd.DataFrame()\n",
    "for gname in groups.keys():\n",
    "    # no sample fits\n",
    "    a_out, out_fit = scale_fit( ndf_scale, odf[ gname ] )\n",
    "    a_in, in_fit = scale_fit( ndf_scale, idf[ gname ] )\n",
    "\n",
    "    # free space fit\n",
    "    a_fs, fs_fit = scale_fit( fsdf_scale[ gname ], idf[ gname ] )\n",
    "    \n",
    "    scales[ gname ] = [ a_out, out_fit, a_in, in_fit, a_fs, fs_fit ]\n",
    "    \n",
    "scales.index = pd.MultiIndex.from_product(\n",
    "    ( ( 'out', 'in', 'fs' ), ( 'a', 'fit' ) ),\n",
    "    names = ( 'signal', 'fit' )\n",
    ")\n",
    "\n",
    "scales = scales.sort_index( axis = 1 )"
   ]
  },
  {
   "cell_type": "code",
   "execution_count": null,
   "id": "2600fc76",
   "metadata": {},
   "outputs": [],
   "source": [
    "if db.dev_mode():\n",
    "    gname = '9 - 25mw'\n",
    "    \n",
    "    scale = scales[ gname ].xs( 'a', level = 'fit' )\n",
    "    fig, axs = plt.subplots( 2, sharex = True )\n",
    "    \n",
    "    # in beam\n",
    "    ax = axs[ 0 ]\n",
    "    ax.set_title( 'in beam' )\n",
    "    idf[ gname ].clip( lower = 0 ).plot( ax = ax )\n",
    "    ( ndf* scale[ 'in' ] ).clip( lower = 0 ).plot( ax = ax )\n",
    "    ( fsdf[ gname ]* scale[ 'fs' ] ).plot( ax = ax )\n",
    "\n",
    "    # out beam\n",
    "    ax = axs[ 1 ]\n",
    "    ax.set_title( 'out beam' )\n",
    "    odf[ gname ].clip( lower = 0 ).plot( ax = ax )\n",
    "    ( ndf* scale[ 'out' ] ).clip( lower = 0 ).plot( ax = ax )\n",
    "\n",
    "    fig.tight_layout()"
   ]
  },
  {
   "cell_type": "markdown",
   "id": "688d761f",
   "metadata": {},
   "source": [
    "### correct signal"
   ]
  },
  {
   "cell_type": "code",
   "execution_count": null,
   "id": "b93918f0",
   "metadata": {},
   "outputs": [],
   "source": [
    "corr = []\n",
    "for gname in groups.keys():\n",
    "    scale = scales[ gname ].xs( 'a', level = 'fit' )\n",
    "    \n",
    "    # in beam\n",
    "    corr_df = ndf[ 'no' ]* scale[ 'in' ]\n",
    "    corr_df, cidf = stdfn.common_reindex( [ corr_df, idf[ gname ] ] )\n",
    "\n",
    "    cidf = cidf.subtract( corr_df, axis = 0 )\n",
    "    cidf = cidf.rename( ( gname, 'in' ) )\n",
    "    corr.append( cidf )\n",
    "    \n",
    "    # out bemam\n",
    "    corr_df = ndf[ 'no' ]* scale[ 'out' ]\n",
    "    corr_df, codf = stdfn.common_reindex( [ corr_df, odf[ gname ] ] )\n",
    "\n",
    "    codf = codf.subtract( corr_df, axis = 0 )\n",
    "    codf = codf.rename( ( gname, 'out' ) )\n",
    "    corr.append( codf )\n",
    "    \n",
    "corr = pd.concat( corr, axis = 1 ).sort_index( axis = 1 )"
   ]
  },
  {
   "cell_type": "code",
   "execution_count": null,
   "id": "19645f08",
   "metadata": {},
   "outputs": [],
   "source": [
    "for gname in groups.keys():\n",
    "    gdf = corr[ gname ]\n",
    "    scale = scales[ gname ].xs( 'a', level = 'fit' )\n",
    "    \n",
    "    fig, axs = plt.subplots( 2, sharex = True )\n",
    "\n",
    "    # in beam\n",
    "    ax = axs[ 0 ]\n",
    "    ax.set_title( 'in beam' )\n",
    "    gdf[ 'in' ].clip( lower = 0 ).plot( ax = ax )\n",
    "    idf[ gname ].clip( lower = 0 ).plot( alpha = 0.6, ax = ax )\n",
    "    ( ndf* scale[ 'in' ] ).clip( lower = 0 ).plot( alpha = 0.6, ax = ax )\n",
    "    ( fsdf[ gname ]* scale[ 'fs' ] ).plot( alpha = 0.6, ax = ax )\n",
    "    \n",
    "    ax.legend( [ 'bg corrected', 'raw', 'no sample', 'fs' ] )\n",
    "\n",
    "    # out beam\n",
    "    ax = axs[ 1 ]\n",
    "    ax.set_title( 'out beam' )\n",
    "    gdf[ 'out' ].clip( lower = 0 ).plot( ax = ax )\n",
    "    odf[ gname ].clip( lower = 0 ).plot( alpha = 0.6, ax = ax )\n",
    "    ( ndf* scale[ 'out' ] ).clip( lower = 0 ).plot( alpha = 0.6, ax = ax )\n",
    "    \n",
    "    ax.legend( [ 'bg corrected', 'raw', 'no sample' ] )\n",
    "\n",
    "    fig.tight_layout()\n",
    "    \n",
    "    asset = {\n",
    "        'file': f'{gname}-corrected_plot-no_sample_bg_correction.png'\n",
    "    }\n",
    "    \n",
    "    asset_path = db.add_asset( asset )\n",
    "    plot.save_figure( asset_path, fig = fig )\n",
    "                \n",
    "    plt.close()"
   ]
  },
  {
   "cell_type": "code",
   "execution_count": null,
   "id": "ededa9f6",
   "metadata": {},
   "outputs": [],
   "source": [
    "def corrected_asset( asset ):\n",
    "    \"\"\"\n",
    "    Create the corrected version of the asset.\n",
    "    \"\"\"\n",
    "    file, ext = path.splitext( path.basename( asset.file ) )\n",
    "    file = f'{file}-corrected{ext}'\n",
    "    c_asset = {\n",
    "        'name': f'{asset.name} - corrected',\n",
    "        'type': f'{asset.type} - corrected',\n",
    "        'metadata': asset.metadata,\n",
    "        'file': file\n",
    "    }\n",
    "    \n",
    "    return c_asset"
   ]
  },
  {
   "cell_type": "code",
   "execution_count": null,
   "id": "be726dfd",
   "metadata": {},
   "outputs": [],
   "source": [
    "# export assets\n",
    "for gname, group in groups.items():\n",
    "    # in beam\n",
    "    in_asset = thot.filter( { 'metadata.inboob': 'inbeam' }, group )[ 0 ]\n",
    "    cin_asset = corrected_asset( in_asset )\n",
    "    in_path = db.add_asset( cin_asset )\n",
    "    \n",
    "    cindf = corr[ ( gname, 'in' ) ]\n",
    "    cindf.to_csv( in_path, header = False )\n",
    "    \n",
    "     # out beam\n",
    "    out_asset = thot.filter( { 'metadata.inboob': 'outofbeam' }, group )[ 0 ]\n",
    "    cout_asset = corrected_asset( out_asset )\n",
    "    out_path = db.add_asset( cout_asset )\n",
    "    \n",
    "    coutdf = corr[ ( gname, 'in' ) ]\n",
    "    coutdf.to_csv( out_path, header = False )"
   ]
  },
  {
   "cell_type": "code",
   "execution_count": null,
   "id": "60e99834",
   "metadata": {},
   "outputs": [],
   "source": []
  }
 ],
 "metadata": {
  "kernelspec": {
   "display_name": "Python 3 (ipykernel)",
   "language": "python",
   "name": "python3"
  },
  "language_info": {
   "codemirror_mode": {
    "name": "ipython",
    "version": 3
   },
   "file_extension": ".py",
   "mimetype": "text/x-python",
   "name": "python",
   "nbconvert_exporter": "python",
   "pygments_lexer": "ipython3",
   "version": "3.9.13"
  }
 },
 "nbformat": 4,
 "nbformat_minor": 5
}
