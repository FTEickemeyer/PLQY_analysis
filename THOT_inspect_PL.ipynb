{
 "cells": [
  {
   "cell_type": "markdown",
   "metadata": {},
   "source": [
    "# **Inspect PL**\n",
    "\n",
    "_by Felix Eickemeyer_\n",
    "\n",
    "This notebook can be used to inspect the individual calibrated spectra.\n",
    "Calibration and correction has to be done before.\n",
    "__"
   ]
  },
  {
   "cell_type": "code",
   "execution_count": null,
   "metadata": {},
   "outputs": [],
   "source": [
    "%matplotlib inline\n",
    "import os\n",
    "from os import getcwd, listdir\n",
    "import thot\n",
    "from thot import ThotProject\n",
    "import importlib\n",
    "from importlib import reload\n",
    "\n",
    "from FTE_analysis_libraries import General as gen\n",
    "from FTE_analysis_libraries import PLQY as lqy\n",
    "from FTE_analysis_libraries import Spectrum as spc\n",
    "from FTE_analysis_libraries.General import f1240, Vsq, V_loss, QFLS\n",
    "\n",
    "reload(gen)\n",
    "reload(spc)\n",
    "reload(lqy)\n",
    "pass"
   ]
  },
  {
   "cell_type": "code",
   "execution_count": null,
   "metadata": {},
   "outputs": [],
   "source": [
    "# Initializes Thot project\n",
    "db = ThotProject( dev_root = r'PLQY_results' )"
   ]
  },
  {
   "cell_type": "code",
   "execution_count": null,
   "metadata": {},
   "outputs": [],
   "source": [
    "samples = db.find_assets({'type' : 'calibrated PL spectrum'})\n",
    "for idx, sample in enumerate(samples):\n",
    "    print(f'{idx:2}: {sample.name}')    "
   ]
  },
  {
   "cell_type": "code",
   "execution_count": null,
   "metadata": {},
   "outputs": [],
   "source": [
    "#Select samples and change order\n",
    "do_this_step = False\n",
    "if do_this_step:\n",
    "    order = [0, 1, 2, 3, 4, 20, 21, 22, 23] #project 1\n",
    "    samples_new = [samples[order[idx]] for idx in range(len(order))]\n",
    "    for idx, sample in enumerate(samples_new):\n",
    "        print(f'{idx:2}: {sample.name}')\n",
    "    do_this_step = False\n",
    "else:\n",
    "    samples_new = samples"
   ]
  },
  {
   "cell_type": "code",
   "execution_count": null,
   "metadata": {},
   "outputs": [],
   "source": [
    "samples = samples_new\n",
    "def load_spectrum(asset):\n",
    "    dtry = os.path.dirname(asset.file)\n",
    "    FN = os.path.basename(asset.file)\n",
    "    #print(FN)\n",
    "    return spc.PEL_spectrum.load(dtry, FN = FN, take_quants_and_units_from_file = True)\n",
    "sa = []\n",
    "for idx, sample in enumerate(samples):\n",
    "    sa.append(load_spectrum(sample))\n",
    "    print(f'{idx:2}: {sample.name}')"
   ]
  },
  {
   "cell_type": "code",
   "execution_count": null,
   "metadata": {},
   "outputs": [],
   "source": [
    "allPL = spc.PEL_spectra(sa)\n",
    "#allPL.normalize()\n",
    "allPL.names_to_label()\n",
    "\n",
    "for idx in range(len(samples)):\n",
    "    allPL.sa[idx].plotstyle = dict(color = gen.colors[idx], linewidth = 5, linestyle = '-')\n",
    "    sm = samples[idx].metadata\n",
    "    s_name = samples[idx].name.split('_calibrated')[0]\n",
    "    PF = allPL.sa[idx].photonflux(start = 700, stop = 900)\n",
    "#allPL.sa[0].plotstyle = dict(color = gen.colors[0], linewidth = 5, linestyle = '-')\n",
    "#allPL.sa[1].plotstyle = dict(color = gen.colors[0], linewidth = 5, linestyle = '-')\n",
    "#allPL.sa[2].plotstyle = dict(color = gen.colors[0], linewidth = 5, linestyle = '-')\n",
    "#allPL.sa[3].plotstyle = dict(color = gen.colors[0], linewidth = 5, linestyle = '-')\n",
    "#allPL.sa[4].plotstyle = dict(color = gen.colors[0], linewidth = 5, linestyle = '-')\n",
    "#allPL.sa[5].plotstyle = dict(color = gen.colors[1], linewidth = 5, linestyle = '-')\n",
    "#allPL.sa[6].plotstyle = dict(color = gen.colors[1], linewidth = 5, linestyle = '-')\n",
    "#allPL.sa[7].plotstyle = dict(color = gen.colors[1], linewidth = 5, linestyle = '-')\n",
    "#allPL.sa[8].plotstyle = dict(color = gen.colors[1], linewidth = 5, linestyle = '-')\n",
    "#allPL.sa[9].plotstyle = dict(color = gen.colors[1], linewidth = 5, linestyle = '--')\n",
    "#allPL.sa[10].plotstyle = dict(color = gen.colors[2], linewidth = 5, linestyle = '-')\n",
    "#allPL.sa[11].plotstyle = dict(color = gen.colors[2], linewidth = 5, linestyle = '-')\n",
    "#allPL.sa[12].plotstyle = dict(color = gen.colors[2], linewidth = 5, linestyle = '-')\n",
    "#allPL.sa[13].plotstyle = dict(color = gen.colors[2], linewidth = 5, linestyle = '-')\n",
    "#allPL.sa[14].plotstyle = dict(color = gen.colors[2], linewidth = 5, linestyle = '-')\n",
    "\n",
    "allPL.label(['s1', 's2', 's3', 's4', 's5', 's6'])\n",
    "all_graph = allPL.plot(yscale = 'log', bottom =1e13, left = 460, plotstyle = 'individual', figsize = (8, 6), return_fig = True, show_plot = False)\n",
    "lqy.add_graph(db, 'all_PL_spectra_log.png', all_graph)\n",
    "del all_graph\n"
   ]
  },
  {
   "cell_type": "code",
   "execution_count": null,
   "metadata": {},
   "outputs": [],
   "source": []
  }
 ],
 "metadata": {
  "kernelspec": {
   "display_name": "Python 3 (ipykernel)",
   "language": "python",
   "name": "python3"
  },
  "language_info": {
   "codemirror_mode": {
    "name": "ipython",
    "version": 3
   },
   "file_extension": ".py",
   "mimetype": "text/x-python",
   "name": "python",
   "nbconvert_exporter": "python",
   "pygments_lexer": "ipython3",
   "version": "3.8.12"
  }
 },
 "nbformat": 4,
 "nbformat_minor": 4
}
