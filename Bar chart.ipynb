{
 "cells": [
  {
   "cell_type": "code",
   "execution_count": null,
   "id": "2b3a5093-1395-4ce8-af59-20b01c8a7191",
   "metadata": {},
   "outputs": [],
   "source": [
    "import os\n",
    "import numpy as np\n",
    "import pandas as pd\n",
    "\n",
    "import matplotlib.pyplot as plt\n",
    "import thot\n",
    "from thot import ThotProject\n",
    "from FTE_analysis_libraries import PLQY as lqy"
   ]
  },
  {
   "cell_type": "code",
   "execution_count": null,
   "id": "c91d3b70-f620-4d13-aa06-ded37d56e2ea",
   "metadata": {},
   "outputs": [],
   "source": [
    "# Initializes Thot project\n",
    "db = ThotProject(dev_root=r'PLQY_results')"
   ]
  },
  {
   "cell_type": "code",
   "execution_count": null,
   "id": "7a43ccb2-2941-4bde-9330-159f0b461b05",
   "metadata": {
    "tags": []
   },
   "outputs": [],
   "source": [
    "PLQY = db.find_assets({'type': 'xlsx'})\n",
    "fp = PLQY[0].file"
   ]
  },
  {
   "cell_type": "code",
   "execution_count": null,
   "id": "0ac79ad3-f5cb-4129-ab5a-b1db3d80347f",
   "metadata": {},
   "outputs": [],
   "source": [
    "#fp = r'C:\\Users\\dreickem\\switchdrive\\Work\\Python\\PL\\Steady_state_PL\\PLQY\\PLQY_results\\exchange\\PLQY.xlsx'"
   ]
  },
  {
   "cell_type": "code",
   "execution_count": null,
   "id": "4d83d46b-ba66-4586-af26-e3edf0df8f73",
   "metadata": {},
   "outputs": [],
   "source": [
    "df = pd.read_excel(fp)\n",
    "df.head(n=len(df))"
   ]
  },
  {
   "cell_type": "code",
   "execution_count": null,
   "id": "052fc889-5ee1-4099-9792-6754023b7aca",
   "metadata": {},
   "outputs": [],
   "source": [
    "# modify 'Sample' string if necessary\n",
    "if False:\n",
    "    for sample in df['Sample']:\n",
    "        if len(sample.split('-')[-1].split('_')[0]) == 3:\n",
    "            print(sample)\n",
    "    #print(df['Sample'].str.split('_'))"
   ]
  },
  {
   "cell_type": "code",
   "execution_count": null,
   "id": "e46f1751-0b1a-428e-9c21-cd579cd4fd33",
   "metadata": {},
   "outputs": [],
   "source": [
    "# Change Sample name so that it is exactly the same for all equivalent samples\n",
    "df['Sample'] = df['Sample'].str.split('_').str.get(0)\n",
    "#df['Sample'] = df['Sample'].str.split('-').str.get(0)\n",
    "#df['Sample'] = np.asarray(list(df['Sample'].str.split('_').values))[:,0]\n",
    "df.head(n=len(df))"
   ]
  },
  {
   "cell_type": "code",
   "execution_count": null,
   "id": "3d88b9de-9f7b-442b-9d73-93729fb0ef9d",
   "metadata": {},
   "outputs": [],
   "source": [
    "# modify 'Sample' string if necessary\n",
    "if False:\n",
    "    for idx, sample in enumerate(df['Sample']):\n",
    "        if len(sample.split('_')[-1]) == 3:\n",
    "            print(sample)\n",
    "            print(sample[:-4])\n",
    "            df.at[idx, 'Sample'] = sample[:-4]\n",
    "    df.head(n=len(df))"
   ]
  },
  {
   "cell_type": "code",
   "execution_count": null,
   "id": "c2914a0c-1c5e-4928-a307-485617809938",
   "metadata": {},
   "outputs": [],
   "source": [
    "# Now we can group it by the same name\n",
    "df_gr = df.groupby('Sample')\n",
    "# Calculate the standard deviation\n",
    "df_std = df_gr.std()\n",
    "df_std.reset_index(inplace=True)\n",
    "# ... and the mean value\n",
    "df_mean = df_gr.mean()\n",
    "df_mean.reset_index(inplace=True)\n",
    "# Display the grouped data\n",
    "df_mean.head(n=len(df_mean))"
   ]
  },
  {
   "cell_type": "code",
   "execution_count": null,
   "id": "debec604-1b7a-40fd-9fc8-ae977e24bed6",
   "metadata": {},
   "outputs": [],
   "source": [
    "#new_order = [1, 0, 5, 4, 3, 2, 8, 7, 6]\n",
    "new_order = [1, 2, 3, 0]\n",
    "\n",
    "mean = df_mean.reindex(new_order)\n",
    "mean = mean.reset_index()\n",
    "mean.pop('index')\n",
    "mean = mean.set_index('Sample').iloc[::-1]\n",
    "\n",
    "std = df_std.reindex(new_order)\n",
    "std = std.reset_index()\n",
    "std.pop('index')\n",
    "std = std.set_index('Sample').iloc[::-1]\n",
    "\n",
    "figs = []\n",
    "\n",
    "for column in mean.columns:\n",
    "    fig, ax = plt.subplots()\n",
    "    if column == 'PLQY':\n",
    "        logx = True\n",
    "        xlim = None\n",
    "    else:\n",
    "        logx = False\n",
    "        min_x = np.min(mean[column] - std[column])\n",
    "        max_x = np.max(mean[column] + std[column])\n",
    "        xlim = (min_x - 0.02*(max_x-min_x), max_x + 0.02*(max_x-min_x))\n",
    "    barplot = mean[column].plot.barh(xerr=std[column], ax=ax, logx=logx, ylabel='', xlabel=column, capsize=4, xlim=xlim, rot=0)\n",
    "    plt.tight_layout()\n",
    "    figs.append(fig)\n",
    "    plt.show()"
   ]
  },
  {
   "cell_type": "code",
   "execution_count": null,
   "id": "8de21698-ae8d-4b07-a8f5-301545cd409b",
   "metadata": {},
   "outputs": [],
   "source": [
    "# Save mean and std\n",
    "\n",
    "def save_mean_std(FN, df):\n",
    "    csv_asset_prop = dict(name='csv_'+FN, type='csv', file=FN)\n",
    "    csv_asset_filepath = db.add_asset(csv_asset_prop)\n",
    "    df.to_csv(csv_asset_filepath, header=True, index=True)\n",
    "    exch_dir = os.path.join(db.root, 'exchange')\n",
    "    filepath = os.path.join(exch_dir, FN)\n",
    "    df.to_csv(filepath, header=True, index=True)\n",
    "\n",
    "save_mean_std('PLQY_mean.csv', mean)\n",
    "save_mean_std('PLQY_std.csv', std)"
   ]
  },
  {
   "cell_type": "code",
   "execution_count": null,
   "id": "7095a201-3d3c-4c8b-baf9-8d3d72f7a43d",
   "metadata": {},
   "outputs": [],
   "source": [
    "for column, fig in zip(mean.columns, figs):\n",
    "    FN_barplot = 'barplot_'+column.replace('/q', '')+'.png'\n",
    "    print(FN_barplot)\n",
    "    lqy.add_graph(db, FN_barplot, fig)\n",
    "    exch_dir = os.path.join(db.root, 'exchange')\n",
    "    filepath = os.path.join(exch_dir, FN_barplot)\n",
    "    fig.savefig(filepath)"
   ]
  },
  {
   "cell_type": "code",
   "execution_count": null,
   "id": "89bc08cb-c77e-4aa9-97fa-ce945dbe5981",
   "metadata": {},
   "outputs": [],
   "source": []
  }
 ],
 "metadata": {
  "kernelspec": {
   "display_name": "Python 3 (ipykernel)",
   "language": "python",
   "name": "python3"
  },
  "language_info": {
   "codemirror_mode": {
    "name": "ipython",
    "version": 3
   },
   "file_extension": ".py",
   "mimetype": "text/x-python",
   "name": "python",
   "nbconvert_exporter": "python",
   "pygments_lexer": "ipython3",
   "version": "3.9.13"
  }
 },
 "nbformat": 4,
 "nbformat_minor": 5
}
