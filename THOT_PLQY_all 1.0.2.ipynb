{
 "cells": [
  {
   "cell_type": "markdown",
   "metadata": {},
   "source": [
    "# **PLQY_all**\n",
    "\n",
    "_by Felix Eickemeyer_\n",
    "\n",
    "Evaluation of all absolute PLQY data.\n",
    "__\n",
    "\n",
    "_Version 05.11.2021 in Python 3_\n",
    "\n",
    "_Change log:_  \n"
   ]
  },
  {
   "cell_type": "code",
   "execution_count": 1,
   "metadata": {},
   "outputs": [],
   "source": [
    "import os\n",
    "from os import getcwd, listdir\n",
    "import pandas as pd\n",
    "import thot\n",
    "from thot import ThotProject\n",
    "from importlib import reload\n",
    "\n",
    "from FTE_analysis_libraries import General as gen\n",
    "from FTE_analysis_libraries import PLQY as lqy\n",
    "from FTE_analysis_libraries import Spectrum as spc\n",
    "#from FTE_analysis_libraries.General import f1240, Vsq, V_loss, QFLS\n",
    "\n",
    "reload(spc)\n",
    "reload(lqy)\n",
    "pass"
   ]
  },
  {
   "cell_type": "code",
   "execution_count": 2,
   "metadata": {},
   "outputs": [],
   "source": [
    "# Initializes Thot project\n",
    "db = ThotProject( dev_root = r'PLQY_results' )"
   ]
  },
  {
   "cell_type": "code",
   "execution_count": 3,
   "metadata": {},
   "outputs": [
    {
     "name": "stdout",
     "output_type": "stream",
     "text": [
      " 0: glass-per-spiro_1_absolute PL spectrum\n"
     ]
    }
   ],
   "source": [
    "samples = db.find_assets({'type' : 'absolute PL spectrum'})\n",
    "for idx, sample in enumerate(samples):\n",
    "    print(f'{idx:2}: {sample.name}')    "
   ]
  },
  {
   "cell_type": "code",
   "execution_count": 4,
   "metadata": {},
   "outputs": [],
   "source": [
    "#Select samples and change order\n",
    "do_this_step = False\n",
    "if do_this_step:\n",
    "    order = [6, 7, 4, 5, 0, 1, 2, 3]\n",
    "    samples_new = [samples[order[idx]] for idx in range(len(order))]\n",
    "    for idx, sample in enumerate(samples_new):\n",
    "        print(f'{idx:2}: {sample.name}')\n",
    "    do_this_step = False\n",
    "else:\n",
    "    samples_new = samples"
   ]
  },
  {
   "cell_type": "code",
   "execution_count": 5,
   "metadata": {},
   "outputs": [
    {
     "name": "stdout",
     "output_type": "stream",
     "text": [
      " 0: glass-per-spiro_1_absolute PL spectrum\n"
     ]
    }
   ],
   "source": [
    "samples = samples_new\n",
    "def load_spectrum(asset):\n",
    "    return spc.PEL_spectrum.load(os.path.dirname(asset.file), FN = os.path.basename(asset.file)+'.csv', take_quants_and_units_from_file = True)\n",
    "sa = []\n",
    "for idx, sample in enumerate(samples):\n",
    "    sa.append(load_spectrum(sample))\n",
    "    print(f'{idx:2}: {sample.name}')"
   ]
  },
  {
   "cell_type": "code",
   "execution_count": 6,
   "metadata": {},
   "outputs": [
    {
     "data": {
      "image/png": "[encoded data removed]",
      "text/plain": [
       "<Figure size 648x432 with 1 Axes>"
      ]
     },
     "metadata": {
      "needs_background": "light"
     },
     "output_type": "display_data"
    }
   ],
   "source": [
    "allPL = spc.PEL_spectra(sa)\n",
    "allPL.names_to_label()\n",
    "\n",
    "allPL.sa[0].plotstyle = dict(color = gen.colors[0], linewidth = 5, linestyle = '-')\n",
    "#allPL.sa[1].plotstyle = dict(color = colors[0], linewidth = 5, linestyle = '-')\n",
    "#allPL.sa[2].plotstyle = dict(color = colors[1], linewidth = 5, linestyle = '-')\n",
    "#allPL.sa[3].plotstyle = dict(color = colors[1], linewidth = 5, linestyle = '-')\n",
    "#allPL.sa[4].plotstyle = dict(color = colors[2], linewidth = 5, linestyle = '-')\n",
    "#allPL.sa[5].plotstyle = dict(color = colors[2], linewidth = 5, linestyle = '-')\n",
    "#allPL.sa[6].plotstyle = dict(color = colors[3], linewidth = 5, linestyle = '-')\n",
    "#allPL.sa[7].plotstyle = dict(color = colors[3], linewidth = 5, linestyle = '-')\n",
    "\n",
    "all_graph = allPL.plot(bottom = 0, plotstyle = 'individual', return_fig = True, show_plot = False)\n",
    "lqy.add_graph(db, 'all_abolute_PL_spectra.png', all_graph)\n",
    "del all_graph\n"
   ]
  },
  {
   "cell_type": "code",
   "execution_count": 7,
   "metadata": {},
   "outputs": [],
   "source": [
    "names = []\n",
    "A_arr = []\n",
    "PLQY_arr = []\n",
    "peak_arr = []\n",
    "Eg_arr = []\n",
    "Vsq_arr = []\n",
    "dV_arr = []\n",
    "QFLS_arr = []\n",
    "adj_fac_arr = []\n",
    "fs_absint_fac_arr = []\n",
    "for sample in samples:\n",
    "    #print(sample.name.split('_absolute')[0])\n",
    "    sm = sample.metadata\n",
    "    #print(sm)\n",
    "    names.append(sample.name.split('_absolute')[0])\n",
    "    A_arr.append(sm['A'])\n",
    "    PLQY_arr.append(sm['PLQY'])\n",
    "    peak_arr.append(sm['Peak'])\n",
    "    Eg_arr.append(sm['Eg'])\n",
    "    Vsq_arr.append(sm['Vsq'])\n",
    "    dV_arr.append(sm['dV'])\n",
    "    QFLS_arr.append(sm['QFLS'])\n",
    "    adj_fac_arr.append(sm['adj_fac'])\n",
    "    fs_absint_fac_arr.append(sm['fs_absint_factor'])    "
   ]
  },
  {
   "cell_type": "code",
   "execution_count": 8,
   "metadata": {},
   "outputs": [],
   "source": [
    "# Save PLQY data\n",
    "do_this_step = True\n",
    "\n",
    "if do_this_step:\n",
    "\n",
    "    df = pd.DataFrame({'Sample' : names, 'A' : A_arr, 'PLQY' : PLQY_arr, 'PL_peak (nm)' : peak_arr, 'Eg (eV)' : Eg_arr, 'Vsq (V)' : Vsq_arr, 'delta V (V)': dV_arr, 'QFLS/q (V)' : QFLS_arr, 'fs-inb adjustment factor' : adj_fac_arr, 'fs-absolute intensity factor' : fs_absint_fac_arr})\n",
    "\n",
    "    directory = os.path.dirname(samples[0].file) \n",
    "    FN = 'PLQY.csv'\n",
    "    #if save_ok(join(directory, FN)):\n",
    "    #    df.to_csv(join(directory, FN), header = True, index = False)\n",
    "        \n",
    "    asset_prop = dict(name = 'csv_'+FN, type = 'csv', file = FN)\n",
    "    asset_filepath = db.add_asset(asset_prop)\n",
    "    df.to_csv(asset_filepath, header = True, index = False)\n",
    "    do_this_step = False"
   ]
  },
  {
   "cell_type": "code",
   "execution_count": null,
   "metadata": {},
   "outputs": [],
   "source": []
  }
 ],
 "metadata": {
  "kernelspec": {
   "display_name": "Python 3 (ipykernel)",
   "language": "python",
   "name": "python3"
  },
  "language_info": {
   "codemirror_mode": {
    "name": "ipython",
    "version": 3
   },
   "file_extension": ".py",
   "mimetype": "text/x-python",
   "name": "python",
   "nbconvert_exporter": "python",
   "pygments_lexer": "ipython3",
   "version": "3.8.12"
  }
 },
 "nbformat": 4,
 "nbformat_minor": 4
}
